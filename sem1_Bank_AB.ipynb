{
 "cells": [
  {
   "cell_type": "code",
   "execution_count": 2,
   "metadata": {
    "ExecuteTime": {
     "end_time": "2021-02-06T14:14:03.289820Z",
     "start_time": "2021-02-06T14:14:03.286481Z"
    },
    "pycharm": {
     "name": "#%%\n"
    }
   },
   "outputs": [],
   "source": [
    "import numpy as np\n",
    "import scipy\n",
    "import matplotlib.pyplot as plt\n",
    "import scipy.stats\n",
    "import statsmodels\n",
    "import statsmodels.sandbox.stats.multicomp\n",
    "import pandas as pd"
   ]
  },
  {
   "cell_type": "markdown",
   "metadata": {
    "pycharm": {
     "name": "#%% md\n"
    }
   },
   "source": [
    "# t-test"
   ]
  },
  {
   "cell_type": "markdown",
   "metadata": {
    "pycharm": {
     "name": "#%% md\n"
    }
   },
   "source": [
    "## Сгенерируем данные из нормального распределения"
   ]
  },
  {
   "cell_type": "code",
   "execution_count": 4,
   "metadata": {
    "ExecuteTime": {
     "end_time": "2021-02-06T14:14:48.200151Z",
     "start_time": "2021-02-06T14:14:48.196574Z"
    },
    "pycharm": {
     "name": "#%%\n"
    }
   },
   "outputs": [],
   "source": [
    "group_A = np.random.normal(25, 5, size=100)\n",
    "group_B = np.random.normal(25, 4, size=100)"
   ]
  },
  {
   "cell_type": "code",
   "execution_count": 5,
   "metadata": {
    "pycharm": {
     "name": "#%%\n"
    }
   },
   "outputs": [
    {
     "data": {
      "text/plain": "array([26.98723975, 25.31712284, 27.05841902, 21.28051444, 25.11882703,\n       24.21256388, 24.68526325, 31.91199802, 36.15722409, 20.45907708,\n       25.83662069, 16.02124371, 32.79473694, 24.84119204, 13.88237322,\n       20.23006516, 33.97051322, 34.39683969, 32.72152055, 26.80338043,\n       17.75733696, 21.63321508, 29.60071358, 26.05627753, 28.85038476,\n       23.04196609, 23.28066716, 31.91622006, 13.74192282, 13.08774926,\n       16.97382922, 30.42460395, 32.14627805, 23.36765596, 19.97385219,\n       23.77150164, 36.0908075 , 36.27840322, 25.25800268, 24.24375043,\n       31.75342896, 22.16414052, 20.52667119, 26.49676149, 19.71150773,\n       29.36033779, 35.29414278, 33.90872137, 23.84644841, 37.12868155,\n       27.72108511, 33.26791491, 34.15673325, 24.37895714, 22.33235408,\n       31.4746353 , 24.01156015, 30.60273531, 29.82357046, 21.27917243,\n       26.79070958, 19.71236818, 25.06727635, 32.30717997, 20.48257597,\n       22.91461382, 18.56236232, 27.93320526, 19.35013961, 30.96351219,\n       19.37612464, 32.9279856 , 24.859261  , 23.44415006, 14.85015294,\n       23.94750336, 24.56377097, 30.21318087, 34.75045354, 22.29542905,\n       18.1322221 , 23.57854661, 30.93944589, 33.60899117, 17.05767318,\n       31.0598435 , 31.63118757, 25.40910966, 22.04588302, 26.67606254,\n       30.35462194, 24.8983557 , 18.95708342, 29.43036527, 22.20332623,\n       25.2120785 , 27.63166015, 24.26877147, 22.9045891 , 25.20783274])"
     },
     "execution_count": 5,
     "metadata": {},
     "output_type": "execute_result"
    }
   ],
   "source": [
    "group_A"
   ]
  },
  {
   "cell_type": "code",
   "execution_count": 6,
   "metadata": {
    "ExecuteTime": {
     "end_time": "2021-02-06T14:14:59.061232Z",
     "start_time": "2021-02-06T14:14:59.056784Z"
    },
    "pycharm": {
     "name": "#%%\n"
    }
   },
   "outputs": [
    {
     "name": "stdout",
     "output_type": "stream",
     "text": [
      "25.87941038122606 24.296892283739723\n"
     ]
    }
   ],
   "source": [
    "print(group_A.mean(), group_B.mean())"
   ]
  },
  {
   "cell_type": "code",
   "execution_count": null,
   "metadata": {
    "pycharm": {
     "name": "#%%\n",
     "is_executing": true
    }
   },
   "outputs": [],
   "source": []
  },
  {
   "cell_type": "code",
   "execution_count": 7,
   "metadata": {
    "ExecuteTime": {
     "end_time": "2021-02-06T14:15:26.891914Z",
     "start_time": "2021-02-06T14:15:26.885084Z"
    },
    "pycharm": {
     "name": "#%%\n"
    }
   },
   "outputs": [
    {
     "data": {
      "text/plain": "0.030058579293100754"
     },
     "execution_count": 7,
     "metadata": {},
     "output_type": "execute_result"
    }
   ],
   "source": [
    "scipy.stats.ttest_ind(group_A, group_B).pvalue"
   ]
  },
  {
   "cell_type": "markdown",
   "metadata": {
    "pycharm": {
     "name": "#%% md\n"
    }
   },
   "source": [
    "## Изменим средние"
   ]
  },
  {
   "cell_type": "code",
   "execution_count": 8,
   "metadata": {
    "ExecuteTime": {
     "end_time": "2021-02-06T14:16:10.417090Z",
     "start_time": "2021-02-06T14:16:10.413220Z"
    },
    "pycharm": {
     "name": "#%%\n"
    }
   },
   "outputs": [],
   "source": [
    "group_A = np.random.normal(20, 11, size=100)\n",
    "group_B = np.random.normal(25, 10, size=100)"
   ]
  },
  {
   "cell_type": "code",
   "execution_count": 9,
   "metadata": {
    "ExecuteTime": {
     "end_time": "2021-02-06T14:16:12.092750Z",
     "start_time": "2021-02-06T14:16:12.088201Z"
    },
    "pycharm": {
     "name": "#%%\n"
    }
   },
   "outputs": [
    {
     "data": {
      "text/plain": "0.004102493218987625"
     },
     "execution_count": 9,
     "metadata": {},
     "output_type": "execute_result"
    }
   ],
   "source": [
    "scipy.stats.ttest_ind(group_A, group_B).pvalue"
   ]
  },
  {
   "cell_type": "markdown",
   "metadata": {
    "pycharm": {
     "name": "#%% md\n"
    }
   },
   "source": [
    "## Увеличим размер выборки"
   ]
  },
  {
   "cell_type": "code",
   "execution_count": 18,
   "metadata": {
    "ExecuteTime": {
     "end_time": "2021-02-06T14:23:58.341445Z",
     "start_time": "2021-02-06T14:23:58.337774Z"
    },
    "pycharm": {
     "name": "#%%\n"
    }
   },
   "outputs": [],
   "source": [
    "group_A = np.random.normal(24, 9, size=1000)\n",
    "group_B = np.random.normal(25, 10, size=1000)"
   ]
  },
  {
   "cell_type": "code",
   "execution_count": 19,
   "metadata": {
    "ExecuteTime": {
     "end_time": "2021-02-06T14:23:58.799429Z",
     "start_time": "2021-02-06T14:23:58.795352Z"
    },
    "pycharm": {
     "name": "#%%\n"
    }
   },
   "outputs": [
    {
     "data": {
      "text/plain": "0.04112532033307511"
     },
     "execution_count": 19,
     "metadata": {},
     "output_type": "execute_result"
    }
   ],
   "source": [
    "scipy.stats.ttest_ind(group_A, group_B).pvalue"
   ]
  },
  {
   "cell_type": "markdown",
   "metadata": {
    "pycharm": {
     "name": "#%% md\n"
    }
   },
   "source": [
    "## Давайте теперь возьмем данные из ненормального распределения"
   ]
  },
  {
   "cell_type": "code",
   "execution_count": 20,
   "metadata": {
    "ExecuteTime": {
     "end_time": "2021-02-06T14:18:03.165507Z",
     "start_time": "2021-02-06T14:18:03.162530Z"
    },
    "pycharm": {
     "name": "#%%\n"
    }
   },
   "outputs": [],
   "source": [
    "group_A = np.random.gamma(1, 2, size = 100)\n",
    "group_B = np.random.gamma(1, 2, size = 100)"
   ]
  },
  {
   "cell_type": "code",
   "execution_count": 21,
   "metadata": {
    "ExecuteTime": {
     "end_time": "2021-02-06T14:18:18.698305Z",
     "start_time": "2021-02-06T14:18:18.695279Z"
    },
    "pycharm": {
     "name": "#%%\n"
    }
   },
   "outputs": [
    {
     "name": "stdout",
     "output_type": "stream",
     "text": [
      "2.1247718554775594 2.345031682694967\n"
     ]
    }
   ],
   "source": [
    "print(group_A.mean(), group_B.mean())"
   ]
  },
  {
   "cell_type": "code",
   "execution_count": 22,
   "metadata": {
    "ExecuteTime": {
     "end_time": "2021-02-06T14:18:21.663353Z",
     "start_time": "2021-02-06T14:18:21.527942Z"
    },
    "pycharm": {
     "name": "#%%\n"
    }
   },
   "outputs": [
    {
     "data": {
      "text/plain": "(array([18., 20., 13.,  9.,  7.,  6.,  6.,  5.,  3.,  3.,  0.,  0.,  1.,\n         1.,  2.,  0.,  0.,  0.,  2.,  0.,  1.,  1.,  0.,  1.,  0.,  0.,\n         0.,  0.,  0.,  0.,  0.,  1.]),\n array([ 0.0240826 ,  0.45810294,  0.89212328,  1.32614363,  1.76016397,\n         2.19418431,  2.62820465,  3.062225  ,  3.49624534,  3.93026568,\n         4.36428602,  4.79830637,  5.23232671,  5.66634705,  6.10036739,\n         6.53438774,  6.96840808,  7.40242842,  7.83644876,  8.27046911,\n         8.70448945,  9.13850979,  9.57253013, 10.00655047, 10.44057082,\n        10.87459116, 11.3086115 , 11.74263184, 12.17665219, 12.61067253,\n        13.04469287, 13.47871321, 13.91273356]),\n <BarContainer object of 32 artists>)"
     },
     "execution_count": 22,
     "metadata": {},
     "output_type": "execute_result"
    },
    {
     "data": {
      "text/plain": "<Figure size 700x700 with 1 Axes>",
      "image/png": "[encoded data removed]"
     },
     "metadata": {},
     "output_type": "display_data"
    }
   ],
   "source": [
    "plt.figure(figsize=(7,7))\n",
    "plt.hist(group_A, bins = 32, color='red',  linewidth=2)\n",
    "#plt.grid(True)\n",
    "#sns.kdeplot(group_A, color = 'blue', linewidth=3);"
   ]
  },
  {
   "cell_type": "code",
   "execution_count": 23,
   "metadata": {
    "ExecuteTime": {
     "end_time": "2021-02-06T14:19:05.887238Z",
     "start_time": "2021-02-06T14:19:05.883055Z"
    },
    "pycharm": {
     "name": "#%%\n"
    }
   },
   "outputs": [
    {
     "data": {
      "text/plain": "0.5204729213420471"
     },
     "execution_count": 23,
     "metadata": {},
     "output_type": "execute_result"
    }
   ],
   "source": [
    "scipy.stats.ttest_ind(group_A, group_B).pvalue"
   ]
  },
  {
   "cell_type": "code",
   "execution_count": 24,
   "metadata": {
    "ExecuteTime": {
     "end_time": "2021-02-06T14:23:46.611198Z",
     "start_time": "2021-02-06T14:23:46.608108Z"
    },
    "pycharm": {
     "name": "#%%\n"
    }
   },
   "outputs": [],
   "source": [
    "group_A = np.random.gamma(1, 25, size = 1000)\n",
    "group_B =  np.random.gamma(1, 27, size = 1000)"
   ]
  },
  {
   "cell_type": "code",
   "execution_count": 25,
   "metadata": {
    "ExecuteTime": {
     "end_time": "2021-02-06T14:23:46.830425Z",
     "start_time": "2021-02-06T14:23:46.827119Z"
    },
    "pycharm": {
     "name": "#%%\n"
    }
   },
   "outputs": [
    {
     "name": "stdout",
     "output_type": "stream",
     "text": [
      "25.377821002688066 26.390026480088782\n"
     ]
    }
   ],
   "source": [
    "print(group_A.mean(), group_B.mean())"
   ]
  },
  {
   "cell_type": "code",
   "execution_count": 26,
   "metadata": {
    "ExecuteTime": {
     "end_time": "2021-02-06T14:23:47.014678Z",
     "start_time": "2021-02-06T14:23:47.011087Z"
    },
    "pycharm": {
     "name": "#%%\n"
    }
   },
   "outputs": [
    {
     "data": {
      "text/plain": "0.39503279165919736"
     },
     "execution_count": 26,
     "metadata": {},
     "output_type": "execute_result"
    }
   ],
   "source": [
    "scipy.stats.ttest_ind(group_A, group_B).pvalue"
   ]
  },
  {
   "cell_type": "markdown",
   "metadata": {
    "pycharm": {
     "name": "#%% md\n"
    }
   },
   "source": [
    "## t-test работает не корректно ?"
   ]
  },
  {
   "cell_type": "markdown",
   "metadata": {
    "pycharm": {
     "name": "#%% md\n"
    }
   },
   "source": [
    "# Мощность и корректность"
   ]
  },
  {
   "cell_type": "markdown",
   "metadata": {
    "pycharm": {
     "name": "#%% md\n"
    }
   },
   "source": [
    "## Посчитаем корректность критерия - процент случаев, в которых на a/a тесте критерий срабатывает"
   ]
  },
  {
   "cell_type": "code",
   "execution_count": 88,
   "metadata": {
    "ExecuteTime": {
     "end_time": "2021-02-06T14:25:50.614625Z",
     "start_time": "2021-02-06T14:25:47.793106Z"
    },
    "pycharm": {
     "name": "#%%\n"
    }
   },
   "outputs": [
    {
     "name": "stdout",
     "output_type": "stream",
     "text": [
      "0.0488\n"
     ]
    }
   ],
   "source": [
    "p_values = []\n",
    "iters = 1000\n",
    "for _ in range(10000):\n",
    "    group_A = np.random.normal(25, 5, size=1000)\n",
    "    group_B = np.random.normal(25, 4, size=1000)\n",
    "    p = scipy.stats.ttest_ind(group_A, group_B).pvalue\n",
    "    p_values.append(p)\n",
    "p_values = np.array(p_values)\n",
    "print(p_values[p_values < 0.05].shape[0] / p_values.shape[0])"
   ]
  },
  {
   "cell_type": "code",
   "execution_count": 89,
   "metadata": {
    "ExecuteTime": {
     "end_time": "2021-02-06T14:26:05.517658Z",
     "start_time": "2021-02-06T14:26:05.417632Z"
    },
    "pycharm": {
     "name": "#%%\n"
    }
   },
   "outputs": [
    {
     "data": {
      "text/plain": [
       "(array([ 970., 1037., 1002., 1026.,  964.,  957.,  975., 1074., 1039.,\n",
       "         956.]),\n",
       " array([8.75232575e-05, 1.00075619e-01, 2.00063715e-01, 3.00051811e-01,\n",
       "        4.00039906e-01, 5.00028002e-01, 6.00016098e-01, 7.00004194e-01,\n",
       "        7.99992289e-01, 8.99980385e-01, 9.99968481e-01]),\n",
       " <BarContainer object of 10 artists>)"
      ]
     },
     "execution_count": 89,
     "metadata": {},
     "output_type": "execute_result"
    },
    {
     "data": {
      "image/png": "[encoded data removed]",
      "text/plain": [
       "<Figure size 640x480 with 1 Axes>"
      ]
     },
     "metadata": {},
     "output_type": "display_data"
    }
   ],
   "source": [
    "plt.hist(p_values)"
   ]
  },
  {
   "cell_type": "markdown",
   "metadata": {
    "pycharm": {
     "name": "#%% md\n"
    }
   },
   "source": [
    "## Критерий применять можно, распределение корректное"
   ]
  },
  {
   "cell_type": "markdown",
   "metadata": {
    "pycharm": {
     "name": "#%% md\n"
    }
   },
   "source": [
    "## Повысим порог отвержения нулевой гипотезы, чтобы понять, почему распределение должно быть равномерным"
   ]
  },
  {
   "cell_type": "code",
   "execution_count": 90,
   "metadata": {
    "ExecuteTime": {
     "end_time": "2021-02-06T14:27:48.397679Z",
     "start_time": "2021-02-06T14:27:48.096443Z"
    },
    "pycharm": {
     "name": "#%%\n"
    }
   },
   "outputs": [
    {
     "name": "stdout",
     "output_type": "stream",
     "text": [
      "0.108\n"
     ]
    }
   ],
   "source": [
    "p_values = []\n",
    "iters = 1000\n",
    "alpha = 0.1\n",
    "for _ in range(iters):\n",
    "    group_A = np.random.normal(25, 5, size=1000)\n",
    "    group_B = np.random.normal(25, 4, size=1000)\n",
    "    p = scipy.stats.ttest_ind(group_A, group_B).pvalue\n",
    "    p_values.append(p)\n",
    "p_values = np.array(p_values)\n",
    "print(p_values[p_values < alpha].shape[0] / p_values.shape[0])"
   ]
  },
  {
   "cell_type": "code",
   "execution_count": 92,
   "metadata": {
    "pycharm": {
     "name": "#%%\n"
    }
   },
   "outputs": [
    {
     "data": {
      "text/plain": [
       "array([0.25172557, 0.51362818, 0.4842218 , 0.13826422, 0.96596276,\n",
       "       0.12771812, 0.33257067, 0.85771987, 0.67844256, 0.73405606,\n",
       "       0.72483006, 0.65316545, 0.35174728, 0.84716676, 0.04579559,\n",
       "       0.58068026, 0.64028388, 0.75256017, 0.23646327, 0.53286226,\n",
       "       0.2601569 , 0.5501991 , 0.80842518, 0.970905  , 0.40351805,\n",
       "       0.31342578, 0.36859517, 0.429896  , 0.8619982 , 0.04746227,\n",
       "       0.6391054 , 0.75339517, 0.86037113, 0.55899593, 0.79789129,\n",
       "       0.83560029, 0.07226048, 0.69553161, 0.34434089, 0.1083443 ,\n",
       "       0.76988994, 0.26111445, 0.13351379, 0.5494534 , 0.35906218,\n",
       "       0.95998286, 0.43956428, 0.06405052, 0.52396063, 0.65520622,\n",
       "       0.55106432, 0.17718154, 0.02458611, 0.22142537, 0.11239197,\n",
       "       0.11940469, 0.57933882, 0.63715119, 0.90466228, 0.02689387,\n",
       "       0.35177859, 0.87763061, 0.25756731, 0.3151528 , 0.30868284,\n",
       "       0.36114807, 0.80032937, 0.22948741, 0.8673504 , 0.06942994,\n",
       "       0.21457243, 0.09356584, 0.02747455, 0.65570395, 0.76250787,\n",
       "       0.25531911, 0.43223005, 0.4387824 , 0.94581687, 0.4983736 ,\n",
       "       0.86478568, 0.21501194, 0.35158163, 0.20688161, 0.4625542 ,\n",
       "       0.4602226 , 0.35022726, 0.080799  , 0.76763913, 0.39525642,\n",
       "       0.38622403, 0.21227624, 0.28446195, 0.13596205, 0.47096396,\n",
       "       0.85670137, 0.26199487, 0.23415155, 0.35881875, 0.36377452,\n",
       "       0.0951476 , 0.67175088, 0.9294854 , 0.40412484, 0.69909058,\n",
       "       0.20278393, 0.18288217, 0.87139615, 0.18834416, 0.94467155,\n",
       "       0.07145835, 0.31763705, 0.93663215, 0.05541697, 0.3613192 ,\n",
       "       0.04701737, 0.0570167 , 0.66583225, 0.82685146, 0.2441081 ,\n",
       "       0.74288313, 0.28634795, 0.20656584, 0.71660567, 0.00835771,\n",
       "       0.52831901, 0.991731  , 0.27065214, 0.14182518, 0.46222774,\n",
       "       0.05466971, 0.3476549 , 0.06393016, 0.09019235, 0.10272688,\n",
       "       0.88412345, 0.5598823 , 0.94558081, 0.93104317, 0.64904538,\n",
       "       0.37316179, 0.86353726, 0.40369866, 0.21584159, 0.11287182,\n",
       "       0.81633028, 0.99879189, 0.27182793, 0.67262847, 0.15415207,\n",
       "       0.07240653, 0.89297602, 0.79584952, 0.45058324, 0.69032991,\n",
       "       0.97193672, 0.91412571, 0.91760248, 0.39640543, 0.92992282,\n",
       "       0.3457478 , 0.44386946, 0.56560678, 0.74218075, 0.68608985,\n",
       "       0.74622958, 0.79837304, 0.20972578, 0.15257827, 0.47229436,\n",
       "       0.83166235, 0.38255012, 0.52890937, 0.77051466, 0.94016617,\n",
       "       0.23558391, 0.1841608 , 0.89812784, 0.01065151, 0.65097466,\n",
       "       0.59508578, 0.72453625, 0.03242714, 0.95454309, 0.00301372,\n",
       "       0.95051193, 0.26779162, 0.49674583, 0.91466715, 0.44088148,\n",
       "       0.01666112, 0.10016455, 0.06328287, 0.59547226, 0.69666626,\n",
       "       0.46687216, 0.82596368, 0.20760992, 0.04329551, 0.45060171,\n",
       "       0.30041478, 0.0554682 , 0.45718117, 0.87216813, 0.21995633,\n",
       "       0.93039173, 0.35279332, 0.85793387, 0.4360247 , 0.32925404,\n",
       "       0.44668904, 0.32625985, 0.21965081, 0.41851046, 0.99794339,\n",
       "       0.19098032, 0.43356896, 0.20165565, 0.10982421, 0.57479633,\n",
       "       0.59607034, 0.27607128, 0.26202027, 0.27652509, 0.5040023 ,\n",
       "       0.02376895, 0.11204534, 0.96271285, 0.44313708, 0.68965422,\n",
       "       0.22939474, 0.79434985, 0.02613457, 0.28036334, 0.44438665,\n",
       "       0.29287012, 0.1040654 , 0.69977411, 0.90927697, 0.81045462,\n",
       "       0.09140496, 0.62172771, 0.74256452, 0.59756929, 0.74410684,\n",
       "       0.58834952, 0.6764851 , 0.11891905, 0.02736643, 0.7576055 ,\n",
       "       0.70506538, 0.00235804, 0.17736579, 0.29159221, 0.17144034,\n",
       "       0.44126591, 0.12132185, 0.14814448, 0.69018291, 0.63363129,\n",
       "       0.22219427, 0.03218725, 0.53442427, 0.03476687, 0.20848248,\n",
       "       0.45584484, 0.2277176 , 0.28748995, 0.14802553, 0.13520296,\n",
       "       0.83669021, 0.69430283, 0.19026201, 0.43157754, 0.39848671,\n",
       "       0.94625143, 0.28914485, 0.76169922, 0.12938838, 0.61315616,\n",
       "       0.71847487, 0.19546763, 0.94983465, 0.29304354, 0.94980076,\n",
       "       0.43784725, 0.00846536, 0.35461084, 0.02621911, 0.74094932,\n",
       "       0.10501363, 0.87886118, 0.58954791, 0.00158623, 0.27502905,\n",
       "       0.94691599, 0.75742767, 0.32064561, 0.40105267, 0.44718244,\n",
       "       0.89403861, 0.91083822, 0.186915  , 0.92414049, 0.91618564,\n",
       "       0.47173132, 0.10439698, 0.33574986, 0.39971517, 0.49552619,\n",
       "       0.33658078, 0.58847011, 0.65520239, 0.64657526, 0.86651784,\n",
       "       0.62054211, 0.12044277, 0.30200011, 0.05458405, 0.93019943,\n",
       "       0.57829574, 0.77599791, 0.32058022, 0.55005452, 0.77997439,\n",
       "       0.11294477, 0.08270736, 0.29831224, 0.66138982, 0.78573745,\n",
       "       0.55666713, 0.2762874 , 0.64847367, 0.72353732, 0.46309346,\n",
       "       0.97106155, 0.78737123, 0.00853146, 0.44829213, 0.78165114,\n",
       "       0.70856684, 0.04321207, 0.38206676, 0.1581165 , 0.24619658,\n",
       "       0.81057485, 0.84030675, 0.32382039, 0.53336651, 0.22704253,\n",
       "       0.84293822, 0.07173917, 0.29298007, 0.8571074 , 0.00192109,\n",
       "       0.41495947, 0.97489554, 0.81904137, 0.07217665, 0.09584652,\n",
       "       0.93439836, 0.37928987, 0.43457057, 0.99079416, 0.06227405,\n",
       "       0.58678614, 0.49008208, 0.65287368, 0.01801655, 0.24670373,\n",
       "       0.73856848, 0.00674302, 0.90317825, 0.22798329, 0.75651558,\n",
       "       0.46587444, 0.1863972 , 0.13179679, 0.76652507, 0.02705674,\n",
       "       0.40755767, 0.79323871, 0.12704176, 0.16558361, 0.8930537 ,\n",
       "       0.36500494, 0.65325683, 0.23731386, 0.86937759, 0.91847931,\n",
       "       0.88770521, 0.524679  , 0.92334397, 0.94459007, 0.40230675,\n",
       "       0.48287324, 0.49702327, 0.21210563, 0.10299683, 0.51011176,\n",
       "       0.39086307, 0.65797533, 0.58073492, 0.39143677, 0.98855403,\n",
       "       0.13470369, 0.42384994, 0.12151878, 0.80352935, 0.63161711,\n",
       "       0.93231803, 0.38051574, 0.60847692, 0.57447573, 0.35738821,\n",
       "       0.18102604, 0.51868263, 0.4429498 , 0.11052469, 0.08020579,\n",
       "       0.73767014, 0.21555952, 0.37375167, 0.69373993, 0.49385244,\n",
       "       0.11532907, 0.47353115, 0.14167387, 0.04123514, 0.73142724,\n",
       "       0.870949  , 0.57309075, 0.31558724, 0.73561577, 0.02330648,\n",
       "       0.65427906, 0.22183504, 0.52142599, 0.02953216, 0.84302508,\n",
       "       0.58435833, 0.12288372, 0.04230208, 0.87748234, 0.05161201,\n",
       "       0.26023203, 0.95591182, 0.69904968, 0.60423794, 0.45515757,\n",
       "       0.28181747, 0.92521901, 0.812373  , 0.37426616, 0.64316462,\n",
       "       0.5079959 , 0.26218319, 0.48735649, 0.41420505, 0.92173946,\n",
       "       0.88412835, 0.8598697 , 0.64030712, 0.30755893, 0.83773695,\n",
       "       0.85132599, 0.62662288, 0.84911869, 0.60201838, 0.22971912,\n",
       "       0.77388104, 0.15722858, 0.33547939, 0.67871913, 0.66600216,\n",
       "       0.61573837, 0.75907028, 0.80671798, 0.81668587, 0.41261657,\n",
       "       0.74313526, 0.53535415, 0.12522342, 0.16061801, 0.71810856,\n",
       "       0.77025625, 0.21147173, 0.56668909, 0.01335425, 0.91831375,\n",
       "       0.99070579, 0.58873446, 0.92080187, 0.95287017, 0.88654298,\n",
       "       0.84646845, 0.9979016 , 0.07740312, 0.32883736, 0.38293668,\n",
       "       0.55912575, 0.30436307, 0.22779412, 0.83876724, 0.44882054,\n",
       "       0.9271071 , 0.68592243, 0.27111853, 0.81020949, 0.93811336,\n",
       "       0.54400143, 0.16267045, 0.14389511, 0.76952664, 0.37959117,\n",
       "       0.31497212, 0.52412266, 0.92988934, 0.2681543 , 0.03054629,\n",
       "       0.31391364, 0.11040331, 0.87568993, 0.48648748, 0.83630574,\n",
       "       0.59790996, 0.77764207, 0.59081126, 0.16898297, 0.64566683,\n",
       "       0.98999768, 0.47077621, 0.40645661, 0.80268384, 0.11300698,\n",
       "       0.98804218, 0.18347269, 0.70566747, 0.97490832, 0.6833087 ,\n",
       "       0.51130682, 0.20104899, 0.24069343, 0.75460847, 0.8556919 ,\n",
       "       0.06564693, 0.22782711, 0.76766139, 0.70445603, 0.19201306,\n",
       "       0.91586881, 0.34177945, 0.60740064, 0.57148884, 0.49968652,\n",
       "       0.86333739, 0.74567622, 0.7764397 , 0.29564295, 0.29495975,\n",
       "       0.52187617, 0.51242855, 0.03956363, 0.12868243, 0.15294344,\n",
       "       0.11813764, 0.32787809, 0.45860331, 0.86595837, 0.7905942 ,\n",
       "       0.37332519, 0.98237661, 0.36290361, 0.51940016, 0.56062233,\n",
       "       0.95291963, 0.70566168, 0.63606348, 0.0854004 , 0.45371907,\n",
       "       0.27272834, 0.38612517, 0.76346586, 0.68717501, 0.25267038,\n",
       "       0.07569778, 0.85830734, 0.60701912, 0.30691358, 0.08723384,\n",
       "       0.23111885, 0.58770576, 0.34521978, 0.22790287, 0.24587832,\n",
       "       0.88701051, 0.94165922, 0.24157171, 0.20318556, 0.83218062,\n",
       "       0.03129081, 0.82927594, 0.61698223, 0.10675516, 0.22910683,\n",
       "       0.44494199, 0.21936815, 0.44780628, 0.94748512, 0.3180771 ,\n",
       "       0.25570752, 0.39778457, 0.17521165, 0.07029179, 0.27683351,\n",
       "       0.14306075, 0.07817881, 0.42515084, 0.59262216, 0.69070678,\n",
       "       0.30105605, 0.18760937, 0.88782755, 0.56645049, 0.93811465,\n",
       "       0.65160473, 0.44270198, 0.05441502, 0.49934694, 0.96010726,\n",
       "       0.12404117, 0.57606766, 0.51506685, 0.03506805, 0.84340705,\n",
       "       0.87647391, 0.07689251, 0.70690674, 0.75591323, 0.59369322,\n",
       "       0.16296236, 0.31581882, 0.29804903, 0.49694531, 0.19065841,\n",
       "       0.87405473, 0.3725327 , 0.91339295, 0.27384785, 0.81819901,\n",
       "       0.82944178, 0.29690482, 0.27688309, 0.44812059, 0.54208325,\n",
       "       0.7993222 , 0.05111561, 0.24245424, 0.47827015, 0.77749409,\n",
       "       0.48191215, 0.26993604, 0.70917432, 0.75188533, 0.58091624,\n",
       "       0.70315771, 0.94392695, 0.01758285, 0.72427594, 0.64221872,\n",
       "       0.96673374, 0.61625599, 0.18697058, 0.03257781, 0.33165374,\n",
       "       0.14490526, 0.68360589, 0.52376926, 0.86295824, 0.11747056,\n",
       "       0.6452442 , 0.35722878, 0.53596027, 0.95089083, 0.5668158 ,\n",
       "       0.56706488, 0.02681526, 0.90063402, 0.67581761, 0.13479958,\n",
       "       0.87388508, 0.71164273, 0.69334876, 0.9645848 , 0.44242731,\n",
       "       0.35090794, 0.41370181, 0.70519966, 0.46868536, 0.56080857,\n",
       "       0.38802024, 0.49270765, 0.28627763, 0.29201407, 0.17109128,\n",
       "       0.50690218, 0.45938352, 0.11882487, 0.19375858, 0.18745776,\n",
       "       0.70942562, 0.63990687, 0.91087958, 0.05745037, 0.80536603,\n",
       "       0.95555852, 0.74884604, 0.06756685, 0.43700985, 0.68716617,\n",
       "       0.16208623, 0.43620565, 0.43452226, 0.72791293, 0.82628892,\n",
       "       0.2263318 , 0.92097819, 0.93956238, 0.41169545, 0.78725787,\n",
       "       0.7741914 , 0.01152023, 0.17192045, 0.007631  , 0.95941053,\n",
       "       0.20944146, 0.14850115, 0.27243782, 0.67671568, 0.64648276,\n",
       "       0.92538709, 0.37570278, 0.65202635, 0.18843725, 0.57081936,\n",
       "       0.89728473, 0.16573349, 0.49839499, 0.97773668, 0.06125662,\n",
       "       0.16164709, 0.00674248, 0.52109791, 0.43609105, 0.88616908,\n",
       "       0.67253144, 0.31172987, 0.00359828, 0.63410026, 0.79390133,\n",
       "       0.48917578, 0.02874144, 0.74479377, 0.40888471, 0.10781396,\n",
       "       0.61338353, 0.65399652, 0.23646614, 0.85088342, 0.08555596,\n",
       "       0.79739233, 0.29498914, 0.79575408, 0.8799687 , 0.75104706,\n",
       "       0.58708594, 0.26111788, 0.24034039, 0.33277588, 0.96439788,\n",
       "       0.28357133, 0.09911859, 0.02286632, 0.2874892 , 0.07793149,\n",
       "       0.71418295, 0.51253023, 0.08707459, 0.9337471 , 0.96778414,\n",
       "       0.80464028, 0.648735  , 0.16306477, 0.30561703, 0.09565831,\n",
       "       0.31211429, 0.71448419, 0.21549596, 0.71077888, 0.0617921 ,\n",
       "       0.08407429, 0.49139414, 0.9485841 , 0.39586022, 0.57392405,\n",
       "       0.51580308, 0.83399392, 0.6146134 , 0.79957247, 0.07923105,\n",
       "       0.92048314, 0.80674449, 0.16970815, 0.44575052, 0.71557789,\n",
       "       0.18626047, 0.81805153, 0.54922319, 0.43544333, 0.04020737,\n",
       "       0.83442425, 0.68308778, 0.33951525, 0.22646796, 0.90108056,\n",
       "       0.36251647, 0.68623073, 0.27822914, 0.21726214, 0.39979908,\n",
       "       0.53403801, 0.60344516, 0.64557613, 0.65046437, 0.93937118,\n",
       "       0.85836873, 0.31586853, 0.07642549, 0.95971982, 0.69890064,\n",
       "       0.55874069, 0.98806093, 0.29492573, 0.38247127, 0.88660652,\n",
       "       0.61119604, 0.91209375, 0.84271766, 0.05879835, 0.72374696,\n",
       "       0.47237361, 0.22011736, 0.35656799, 0.29592732, 0.42063971,\n",
       "       0.88183676, 0.85669787, 0.3722414 , 0.23874427, 0.63239102,\n",
       "       0.61608123, 0.14238115, 0.50999741, 0.85272736, 0.27739719,\n",
       "       0.93957306, 0.04552089, 0.26275208, 0.92912412, 0.36515403,\n",
       "       0.41583194, 0.78711668, 0.91937863, 0.37975537, 0.13300067,\n",
       "       0.72510331, 0.00220028, 0.75139759, 0.9326119 , 0.60674159,\n",
       "       0.37783259, 0.50296387, 0.3436322 , 0.6326902 , 0.36754011,\n",
       "       0.00292528, 0.88020955, 0.40375269, 0.84360021, 0.34260333,\n",
       "       0.67666982, 0.34933504, 0.05749007, 0.09982261, 0.12370905,\n",
       "       0.85023749, 0.01503035, 0.72470074, 0.00978678, 0.39399086,\n",
       "       0.15270605, 0.97472889, 0.76818574, 0.60678051, 0.24340366,\n",
       "       0.43200454, 0.63489144, 0.14283538, 0.72823887, 0.20482753,\n",
       "       0.82353732, 0.08614766, 0.00646627, 0.71915286, 0.48496464,\n",
       "       0.81988924, 0.42542077, 0.05985364, 0.79988304, 0.70389469,\n",
       "       0.94504768, 0.89912638, 0.21479086, 0.90131533, 0.57954207,\n",
       "       0.85271415, 0.43400465, 0.30046123, 0.4617478 , 0.53659986,\n",
       "       0.82370791, 0.7687164 , 0.70941408, 0.4652805 , 0.39683214,\n",
       "       0.124722  , 0.35143146, 0.87950232, 0.3741783 , 0.59264291,\n",
       "       0.13554936, 0.93692432, 0.15858703, 0.60995206, 0.8005513 ,\n",
       "       0.96311526, 0.71437518, 0.08717702, 0.18262321, 0.12801441,\n",
       "       0.63402155, 0.29379428, 0.49166643, 0.75305822, 0.38843066,\n",
       "       0.79382339, 0.07726839, 0.32471728, 0.21545656, 0.02293701,\n",
       "       0.58837612, 0.37421387, 0.47648512, 0.58265401, 0.93267701,\n",
       "       0.12543369, 0.89419223, 0.41684555, 0.16664067, 0.7739965 ,\n",
       "       0.53361305, 0.1485703 , 0.99552215, 0.52030734, 0.94273714,\n",
       "       0.75005003, 0.7188969 , 0.22233061, 0.93211832, 0.73342819,\n",
       "       0.3598885 , 0.14675843, 0.99428977, 0.99876099, 0.84717691,\n",
       "       0.21798128, 0.30084123, 0.43306307, 0.64803291, 0.45174682,\n",
       "       0.86079042, 0.0208815 , 0.00437055, 0.5966937 , 0.93580317,\n",
       "       0.47842196, 0.60603321, 0.32061837, 0.6201351 , 0.79154125])"
      ]
     },
     "execution_count": 92,
     "metadata": {},
     "output_type": "execute_result"
    }
   ],
   "source": [
    "p_values"
   ]
  },
  {
   "cell_type": "code",
   "execution_count": 91,
   "metadata": {
    "ExecuteTime": {
     "end_time": "2021-02-06T14:27:50.132118Z",
     "start_time": "2021-02-06T14:27:50.032188Z"
    },
    "pycharm": {
     "name": "#%%\n"
    }
   },
   "outputs": [
    {
     "data": {
      "text/plain": [
       "(array([109., 100., 114.,  99., 101.,  84.,  91.,  99., 100., 103.]),\n",
       " array([0.00158623, 0.1013068 , 0.20102736, 0.30074793, 0.40046849,\n",
       "        0.50018906, 0.59990963, 0.69963019, 0.79935076, 0.89907132,\n",
       "        0.99879189]),\n",
       " <BarContainer object of 10 artists>)"
      ]
     },
     "execution_count": 91,
     "metadata": {},
     "output_type": "execute_result"
    },
    {
     "data": {
      "image/png": "[encoded data removed]",
      "text/plain": [
       "<Figure size 640x480 with 1 Axes>"
      ]
     },
     "metadata": {},
     "output_type": "display_data"
    }
   ],
   "source": [
    "plt.hist(p_values)"
   ]
  },
  {
   "cell_type": "markdown",
   "metadata": {
    "pycharm": {
     "name": "#%% md\n"
    }
   },
   "source": [
    "## Построим график процента ложноположительных срабатываний от порога для p-value"
   ]
  },
  {
   "cell_type": "code",
   "execution_count": 93,
   "metadata": {
    "ExecuteTime": {
     "end_time": "2021-02-06T14:28:56.252336Z",
     "start_time": "2021-02-06T14:28:53.415944Z"
    },
    "pycharm": {
     "name": "#%%\n"
    }
   },
   "outputs": [],
   "source": [
    "alpha_list = [i * 0.1 for i in range(0,10)]\n",
    "false_posititve_list = []\n",
    "iters = 1000\n",
    "for alpha in alpha_list:\n",
    "    p_values = []\n",
    "    for _ in range(iters):\n",
    "        group_A = np.random.normal(25, 5, size=1000)\n",
    "        group_B = np.random.normal(25, 4, size=1000)\n",
    "        p = scipy.stats.ttest_ind(group_A, group_B).pvalue\n",
    "        p_values.append(p)\n",
    "    p_values = np.array(p_values)\n",
    "    false_posititve_list.append(p_values[p_values < alpha].shape[0] / p_values.shape[0])"
   ]
  },
  {
   "cell_type": "code",
   "execution_count": 94,
   "metadata": {
    "ExecuteTime": {
     "end_time": "2021-02-06T14:29:48.834212Z",
     "start_time": "2021-02-06T14:29:48.747959Z"
    },
    "pycharm": {
     "name": "#%%\n"
    }
   },
   "outputs": [
    {
     "data": {
      "text/plain": [
       "[<matplotlib.lines.Line2D at 0x7fbca9956640>]"
      ]
     },
     "execution_count": 94,
     "metadata": {},
     "output_type": "execute_result"
    },
    {
     "data": {
      "image/png": "[encoded data removed]",
      "text/plain": [
       "<Figure size 640x480 with 1 Axes>"
      ]
     },
     "metadata": {},
     "output_type": "display_data"
    }
   ],
   "source": [
    "plt.plot(false_posititve_list, alpha_list)"
   ]
  },
  {
   "cell_type": "markdown",
   "metadata": {
    "pycharm": {
     "name": "#%% md\n"
    }
   },
   "source": [
    "## Сделаем выборки разными c разными дисперсиями"
   ]
  },
  {
   "cell_type": "code",
   "execution_count": 95,
   "metadata": {
    "ExecuteTime": {
     "end_time": "2021-02-06T14:31:49.998116Z",
     "start_time": "2021-02-06T14:31:47.398551Z"
    },
    "pycharm": {
     "name": "#%%\n"
    }
   },
   "outputs": [
    {
     "name": "stdout",
     "output_type": "stream",
     "text": [
      "0.0\n"
     ]
    },
    {
     "data": {
      "text/plain": [
       "(array([   4.,   21.,  100.,  267.,  564.,  968., 1351., 1874., 2351.,\n",
       "        2500.]),\n",
       " array([0.15952262, 0.24356712, 0.32761162, 0.41165612, 0.49570062,\n",
       "        0.57974512, 0.66378962, 0.74783412, 0.83187862, 0.91592311,\n",
       "        0.99996761]),\n",
       " <BarContainer object of 10 artists>)"
      ]
     },
     "execution_count": 95,
     "metadata": {},
     "output_type": "execute_result"
    },
    {
     "data": {
      "image/png": "[encoded data removed]",
      "text/plain": [
       "<Figure size 640x480 with 1 Axes>"
      ]
     },
     "metadata": {},
     "output_type": "display_data"
    }
   ],
   "source": [
    "p_values = []\n",
    "iters = 1000\n",
    "for _ in range(10000):\n",
    "    group_A = np.random.normal(25, 1, size=100)\n",
    "    group_B = np.random.normal(25, 10, size=1000)\n",
    "    p = scipy.stats.ttest_ind(group_A, group_B).pvalue\n",
    "    p_values.append(p)\n",
    "p_values = np.array(p_values)\n",
    "print(p_values[p_values < 0.05].shape[0] / p_values.shape[0])\n",
    "plt.hist(p_values)"
   ]
  },
  {
   "cell_type": "markdown",
   "metadata": {
    "pycharm": {
     "name": "#%% md\n"
    }
   },
   "source": [
    "## Что не так?"
   ]
  },
  {
   "cell_type": "code",
   "execution_count": 96,
   "metadata": {
    "ExecuteTime": {
     "end_time": "2021-02-06T14:33:32.434155Z",
     "start_time": "2021-02-06T14:33:29.695133Z"
    },
    "pycharm": {
     "name": "#%%\n"
    }
   },
   "outputs": [
    {
     "name": "stdout",
     "output_type": "stream",
     "text": [
      "0.0449\n"
     ]
    },
    {
     "data": {
      "text/plain": [
       "(array([ 969., 1027.,  995.,  978., 1035., 1036., 1030.,  997.,  961.,\n",
       "         972.]),\n",
       " array([8.53855316e-06, 9.99961868e-02, 1.99983835e-01, 2.99971483e-01,\n",
       "        3.99959131e-01, 4.99946780e-01, 5.99934428e-01, 6.99922076e-01,\n",
       "        7.99909724e-01, 8.99897372e-01, 9.99885021e-01]),\n",
       " <BarContainer object of 10 artists>)"
      ]
     },
     "execution_count": 96,
     "metadata": {},
     "output_type": "execute_result"
    },
    {
     "data": {
      "image/png": "[encoded data removed]",
      "text/plain": [
       "<Figure size 640x480 with 1 Axes>"
      ]
     },
     "metadata": {},
     "output_type": "display_data"
    }
   ],
   "source": [
    "p_values = []\n",
    "iters = 1000\n",
    "for _ in range(10000):\n",
    "    group_A = np.random.normal(25, 1, size=100)\n",
    "    group_B = np.random.normal(25, 10, size=1000)\n",
    "    p = scipy.stats.ttest_ind(group_A, group_B, equal_var=False).pvalue\n",
    "    p_values.append(p)\n",
    "p_values = np.array(p_values)\n",
    "print(p_values[p_values < 0.05].shape[0] / p_values.shape[0])\n",
    "plt.hist(p_values)"
   ]
  },
  {
   "cell_type": "markdown",
   "metadata": {
    "pycharm": {
     "name": "#%% md\n"
    }
   },
   "source": [
    "## Все работает"
   ]
  },
  {
   "cell_type": "markdown",
   "metadata": {
    "pycharm": {
     "name": "#%% md\n"
    }
   },
   "source": [
    "## Посчитаем мощность. То есть процент раз,когда мы нашли эффект,когда он реально есть"
   ]
  },
  {
   "cell_type": "code",
   "execution_count": 100,
   "metadata": {
    "ExecuteTime": {
     "end_time": "2021-02-06T14:36:52.103360Z",
     "start_time": "2021-02-06T14:36:49.289764Z"
    },
    "pycharm": {
     "name": "#%%\n"
    }
   },
   "outputs": [
    {
     "name": "stdout",
     "output_type": "stream",
     "text": [
      "0.1078\n"
     ]
    },
    {
     "data": {
      "text/plain": [
       "(array([1864., 1257., 1073.,  951.,  832.,  848.,  817.,  785.,  803.,\n",
       "         770.]),\n",
       " array([2.55465815e-06, 9.99933323e-02, 1.99984110e-01, 2.99974887e-01,\n",
       "        3.99965665e-01, 4.99956443e-01, 5.99947220e-01, 6.99937998e-01,\n",
       "        7.99928776e-01, 8.99919553e-01, 9.99910331e-01]),\n",
       " <BarContainer object of 10 artists>)"
      ]
     },
     "execution_count": 100,
     "metadata": {},
     "output_type": "execute_result"
    },
    {
     "data": {
      "image/png": "[encoded data removed]",
      "text/plain": [
       "<Figure size 640x480 with 1 Axes>"
      ]
     },
     "metadata": {},
     "output_type": "display_data"
    }
   ],
   "source": [
    "p_values = []\n",
    "iters = 1000\n",
    "for _ in range(10000):\n",
    "    group_A = np.random.normal(24, 10, size=100)\n",
    "    group_B = np.random.normal(25, 10, size=100)\n",
    "    p = scipy.stats.ttest_ind(group_A, group_B, equal_var=False).pvalue\n",
    "    p_values.append(p)\n",
    "p_values = np.array(p_values)\n",
    "print(p_values[p_values < 0.05].shape[0] / p_values.shape[0])\n",
    "plt.hist(p_values)"
   ]
  },
  {
   "cell_type": "markdown",
   "metadata": {
    "pycharm": {
     "name": "#%% md\n"
    }
   },
   "source": [
    "## Сделаем снова одинаковым размер групп"
   ]
  },
  {
   "cell_type": "code",
   "execution_count": 103,
   "metadata": {
    "ExecuteTime": {
     "end_time": "2021-02-06T14:38:13.047233Z",
     "start_time": "2021-02-06T14:38:10.633899Z"
    },
    "pycharm": {
     "name": "#%%\n"
    }
   },
   "outputs": [
    {
     "name": "stdout",
     "output_type": "stream",
     "text": [
      "1.0\n"
     ]
    },
    {
     "data": {
      "text/plain": [
       "(array([9.999e+03, 0.000e+00, 0.000e+00, 0.000e+00, 0.000e+00, 0.000e+00,\n",
       "        0.000e+00, 0.000e+00, 0.000e+00, 1.000e+00]),\n",
       " array([9.16320760e-49, 2.28963547e-21, 4.57927094e-21, 6.86890641e-21,\n",
       "        9.15854188e-21, 1.14481774e-20, 1.37378128e-20, 1.60274483e-20,\n",
       "        1.83170838e-20, 2.06067192e-20, 2.28963547e-20]),\n",
       " <BarContainer object of 10 artists>)"
      ]
     },
     "execution_count": 103,
     "metadata": {},
     "output_type": "execute_result"
    },
    {
     "data": {
      "image/png": "[encoded data removed]",
      "text/plain": [
       "<Figure size 640x480 with 1 Axes>"
      ]
     },
     "metadata": {},
     "output_type": "display_data"
    }
   ],
   "source": [
    "p_values = []\n",
    "iters = 10000\n",
    "for _ in range(iters):\n",
    "    group_A = np.random.normal(23, 11, size=100)\n",
    "    group_B = np.random.normal(45, 10, size=100)\n",
    "    p = scipy.stats.ttest_ind(group_A, group_B).pvalue\n",
    "    p_values.append(p)\n",
    "p_values = np.array(p_values)\n",
    "print(p_values[p_values < 0.05].shape[0] / p_values.shape[0])\n",
    "plt.hist(p_values)"
   ]
  },
  {
   "cell_type": "markdown",
   "metadata": {
    "pycharm": {
     "name": "#%% md\n"
    }
   },
   "source": [
    "## Мощность очень маленькая"
   ]
  },
  {
   "cell_type": "markdown",
   "metadata": {
    "pycharm": {
     "name": "#%% md\n"
    }
   },
   "source": [
    "## Увеличим разницу"
   ]
  },
  {
   "cell_type": "code",
   "execution_count": 27,
   "metadata": {
    "ExecuteTime": {
     "end_time": "2021-02-06T14:38:28.226438Z",
     "start_time": "2021-02-06T14:38:25.889874Z"
    },
    "pycharm": {
     "name": "#%%\n"
    }
   },
   "outputs": [
    {
     "name": "stdout",
     "output_type": "stream",
     "text": [
      "0.7641\n"
     ]
    },
    {
     "data": {
      "text/plain": [
       "(array([8510.,  700.,  296.,  172.,  100.,   82.,   32.,   43.,   32.,\n",
       "          33.]),\n",
       " array([3.01183339e-10, 9.97686067e-02, 1.99537213e-01, 2.99305820e-01,\n",
       "        3.99074426e-01, 4.98843032e-01, 5.98611639e-01, 6.98380245e-01,\n",
       "        7.98148852e-01, 8.97917458e-01, 9.97686064e-01]),\n",
       " <BarContainer object of 10 artists>)"
      ]
     },
     "execution_count": 27,
     "metadata": {},
     "output_type": "execute_result"
    },
    {
     "data": {
      "image/png": "[encoded data removed]",
      "text/plain": [
       "<Figure size 640x480 with 1 Axes>"
      ]
     },
     "metadata": {},
     "output_type": "display_data"
    }
   ],
   "source": [
    "p_values = []\n",
    "iters = 10000\n",
    "for _ in range(iters):\n",
    "    group_A = np.random.normal(21, 11, size=100)\n",
    "    group_B = np.random.normal(25, 10, size=100)\n",
    "    p = scipy.stats.ttest_ind(group_A, group_B).pvalue\n",
    "    p_values.append(p)\n",
    "p_values = np.array(p_values)\n",
    "print(p_values[p_values < 0.05].shape[0] / p_values.shape[0])\n",
    "plt.hist(p_values)"
   ]
  },
  {
   "cell_type": "markdown",
   "metadata": {
    "pycharm": {
     "name": "#%% md\n"
    }
   },
   "source": [
    "## Увеличим выборку"
   ]
  },
  {
   "cell_type": "code",
   "execution_count": 28,
   "metadata": {
    "ExecuteTime": {
     "end_time": "2021-02-06T14:38:37.816309Z",
     "start_time": "2021-02-06T14:38:34.599107Z"
    },
    "pycharm": {
     "name": "#%%\n"
    }
   },
   "outputs": [
    {
     "name": "stdout",
     "output_type": "stream",
     "text": [
      "0.9907\n"
     ]
    },
    {
     "data": {
      "text/plain": [
       "(array([9.945e+03, 2.700e+01, 1.100e+01, 1.000e+01, 5.000e+00, 0.000e+00,\n",
       "        0.000e+00, 0.000e+00, 0.000e+00, 2.000e+00]),\n",
       " array([2.18059348e-15, 7.51965003e-02, 1.50393001e-01, 2.25589501e-01,\n",
       "        3.00786001e-01, 3.75982501e-01, 4.51179002e-01, 5.26375502e-01,\n",
       "        6.01572002e-01, 6.76768502e-01, 7.51965003e-01]),\n",
       " <BarContainer object of 10 artists>)"
      ]
     },
     "execution_count": 28,
     "metadata": {},
     "output_type": "execute_result"
    },
    {
     "data": {
      "image/png": "[encoded data removed]",
      "text/plain": [
       "<Figure size 640x480 with 1 Axes>"
      ]
     },
     "metadata": {},
     "output_type": "display_data"
    }
   ],
   "source": [
    "p_values = []\n",
    "iters = 10000\n",
    "for _ in range(iters):\n",
    "    group_A = np.random.normal(23, 11, size=1000)\n",
    "    group_B = np.random.normal(25, 10, size=1000)\n",
    "    p = scipy.stats.ttest_ind(group_A, group_B).pvalue\n",
    "    p_values.append(p)\n",
    "p_values = np.array(p_values)\n",
    "print(p_values[p_values < 0.05].shape[0] / p_values.shape[0])\n",
    "plt.hist(p_values)"
   ]
  },
  {
   "cell_type": "markdown",
   "metadata": {
    "pycharm": {
     "name": "#%% md\n"
    }
   },
   "source": [
    "# Критерий Манна-Уитни"
   ]
  },
  {
   "cell_type": "code",
   "execution_count": 104,
   "metadata": {
    "ExecuteTime": {
     "end_time": "2021-02-06T14:41:47.101216Z",
     "start_time": "2021-02-06T14:41:47.098037Z"
    },
    "pycharm": {
     "name": "#%%\n"
    }
   },
   "outputs": [],
   "source": [
    "x = np.random.lognormal(10,2,100)"
   ]
  },
  {
   "cell_type": "code",
   "execution_count": 105,
   "metadata": {
    "ExecuteTime": {
     "end_time": "2021-02-06T14:41:49.857081Z",
     "start_time": "2021-02-06T14:41:49.707315Z"
    },
    "pycharm": {
     "name": "#%%\n"
    }
   },
   "outputs": [
    {
     "data": {
      "text/plain": [
       "(array([73., 11.,  2.,  5.,  2.,  1.,  0.,  3.,  0.,  0.,  1.,  0.,  0.,\n",
       "         1.,  0.,  0.,  0.,  0.,  0.,  0.,  0.,  0.,  0.,  0.,  0.,  0.,\n",
       "         0.,  0.,  0.,  0.,  0.,  1.]),\n",
       " array([2.28930723e+02, 7.76765756e+04, 1.55124221e+05, 2.32571865e+05,\n",
       "        3.10019510e+05, 3.87467155e+05, 4.64914800e+05, 5.42362445e+05,\n",
       "        6.19810090e+05, 6.97257735e+05, 7.74705380e+05, 8.52153025e+05,\n",
       "        9.29600669e+05, 1.00704831e+06, 1.08449596e+06, 1.16194360e+06,\n",
       "        1.23939125e+06, 1.31683889e+06, 1.39428654e+06, 1.47173418e+06,\n",
       "        1.54918183e+06, 1.62662947e+06, 1.70407712e+06, 1.78152476e+06,\n",
       "        1.85897241e+06, 1.93642005e+06, 2.01386770e+06, 2.09131534e+06,\n",
       "        2.16876299e+06, 2.24621063e+06, 2.32365828e+06, 2.40110592e+06,\n",
       "        2.47855357e+06]),\n",
       " <BarContainer object of 32 artists>)"
      ]
     },
     "execution_count": 105,
     "metadata": {},
     "output_type": "execute_result"
    },
    {
     "data": {
      "image/png": "[encoded data removed]",
      "text/plain": [
       "<Figure size 700x700 with 1 Axes>"
      ]
     },
     "metadata": {},
     "output_type": "display_data"
    }
   ],
   "source": [
    "plt.figure(figsize=(7,7))\n",
    "plt.hist(x, bins = 32, color='red',  linewidth=2)"
   ]
  },
  {
   "cell_type": "code",
   "execution_count": 106,
   "metadata": {
    "ExecuteTime": {
     "end_time": "2021-02-06T14:43:10.109338Z",
     "start_time": "2021-02-06T14:43:07.606000Z"
    },
    "pycharm": {
     "name": "#%%\n"
    }
   },
   "outputs": [
    {
     "name": "stdout",
     "output_type": "stream",
     "text": [
      "0.0288\n"
     ]
    },
    {
     "data": {
      "text/plain": [
       "(array([ 828., 1309., 1347., 1383., 1092.,  897.,  833.,  800.,  774.,\n",
       "         737.]),\n",
       " array([0.00144868, 0.10129787, 0.20114705, 0.30099624, 0.40084542,\n",
       "        0.5006946 , 0.60054379, 0.70039297, 0.80024215, 0.90009134,\n",
       "        0.99994052]),\n",
       " <BarContainer object of 10 artists>)"
      ]
     },
     "execution_count": 106,
     "metadata": {},
     "output_type": "execute_result"
    },
    {
     "data": {
      "image/png": "[encoded data removed]",
      "text/plain": [
       "<Figure size 640x480 with 1 Axes>"
      ]
     },
     "metadata": {},
     "output_type": "display_data"
    }
   ],
   "source": [
    "p_values = []\n",
    "iters = 10000\n",
    "for _ in range(iters):\n",
    "    group_A = np.random.lognormal(10,2,100)\n",
    "    group_B = np.random.lognormal(10,2,100)\n",
    "    p = scipy.stats.ttest_ind(group_A, group_B).pvalue\n",
    "    p_values.append(p)\n",
    "p_values = np.array(p_values)\n",
    "print(p_values[p_values < 0.05].shape[0] / p_values.shape[0])\n",
    "plt.hist(p_values)"
   ]
  },
  {
   "cell_type": "markdown",
   "metadata": {
    "pycharm": {
     "name": "#%% md\n"
    }
   },
   "source": [
    "## критерий применять не корректно, распределение p-value распределенно не равномерно. Попробуем выбрать непараметрический критерий"
   ]
  },
  {
   "cell_type": "code",
   "execution_count": 107,
   "metadata": {
    "ExecuteTime": {
     "end_time": "2021-02-06T14:50:08.359604Z",
     "start_time": "2021-02-06T14:50:05.681546Z"
    },
    "pycharm": {
     "name": "#%%\n"
    }
   },
   "outputs": [
    {
     "name": "stdout",
     "output_type": "stream",
     "text": [
      "0.0519\n"
     ]
    },
    {
     "data": {
      "text/plain": [
       "(array([1034., 1002.,  999., 1015.,  993.,  941., 1048., 1008., 1003.,\n",
       "         957.]),\n",
       " array([8.92963052e-05, 1.00080367e-01, 2.00071437e-01, 3.00062507e-01,\n",
       "        4.00053578e-01, 5.00044648e-01, 6.00035719e-01, 7.00026789e-01,\n",
       "        8.00017859e-01, 9.00008930e-01, 1.00000000e+00]),\n",
       " <BarContainer object of 10 artists>)"
      ]
     },
     "execution_count": 107,
     "metadata": {},
     "output_type": "execute_result"
    },
    {
     "data": {
      "image/png": "[encoded data removed]",
      "text/plain": [
       "<Figure size 640x480 with 1 Axes>"
      ]
     },
     "metadata": {},
     "output_type": "display_data"
    }
   ],
   "source": [
    "p_values = []\n",
    "iters = 10000\n",
    "for _ in range(iters):\n",
    "    group_A = np.random.lognormal(10,2,100)\n",
    "    group_B = np.random.lognormal(10,2,100)\n",
    "    p = scipy.stats.mannwhitneyu(group_A, group_B,alternative='two-sided').pvalue\n",
    "    p_values.append(p)\n",
    "p_values = np.array(p_values)\n",
    "print(p_values[p_values < 0.05].shape[0] / p_values.shape[0])\n",
    "plt.hist(p_values)"
   ]
  },
  {
   "cell_type": "markdown",
   "metadata": {
    "pycharm": {
     "name": "#%% md\n"
    }
   },
   "source": [
    "## Непараметрический критерий сработал хорошо!"
   ]
  },
  {
   "cell_type": "markdown",
   "metadata": {
    "pycharm": {
     "name": "#%% md\n"
    }
   },
   "source": [
    "## оценим мощность"
   ]
  },
  {
   "cell_type": "code",
   "execution_count": 108,
   "metadata": {
    "ExecuteTime": {
     "end_time": "2021-02-06T14:50:52.068730Z",
     "start_time": "2021-02-06T14:50:49.210403Z"
    },
    "pycharm": {
     "name": "#%%\n"
    }
   },
   "outputs": [
    {
     "name": "stdout",
     "output_type": "stream",
     "text": [
      "0.7698\n"
     ]
    },
    {
     "data": {
      "text/plain": [
       "(array([8547.,  645.,  286.,  165.,  118.,   75.,   60.,   45.,   30.,\n",
       "          29.]),\n",
       " array([2.27072634e-10, 9.99025231e-02, 1.99805046e-01, 2.99707569e-01,\n",
       "        3.99610092e-01, 4.99512615e-01, 5.99415138e-01, 6.99317660e-01,\n",
       "        7.99220183e-01, 8.99122706e-01, 9.99025229e-01]),\n",
       " <BarContainer object of 10 artists>)"
      ]
     },
     "execution_count": 108,
     "metadata": {},
     "output_type": "execute_result"
    },
    {
     "data": {
      "image/png": "[encoded data removed]",
      "text/plain": [
       "<Figure size 640x480 with 1 Axes>"
      ]
     },
     "metadata": {},
     "output_type": "display_data"
    }
   ],
   "source": [
    "p_values = []\n",
    "iters = 10000\n",
    "for _ in range(iters):\n",
    "    group_A = np.random.lognormal(9,3,100)\n",
    "    group_B = np.random.lognormal(10,2,100)\n",
    "    p = scipy.stats.mannwhitneyu(group_A, group_B,alternative='two-sided').pvalue\n",
    "    p_values.append(p)\n",
    "p_values = np.array(p_values)\n",
    "print(p_values[p_values < 0.05].shape[0] / p_values.shape[0])\n",
    "plt.hist(p_values)"
   ]
  },
  {
   "cell_type": "code",
   "execution_count": 109,
   "metadata": {
    "ExecuteTime": {
     "end_time": "2021-02-06T14:51:08.428713Z",
     "start_time": "2021-02-06T14:51:08.425586Z"
    },
    "pycharm": {
     "name": "#%%\n"
    }
   },
   "outputs": [
    {
     "name": "stdout",
     "output_type": "stream",
     "text": [
      "729118.833154964 91580.12856273932\n"
     ]
    }
   ],
   "source": [
    "print(group_A.mean(), group_B.mean())"
   ]
  },
  {
   "cell_type": "markdown",
   "metadata": {
    "pycharm": {
     "name": "#%% md\n"
    }
   },
   "source": [
    "## Когда критерий Манна-Уитни будет плох?"
   ]
  },
  {
   "cell_type": "code",
   "execution_count": 110,
   "metadata": {
    "ExecuteTime": {
     "end_time": "2021-02-06T14:52:07.197682Z",
     "start_time": "2021-02-06T14:52:06.815598Z"
    },
    "pycharm": {
     "name": "#%%\n"
    }
   },
   "outputs": [
    {
     "name": "stdout",
     "output_type": "stream",
     "text": [
      "0.084\n"
     ]
    },
    {
     "data": {
      "text/plain": [
       "(array([149., 130.,  98., 112.,  88.,  85.,  92.,  86.,  81.,  79.]),\n",
       " array([4.42433018e-05, 9.99423419e-02, 1.99840440e-01, 2.99738539e-01,\n",
       "        3.99636638e-01, 4.99534736e-01, 5.99432835e-01, 6.99330933e-01,\n",
       "        7.99229032e-01, 8.99127131e-01, 9.99025229e-01]),\n",
       " <BarContainer object of 10 artists>)"
      ]
     },
     "execution_count": 110,
     "metadata": {},
     "output_type": "execute_result"
    },
    {
     "data": {
      "image/png": "[encoded data removed]",
      "text/plain": [
       "<Figure size 640x480 with 1 Axes>"
      ]
     },
     "metadata": {},
     "output_type": "display_data"
    }
   ],
   "source": [
    "p_values = []\n",
    "iters = 1000\n",
    "for _ in range(iters):\n",
    "    group_A = np.random.normal(23, 11, size=100)\n",
    "    group_B = np.random.normal(23, 1, size=100)\n",
    "    p = scipy.stats.mannwhitneyu(group_A, group_B, alternative='two-sided').pvalue\n",
    "    p_values.append(p)\n",
    "p_values = np.array(p_values)\n",
    "print(p_values[p_values < 0.05].shape[0] / p_values.shape[0])\n",
    "plt.hist(p_values)"
   ]
  },
  {
   "cell_type": "markdown",
   "metadata": {
    "pycharm": {
     "name": "#%% md\n"
    }
   },
   "source": [
    "## Почему распределение такое?"
   ]
  },
  {
   "cell_type": "code",
   "execution_count": 111,
   "metadata": {
    "ExecuteTime": {
     "end_time": "2021-02-06T14:52:13.515998Z",
     "start_time": "2021-02-06T14:52:13.311674Z"
    },
    "pycharm": {
     "name": "#%%\n"
    }
   },
   "outputs": [
    {
     "data": {
      "text/plain": [
       "(array([ 2.,  2.,  9., 13., 21., 13., 11., 16.,  7.,  6.]),\n",
       " array([20.34983302, 20.83817701, 21.326521  , 21.81486499, 22.30320898,\n",
       "        22.79155297, 23.27989696, 23.76824095, 24.25658494, 24.74492893,\n",
       "        25.23327292]),\n",
       " <BarContainer object of 10 artists>)"
      ]
     },
     "execution_count": 111,
     "metadata": {},
     "output_type": "execute_result"
    },
    {
     "data": {
      "image/png": "[encoded data removed]",
      "text/plain": [
       "<Figure size 640x480 with 1 Axes>"
      ]
     },
     "metadata": {},
     "output_type": "display_data"
    }
   ],
   "source": [
    "plt.hist(group_A)\n",
    "plt.hist(group_B)"
   ]
  },
  {
   "cell_type": "markdown",
   "metadata": {
    "pycharm": {
     "name": "#%% md\n"
    }
   },
   "source": [
    "## Теперь сделаем выборки 'похожими' по распределению"
   ]
  },
  {
   "cell_type": "code",
   "execution_count": 112,
   "metadata": {
    "ExecuteTime": {
     "end_time": "2021-02-06T14:53:30.717551Z",
     "start_time": "2021-02-06T14:53:28.154148Z"
    },
    "pycharm": {
     "name": "#%%\n"
    }
   },
   "outputs": [
    {
     "name": "stdout",
     "output_type": "stream",
     "text": [
      "0.0521\n"
     ]
    },
    {
     "data": {
      "text/plain": [
       "(array([1062., 1020., 1006.,  946., 1009.,  990.,  975.,  958., 1043.,\n",
       "         991.]),\n",
       " array([2.83801164e-04, 1.00255421e-01, 2.00227041e-01, 3.00198661e-01,\n",
       "        4.00170281e-01, 5.00141901e-01, 6.00113520e-01, 7.00085140e-01,\n",
       "        8.00056760e-01, 9.00028380e-01, 1.00000000e+00]),\n",
       " <BarContainer object of 10 artists>)"
      ]
     },
     "execution_count": 112,
     "metadata": {},
     "output_type": "execute_result"
    },
    {
     "data": {
      "image/png": "[encoded data removed]",
      "text/plain": [
       "<Figure size 640x480 with 1 Axes>"
      ]
     },
     "metadata": {},
     "output_type": "display_data"
    }
   ],
   "source": [
    "p_values = []\n",
    "iters = 10000\n",
    "for _ in range(iters):\n",
    "    group_A = np.random.normal(23, 11, size=100)\n",
    "    group_B = np.random.normal(23, 11, size=100)\n",
    "    p = scipy.stats.mannwhitneyu(group_A, group_B, alternative='two-sided').pvalue\n",
    "    p_values.append(p)\n",
    "p_values = np.array(p_values)\n",
    "print(p_values[p_values < 0.05].shape[0] / p_values.shape[0])\n",
    "plt.hist(p_values)"
   ]
  },
  {
   "cell_type": "markdown",
   "metadata": {
    "pycharm": {
     "name": "#%% md\n"
    }
   },
   "source": [
    "## Когда еще хорошо применять этот критерий?"
   ]
  },
  {
   "cell_type": "code",
   "execution_count": 113,
   "metadata": {
    "ExecuteTime": {
     "end_time": "2021-02-06T14:53:58.142071Z",
     "start_time": "2021-02-06T14:53:55.967848Z"
    },
    "pycharm": {
     "name": "#%%\n"
    }
   },
   "outputs": [
    {
     "name": "stdout",
     "output_type": "stream",
     "text": [
      "0.0495\n"
     ]
    },
    {
     "data": {
      "text/plain": [
       "(array([ 989., 1060., 1015.,  983.,  972., 1087.,  958.,  988.,  838.,\n",
       "        1110.]),\n",
       " array([3.38194810e-04, 1.00304375e-01, 2.00270556e-01, 3.00236736e-01,\n",
       "        4.00202917e-01, 5.00169097e-01, 6.00135278e-01, 7.00101458e-01,\n",
       "        8.00067639e-01, 9.00033819e-01, 1.00000000e+00]),\n",
       " <BarContainer object of 10 artists>)"
      ]
     },
     "execution_count": 113,
     "metadata": {},
     "output_type": "execute_result"
    },
    {
     "data": {
      "image/png": "[encoded data removed]",
      "text/plain": [
       "<Figure size 640x480 with 1 Axes>"
      ]
     },
     "metadata": {},
     "output_type": "display_data"
    }
   ],
   "source": [
    "p_values = []\n",
    "iters = 10000\n",
    "for _ in range(iters):\n",
    "    group_A = np.random.normal(23, 10, size=20)\n",
    "    group_B = np.random.normal(23, 11, size=20)\n",
    "    p = scipy.stats.mannwhitneyu(group_A, group_B, alternative='two-sided').pvalue\n",
    "    p_values.append(p)\n",
    "p_values = np.array(p_values)\n",
    "print(p_values[p_values < 0.05].shape[0] / p_values.shape[0])\n",
    "plt.hist(p_values)"
   ]
  },
  {
   "cell_type": "markdown",
   "metadata": {
    "pycharm": {
     "name": "#%% md\n"
    }
   },
   "source": [
    " # q-q plot"
   ]
  },
  {
   "cell_type": "code",
   "execution_count": 115,
   "metadata": {
    "ExecuteTime": {
     "end_time": "2021-02-06T14:56:08.629862Z",
     "start_time": "2021-02-06T14:56:08.519167Z"
    },
    "pycharm": {
     "name": "#%%\n"
    }
   },
   "outputs": [
    {
     "data": {
      "text/plain": [
       "Text(0.5, 1.0, 'Q-Q plot')"
      ]
     },
     "execution_count": 115,
     "metadata": {},
     "output_type": "execute_result"
    },
    {
     "data": {
      "image/png": "[encoded data removed]",
      "text/plain": [
       "<Figure size 640x480 with 1 Axes>"
      ]
     },
     "metadata": {},
     "output_type": "display_data"
    }
   ],
   "source": [
    "group_B = np.random.normal(23, 11, size=200)\n",
    "fig = plt.figure()\n",
    "ax = fig.add_subplot(111)\n",
    "x = group_B\n",
    "res = scipy.stats.probplot(x, dist='norm', sparams=(2.5,), plot=ax)\n",
    "ax.set_title(\"Q-Q plot\")"
   ]
  },
  {
   "cell_type": "code",
   "execution_count": 116,
   "metadata": {
    "ExecuteTime": {
     "end_time": "2021-02-06T14:57:10.695984Z",
     "start_time": "2021-02-06T14:57:10.579271Z"
    },
    "pycharm": {
     "name": "#%%\n"
    }
   },
   "outputs": [
    {
     "data": {
      "text/plain": [
       "Text(0.5, 1.0, 'Q-Q plot')"
      ]
     },
     "execution_count": 116,
     "metadata": {},
     "output_type": "execute_result"
    },
    {
     "data": {
      "image/png": "[encoded data removed]",
      "text/plain": [
       "<Figure size 640x480 with 1 Axes>"
      ]
     },
     "metadata": {},
     "output_type": "display_data"
    }
   ],
   "source": [
    "group_B = np.random.lognormal(9,3,100)\n",
    "fig = plt.figure()\n",
    "ax = fig.add_subplot(111)\n",
    "x = group_B\n",
    "res = scipy.stats.probplot(x, dist='norm', sparams=(2.5,), plot=ax)\n",
    "ax.set_title(\"Q-Q plot\")"
   ]
  },
  {
   "cell_type": "markdown",
   "metadata": {
    "pycharm": {
     "name": "#%% md\n"
    }
   },
   "source": [
    "# z-test"
   ]
  },
  {
   "cell_type": "code",
   "execution_count": 117,
   "metadata": {
    "ExecuteTime": {
     "end_time": "2021-02-06T14:57:46.210655Z",
     "start_time": "2021-02-06T14:57:46.205993Z"
    },
    "pycharm": {
     "name": "#%%\n"
    }
   },
   "outputs": [],
   "source": [
    "from statsmodels.stats.proportion import proportions_ztest"
   ]
  },
  {
   "cell_type": "code",
   "execution_count": 118,
   "metadata": {
    "ExecuteTime": {
     "end_time": "2021-02-06T14:59:23.316539Z",
     "start_time": "2021-02-06T14:59:23.312118Z"
    },
    "pycharm": {
     "name": "#%%\n"
    }
   },
   "outputs": [
    {
     "name": "stdout",
     "output_type": "stream",
     "text": [
      " z-score = -1.8430870578588152 \n",
      " p-value = 0.065316300639254\n"
     ]
    }
   ],
   "source": [
    "iters = 1000\n",
    "group_A = np.random.binomial(1, 0.1, size =iters)\n",
    "group_B = np.random.binomial(1, 0.1, size =iters)\n",
    "count = np.array([np.sum(group_A), np.sum(group_B)])\n",
    "nobs = np.array([iters, iters])\n",
    "z, p = proportions_ztest(count, nobs, value=0, alternative='two-sided')\n",
    "print(' z-score = {z} \\n p-value = {p:.15f}'.format(z=z,p=p))"
   ]
  },
  {
   "cell_type": "code",
   "execution_count": 119,
   "metadata": {
    "scrolled": true,
    "pycharm": {
     "name": "#%%\n"
    }
   },
   "outputs": [
    {
     "data": {
      "text/plain": [
       "array([0, 0, 0, 0, 0, 0, 0, 0, 0, 0, 0, 0, 0, 0, 0, 0, 0, 0, 0, 0, 0, 0,\n",
       "       0, 0, 0, 0, 0, 0, 0, 0, 0, 0, 0, 0, 0, 0, 0, 0, 0, 1, 0, 0, 0, 0,\n",
       "       0, 0, 0, 0, 0, 0, 0, 0, 1, 0, 0, 0, 1, 0, 0, 0, 0, 0, 0, 0, 0, 0,\n",
       "       0, 0, 0, 0, 0, 0, 0, 0, 0, 0, 0, 0, 0, 0, 0, 0, 0, 0, 0, 0, 1, 0,\n",
       "       0, 0, 0, 0, 0, 0, 0, 0, 0, 0, 0, 0, 0, 0, 0, 0, 0, 0, 0, 1, 0, 0,\n",
       "       0, 0, 0, 0, 0, 0, 0, 0, 0, 0, 0, 0, 0, 0, 0, 0, 0, 0, 0, 0, 0, 0,\n",
       "       0, 0, 0, 0, 0, 0, 0, 0, 0, 0, 1, 0, 0, 0, 0, 0, 1, 0, 0, 0, 0, 0,\n",
       "       0, 0, 0, 0, 0, 0, 0, 0, 0, 0, 0, 0, 1, 0, 0, 0, 0, 0, 0, 0, 0, 0,\n",
       "       0, 0, 0, 0, 0, 0, 0, 0, 0, 0, 0, 0, 0, 0, 0, 0, 0, 1, 0, 0, 0, 0,\n",
       "       1, 0, 0, 0, 0, 1, 0, 0, 0, 0, 0, 0, 0, 0, 0, 0, 0, 0, 0, 0, 1, 1,\n",
       "       0, 0, 0, 0, 1, 0, 0, 0, 0, 0, 0, 0, 0, 0, 0, 1, 0, 0, 0, 0, 0, 0,\n",
       "       0, 0, 0, 0, 0, 0, 0, 0, 0, 1, 0, 0, 0, 0, 0, 0, 0, 0, 0, 0, 0, 0,\n",
       "       0, 1, 0, 1, 0, 0, 0, 0, 0, 0, 0, 0, 0, 0, 0, 0, 0, 0, 0, 0, 0, 0,\n",
       "       0, 0, 0, 0, 1, 0, 0, 0, 0, 0, 0, 0, 0, 0, 0, 1, 0, 0, 0, 0, 0, 0,\n",
       "       0, 0, 0, 0, 0, 0, 0, 0, 0, 0, 0, 0, 0, 0, 0, 0, 0, 0, 0, 0, 0, 0,\n",
       "       0, 0, 0, 0, 0, 0, 0, 0, 0, 0, 0, 0, 0, 0, 0, 0, 0, 1, 0, 0, 0, 0,\n",
       "       0, 1, 0, 0, 0, 0, 0, 0, 0, 0, 0, 0, 0, 0, 0, 1, 0, 1, 0, 0, 0, 0,\n",
       "       0, 0, 0, 0, 1, 0, 0, 0, 0, 0, 0, 0, 0, 0, 0, 0, 0, 0, 0, 0, 0, 0,\n",
       "       1, 0, 0, 0, 0, 0, 0, 0, 0, 0, 0, 0, 0, 1, 1, 0, 0, 0, 1, 0, 0, 0,\n",
       "       1, 0, 0, 0, 0, 1, 1, 0, 0, 0, 0, 1, 0, 0, 0, 0, 0, 0, 1, 0, 0, 0,\n",
       "       0, 0, 0, 0, 1, 0, 0, 0, 0, 0, 1, 0, 0, 0, 0, 0, 0, 0, 1, 0, 0, 0,\n",
       "       0, 0, 0, 0, 0, 0, 0, 0, 0, 0, 0, 0, 1, 0, 0, 0, 0, 1, 0, 0, 0, 0,\n",
       "       0, 0, 0, 0, 0, 0, 0, 0, 0, 0, 0, 0, 1, 0, 0, 0, 0, 0, 0, 0, 0, 0,\n",
       "       1, 0, 0, 0, 0, 0, 0, 0, 0, 0, 0, 1, 0, 0, 0, 0, 0, 0, 0, 0, 0, 0,\n",
       "       1, 0, 0, 0, 0, 0, 0, 0, 0, 0, 0, 0, 0, 0, 0, 0, 0, 0, 0, 0, 0, 0,\n",
       "       0, 0, 0, 0, 0, 0, 0, 0, 0, 0, 0, 0, 0, 0, 0, 1, 0, 0, 0, 0, 0, 0,\n",
       "       0, 0, 1, 0, 0, 0, 0, 0, 0, 0, 0, 0, 0, 0, 0, 0, 0, 0, 0, 0, 0, 0,\n",
       "       0, 0, 0, 0, 0, 0, 0, 0, 0, 1, 1, 0, 0, 0, 0, 0, 0, 0, 0, 0, 0, 0,\n",
       "       0, 0, 0, 0, 0, 0, 0, 0, 0, 0, 0, 0, 0, 1, 0, 0, 0, 0, 0, 0, 0, 0,\n",
       "       0, 0, 0, 1, 0, 0, 0, 0, 0, 0, 0, 0, 0, 0, 0, 0, 0, 1, 0, 0, 0, 1,\n",
       "       0, 0, 0, 0, 0, 0, 0, 0, 0, 0, 0, 1, 0, 0, 0, 0, 0, 1, 0, 0, 0, 0,\n",
       "       0, 0, 0, 0, 0, 0, 0, 0, 0, 0, 0, 0, 0, 0, 0, 0, 0, 0, 0, 0, 0, 0,\n",
       "       0, 0, 0, 0, 0, 0, 0, 0, 0, 0, 0, 1, 0, 0, 0, 0, 0, 0, 1, 0, 0, 0,\n",
       "       0, 0, 0, 0, 0, 0, 0, 0, 0, 0, 0, 0, 0, 0, 0, 0, 0, 0, 0, 0, 1, 0,\n",
       "       0, 0, 0, 0, 1, 0, 1, 0, 0, 0, 0, 0, 0, 0, 0, 0, 0, 0, 1, 0, 1, 0,\n",
       "       0, 0, 0, 1, 0, 1, 0, 0, 0, 0, 0, 0, 0, 1, 0, 0, 0, 0, 0, 0, 1, 0,\n",
       "       0, 0, 1, 0, 0, 0, 0, 0, 0, 0, 1, 0, 1, 0, 0, 0, 0, 1, 0, 0, 0, 0,\n",
       "       0, 0, 0, 0, 0, 0, 0, 0, 0, 0, 0, 0, 0, 0, 1, 1, 0, 0, 0, 0, 0, 0,\n",
       "       0, 0, 0, 0, 0, 1, 0, 0, 0, 0, 0, 0, 0, 0, 0, 0, 1, 1, 0, 0, 0, 0,\n",
       "       0, 0, 0, 0, 1, 0, 0, 0, 0, 0, 0, 0, 0, 1, 0, 0, 0, 0, 0, 0, 0, 0,\n",
       "       0, 1, 0, 0, 0, 0, 0, 0, 0, 1, 1, 0, 0, 0, 0, 1, 0, 0, 0, 0, 0, 0,\n",
       "       1, 1, 0, 0, 0, 0, 0, 1, 1, 0, 0, 0, 0, 0, 0, 0, 0, 0, 0, 0, 0, 0,\n",
       "       0, 0, 0, 1, 0, 0, 1, 0, 0, 0, 0, 0, 0, 0, 0, 0, 0, 0, 0, 0, 0, 0,\n",
       "       0, 0, 0, 0, 0, 0, 1, 0, 0, 0, 0, 0, 0, 0, 0, 0, 0, 0, 0, 0, 0, 0,\n",
       "       0, 1, 0, 0, 0, 0, 0, 0, 0, 0, 0, 0, 0, 0, 0, 0, 0, 0, 0, 0, 1, 0,\n",
       "       1, 1, 0, 0, 0, 0, 0, 0, 0, 0])"
      ]
     },
     "execution_count": 119,
     "metadata": {},
     "output_type": "execute_result"
    }
   ],
   "source": [
    "group_A"
   ]
  },
  {
   "cell_type": "code",
   "execution_count": 120,
   "metadata": {
    "pycharm": {
     "name": "#%%\n"
    }
   },
   "outputs": [
    {
     "data": {
      "text/plain": [
       "array([ 90, 115])"
      ]
     },
     "execution_count": 120,
     "metadata": {},
     "output_type": "execute_result"
    }
   ],
   "source": [
    "count"
   ]
  },
  {
   "cell_type": "code",
   "execution_count": 121,
   "metadata": {
    "ExecuteTime": {
     "end_time": "2021-02-06T14:59:41.202092Z",
     "start_time": "2021-02-06T14:59:41.198975Z"
    },
    "pycharm": {
     "name": "#%%\n"
    }
   },
   "outputs": [
    {
     "data": {
      "text/plain": [
       "array([1000, 1000])"
      ]
     },
     "execution_count": 121,
     "metadata": {},
     "output_type": "execute_result"
    }
   ],
   "source": [
    "nobs"
   ]
  },
  {
   "cell_type": "code",
   "execution_count": 46,
   "metadata": {
    "ExecuteTime": {
     "end_time": "2021-02-06T14:59:41.763823Z",
     "start_time": "2021-02-06T14:59:41.760852Z"
    },
    "pycharm": {
     "name": "#%%\n"
    }
   },
   "outputs": [
    {
     "data": {
      "text/plain": [
       "array([1000, 1000])"
      ]
     },
     "execution_count": 46,
     "metadata": {},
     "output_type": "execute_result"
    }
   ],
   "source": [
    "nobs"
   ]
  },
  {
   "cell_type": "code",
   "execution_count": 122,
   "metadata": {
    "ExecuteTime": {
     "end_time": "2021-02-06T14:59:56.735876Z",
     "start_time": "2021-02-06T14:59:53.865131Z"
    },
    "pycharm": {
     "name": "#%%\n"
    }
   },
   "outputs": [
    {
     "name": "stdout",
     "output_type": "stream",
     "text": [
      "0.0436\n"
     ]
    },
    {
     "data": {
      "text/plain": [
       "(array([ 917.,  971.,  992., 1016., 1015.,  967., 1089., 1046., 1042.,\n",
       "         945.]),\n",
       " array([1.63805604e-05, 1.00014743e-01, 2.00013104e-01, 3.00011466e-01,\n",
       "        4.00009828e-01, 5.00008190e-01, 6.00006552e-01, 7.00004914e-01,\n",
       "        8.00003276e-01, 9.00001638e-01, 1.00000000e+00]),\n",
       " <BarContainer object of 10 artists>)"
      ]
     },
     "execution_count": 122,
     "metadata": {},
     "output_type": "execute_result"
    },
    {
     "data": {
      "image/png": "[encoded data removed]",
      "text/plain": [
       "<Figure size 640x480 with 1 Axes>"
      ]
     },
     "metadata": {},
     "output_type": "display_data"
    }
   ],
   "source": [
    "p_values = []\n",
    "iters = 10000\n",
    "size = 5000\n",
    "for _ in range(iters):\n",
    "    group_A = np.random.binomial(1, 0.1, size =size)\n",
    "    group_B = np.random.binomial(1, 0.1, size =size)\n",
    "    count = np.array([np.sum(group_A), np.sum(group_B)])\n",
    "    nobs = np.array([iters, iters])\n",
    "    z, p = proportions_ztest(count, nobs, alternative='two-sided')\n",
    "    p_values.append(p)\n",
    "p_values = np.array(p_values)\n",
    "print(p_values[p_values < 0.05].shape[0] / p_values.shape[0])\n",
    "plt.hist(p_values)"
   ]
  },
  {
   "cell_type": "code",
   "execution_count": 127,
   "metadata": {
    "ExecuteTime": {
     "end_time": "2021-02-06T15:01:06.430358Z",
     "start_time": "2021-02-06T15:01:03.840308Z"
    },
    "pycharm": {
     "name": "#%%\n"
    }
   },
   "outputs": [
    {
     "name": "stdout",
     "output_type": "stream",
     "text": [
      "0.9941\n"
     ]
    },
    {
     "data": {
      "text/plain": [
       "(array([9.966e+03, 2.600e+01, 4.000e+00, 2.000e+00, 1.000e+00, 0.000e+00,\n",
       "        0.000e+00, 0.000e+00, 0.000e+00, 1.000e+00]),\n",
       " array([1.79022031e-16, 9.02741134e-02, 1.80548227e-01, 2.70822340e-01,\n",
       "        3.61096453e-01, 4.51370567e-01, 5.41644680e-01, 6.31918794e-01,\n",
       "        7.22192907e-01, 8.12467020e-01, 9.02741134e-01]),\n",
       " <BarContainer object of 10 artists>)"
      ]
     },
     "execution_count": 127,
     "metadata": {},
     "output_type": "execute_result"
    },
    {
     "data": {
      "image/png": "[encoded data removed]",
      "text/plain": [
       "<Figure size 640x480 with 1 Axes>"
      ]
     },
     "metadata": {},
     "output_type": "display_data"
    }
   ],
   "source": [
    "p_values = []\n",
    "iters = 10000\n",
    "size = 50000\n",
    "for _ in range(iters):\n",
    "    group_A = np.random.binomial(1, 0.01, size =size)\n",
    "    group_B = np.random.binomial(1, 0.013, size =size)\n",
    "    count = np.array([np.sum(group_A), np.sum(group_B)])\n",
    "    nobs = np.array([iters, iters])\n",
    "    z, p = proportions_ztest(count, nobs, value=0, alternative='two-sided')\n",
    "    p_values.append(p)\n",
    "p_values = np.array(p_values)\n",
    "print(p_values[p_values < 0.05].shape[0] / p_values.shape[0])\n",
    "plt.hist(p_values)"
   ]
  },
  {
   "cell_type": "code",
   "execution_count": null,
   "metadata": {
    "pycharm": {
     "name": "#%%\n"
    }
   },
   "outputs": [],
   "source": []
  },
  {
   "cell_type": "code",
   "execution_count": null,
   "metadata": {
    "pycharm": {
     "name": "#%%\n"
    }
   },
   "outputs": [],
   "source": []
  },
  {
   "cell_type": "markdown",
   "metadata": {
    "pycharm": {
     "name": "#%% md\n"
    }
   },
   "source": [
    "## Увеличим разницу"
   ]
  },
  {
   "cell_type": "code",
   "execution_count": 128,
   "metadata": {
    "ExecuteTime": {
     "end_time": "2021-02-06T15:02:28.182891Z",
     "start_time": "2021-02-06T15:02:25.492949Z"
    },
    "pycharm": {
     "name": "#%%\n"
    }
   },
   "outputs": [
    {
     "name": "stdout",
     "output_type": "stream",
     "text": [
      "0.9346\n"
     ]
    },
    {
     "data": {
      "text/plain": [
       "(array([9.645e+03, 2.110e+02, 7.400e+01, 2.900e+01, 2.500e+01, 4.000e+00,\n",
       "        6.000e+00, 0.000e+00, 2.000e+00, 4.000e+00]),\n",
       " array([1.30523044e-11, 1.00000000e-01, 2.00000000e-01, 3.00000000e-01,\n",
       "        4.00000000e-01, 5.00000000e-01, 6.00000000e-01, 7.00000000e-01,\n",
       "        8.00000000e-01, 9.00000000e-01, 1.00000000e+00]),\n",
       " <BarContainer object of 10 artists>)"
      ]
     },
     "execution_count": 128,
     "metadata": {},
     "output_type": "execute_result"
    },
    {
     "data": {
      "image/png": "[encoded data removed]",
      "text/plain": [
       "<Figure size 640x480 with 1 Axes>"
      ]
     },
     "metadata": {},
     "output_type": "display_data"
    }
   ],
   "source": [
    "p_values = []\n",
    "iters = 10000\n",
    "size = 5000\n",
    "for _ in range(iters):\n",
    "    group_A = np.random.binomial(1, 0.08, size =size)\n",
    "    group_B = np.random.binomial(1, 0.1, size =size)\n",
    "    count = np.array([np.sum(group_A), np.sum(group_B)])\n",
    "    nobs = np.array([iters, iters])\n",
    "    z, p = proportions_ztest(count, nobs, value=0, alternative='two-sided')\n",
    "    p_values.append(p)\n",
    "p_values = np.array(p_values)\n",
    "print(p_values[p_values < 0.05].shape[0] / p_values.shape[0])\n",
    "plt.hist(p_values)"
   ]
  },
  {
   "cell_type": "markdown",
   "metadata": {
    "pycharm": {
     "name": "#%% md\n"
    }
   },
   "source": [
    "# Перестановочный критерий"
   ]
  },
  {
   "cell_type": "code",
   "execution_count": 129,
   "metadata": {
    "ExecuteTime": {
     "end_time": "2021-02-06T15:03:33.597358Z",
     "start_time": "2021-02-06T15:03:31.296943Z"
    },
    "pycharm": {
     "name": "#%%\n"
    }
   },
   "outputs": [
    {
     "name": "stdout",
     "output_type": "stream",
     "text": [
      "0.0465\n"
     ]
    },
    {
     "data": {
      "text/plain": [
       "(array([ 976.,  966., 1016.,  984., 1021.,  945.,  986., 1066., 1043.,\n",
       "         997.]),\n",
       " array([1.48246774e-05, 1.00007141e-01, 1.99999456e-01, 2.99991772e-01,\n",
       "        3.99984088e-01, 4.99976404e-01, 5.99968720e-01, 6.99961036e-01,\n",
       "        7.99953352e-01, 8.99945668e-01, 9.99937983e-01]),\n",
       " <BarContainer object of 10 artists>)"
      ]
     },
     "execution_count": 129,
     "metadata": {},
     "output_type": "execute_result"
    },
    {
     "data": {
      "image/png": "[encoded data removed]",
      "text/plain": [
       "<Figure size 640x480 with 1 Axes>"
      ]
     },
     "metadata": {},
     "output_type": "display_data"
    }
   ],
   "source": [
    "p_values = []\n",
    "iters = 10000\n",
    "for _ in range(iters):\n",
    "    group_A = np.random.normal(10,3,100)\n",
    "    group_B = np.random.normal(10,2,100)\n",
    "    p = scipy.stats.ttest_ind(group_A, group_B).pvalue\n",
    "    p_values.append(p)\n",
    "p_values = np.array(p_values)\n",
    "print(p_values[p_values < 0.05].shape[0] / p_values.shape[0])\n",
    "plt.hist(p_values)"
   ]
  },
  {
   "cell_type": "markdown",
   "metadata": {
    "pycharm": {
     "name": "#%% md\n"
    }
   },
   "source": [
    "## добавим выбросы"
   ]
  },
  {
   "cell_type": "code",
   "execution_count": 130,
   "metadata": {
    "ExecuteTime": {
     "end_time": "2021-02-06T15:04:32.303305Z",
     "start_time": "2021-02-06T15:04:29.738415Z"
    },
    "pycharm": {
     "name": "#%%\n"
    }
   },
   "outputs": [
    {
     "name": "stdout",
     "output_type": "stream",
     "text": [
      "0.061\n"
     ]
    },
    {
     "data": {
      "text/plain": [
       "(array([1149., 1091.,  991., 1012.,  996.,  965.,  909.,  925.,  981.,\n",
       "         981.]),\n",
       " array([4.52186264e-06, 1.00000912e-01, 1.99997303e-01, 2.99993693e-01,\n",
       "        3.99990084e-01, 4.99986474e-01, 5.99982865e-01, 6.99979255e-01,\n",
       "        7.99975645e-01, 8.99972036e-01, 9.99968426e-01]),\n",
       " <BarContainer object of 10 artists>)"
      ]
     },
     "execution_count": 130,
     "metadata": {},
     "output_type": "execute_result"
    },
    {
     "data": {
      "image/png": "[encoded data removed]",
      "text/plain": [
       "<Figure size 640x480 with 1 Axes>"
      ]
     },
     "metadata": {},
     "output_type": "display_data"
    }
   ],
   "source": [
    "p_values = []\n",
    "iters = 10000\n",
    "for _ in range(iters):\n",
    "    data_un = list(np.random.normal(10,3,50))\n",
    "    data_in = [13, 14, 15]\n",
    "    group_A = np.array(data_un + data_in)\n",
    "    group_B = np.random.normal(10,3,50)\n",
    "    p = scipy.stats.ttest_ind(group_A, group_B).pvalue\n",
    "    p_values.append(p)\n",
    "p_values = np.array(p_values)\n",
    "print(p_values[p_values < 0.05].shape[0] / p_values.shape[0])\n",
    "plt.hist(p_values)"
   ]
  },
  {
   "cell_type": "code",
   "execution_count": 52,
   "metadata": {
    "ExecuteTime": {
     "end_time": "2021-02-06T15:06:16.051032Z",
     "start_time": "2021-02-06T15:06:16.045818Z"
    },
    "pycharm": {
     "name": "#%%\n"
    }
   },
   "outputs": [],
   "source": [
    "def combination_test(data_fst, data_snd, iters=1000, plot=True):\n",
    "    data = np.array(list(data_fst) + list(data_snd))\n",
    "    size = len(data)\n",
    "    values = []\n",
    "    fst_ratio = len(data_fst) * 1. / size\n",
    "    for _ in range(iters):\n",
    "        mask = (np.random.random(size=size) < fst_ratio)\n",
    "        values.append(data[mask].mean() - data[~mask].mean())\n",
    "        \n",
    "    if plot:\n",
    "        plt.hist(values, bins=30)\n",
    "        plt.show()\n",
    "        \n",
    "    return (np.abs(values) > np.abs(data_fst.mean() - data_snd.mean())).mean()"
   ]
  },
  {
   "cell_type": "code",
   "execution_count": null,
   "metadata": {
    "pycharm": {
     "name": "#%%\n"
    }
   },
   "outputs": [],
   "source": []
  },
  {
   "cell_type": "code",
   "execution_count": 131,
   "metadata": {
    "ExecuteTime": {
     "end_time": "2021-02-06T15:07:27.517941Z",
     "start_time": "2021-02-06T15:07:07.441619Z"
    },
    "pycharm": {
     "name": "#%%\n"
    }
   },
   "outputs": [
    {
     "name": "stdout",
     "output_type": "stream",
     "text": [
      "0.06\n"
     ]
    },
    {
     "data": {
      "text/plain": [
       "(array([115., 104.,  93.,  98.,  94.,  89.,  99., 107.,  99., 102.]),\n",
       " array([0.    , 0.0999, 0.1998, 0.2997, 0.3996, 0.4995, 0.5994, 0.6993,\n",
       "        0.7992, 0.8991, 0.999 ]),\n",
       " <BarContainer object of 10 artists>)"
      ]
     },
     "execution_count": 131,
     "metadata": {},
     "output_type": "execute_result"
    },
    {
     "data": {
      "image/png": "[encoded data removed]",
      "text/plain": [
       "<Figure size 640x480 with 1 Axes>"
      ]
     },
     "metadata": {},
     "output_type": "display_data"
    }
   ],
   "source": [
    "p_values = []\n",
    "iters = 1000\n",
    "for _ in range(iters):\n",
    "    data_un = list(np.random.normal(10,3,50))\n",
    "    data_in = [13, 14, 15]\n",
    "    group_A = np.array(data_un + data_in)\n",
    "    group_B = np.random.normal(10,3,50)\n",
    "    p = combination_test(group_A, group_B, plot = False)\n",
    "    p_values.append(p)\n",
    "p_values = np.array(p_values)\n",
    "print(p_values[p_values < 0.05].shape[0] / p_values.shape[0])\n",
    "plt.hist(p_values)"
   ]
  },
  {
   "cell_type": "code",
   "execution_count": null,
   "metadata": {
    "pycharm": {
     "name": "#%%\n"
    }
   },
   "outputs": [],
   "source": []
  },
  {
   "cell_type": "code",
   "execution_count": null,
   "metadata": {
    "pycharm": {
     "name": "#%%\n"
    }
   },
   "outputs": [],
   "source": []
  },
  {
   "cell_type": "markdown",
   "metadata": {
    "pycharm": {
     "name": "#%% md\n"
    }
   },
   "source": [
    "# Критерий Колмогорова-Смирнова"
   ]
  },
  {
   "cell_type": "markdown",
   "metadata": {
    "ExecuteTime": {
     "start_time": "2021-02-05T17:51:27.676Z"
    },
    "pycharm": {
     "name": "#%% md\n"
    }
   },
   "source": [
    "## Проверим равномернность распределения с помощью критерия Колмогорова-Смирнова"
   ]
  },
  {
   "cell_type": "code",
   "execution_count": 132,
   "metadata": {
    "ExecuteTime": {
     "end_time": "2021-02-06T15:15:00.697799Z",
     "start_time": "2021-02-06T15:15:00.186960Z"
    },
    "pycharm": {
     "name": "#%%\n"
    }
   },
   "outputs": [
    {
     "name": "stdout",
     "output_type": "stream",
     "text": [
      "0.104\n"
     ]
    },
    {
     "data": {
      "text/plain": [
       "(array([170., 106.,  93.,  88.,  89., 102.,  93.,  80.,  90.,  89.]),\n",
       " array([3.85690603e-05, 9.97422815e-02, 1.99445994e-01, 2.99149706e-01,\n",
       "        3.98853419e-01, 4.98557131e-01, 5.98260844e-01, 6.97964556e-01,\n",
       "        7.97668268e-01, 8.97371981e-01, 9.97075693e-01]),\n",
       " <BarContainer object of 10 artists>)"
      ]
     },
     "execution_count": 132,
     "metadata": {},
     "output_type": "execute_result"
    },
    {
     "data": {
      "image/png": "[encoded data removed]",
      "text/plain": [
       "<Figure size 640x480 with 1 Axes>"
      ]
     },
     "metadata": {},
     "output_type": "display_data"
    }
   ],
   "source": [
    "p_values = []\n",
    "iters = 1000\n",
    "for _ in range(iters):\n",
    "    group_A = np.random.normal(23, 11, size=100)\n",
    "    group_B = np.random.normal(23, 1, size=100)\n",
    "    p = scipy.stats.mannwhitneyu(group_A, group_B, alternative='two-sided').pvalue\n",
    "    p_values.append(p)\n",
    "p_values = np.array(p_values)\n",
    "print(p_values[p_values < 0.05].shape[0] / p_values.shape[0])\n",
    "plt.hist(p_values)"
   ]
  },
  {
   "cell_type": "code",
   "execution_count": 133,
   "metadata": {
    "ExecuteTime": {
     "end_time": "2021-02-06T15:15:34.051966Z",
     "start_time": "2021-02-06T15:15:34.039270Z"
    },
    "pycharm": {
     "name": "#%%\n"
    }
   },
   "outputs": [
    {
     "data": {
      "text/plain": [
       "KstestResult(statistic=0.08751169703792022, pvalue=4.109975599820617e-07)"
      ]
     },
     "execution_count": 133,
     "metadata": {},
     "output_type": "execute_result"
    }
   ],
   "source": [
    "scipy.stats.kstest(p_values, scipy.stats.uniform(loc=0.0, scale=1.0).cdf)"
   ]
  },
  {
   "cell_type": "code",
   "execution_count": 134,
   "metadata": {
    "ExecuteTime": {
     "end_time": "2021-02-06T15:16:27.458835Z",
     "start_time": "2021-02-06T15:16:25.019076Z"
    },
    "pycharm": {
     "name": "#%%\n"
    }
   },
   "outputs": [
    {
     "name": "stdout",
     "output_type": "stream",
     "text": [
      "0.0487\n"
     ]
    },
    {
     "data": {
      "text/plain": [
       "(array([ 990.,  994.,  951., 1009., 1048., 1043.,  966., 1018.,  975.,\n",
       "        1006.]),\n",
       " array([5.03964862e-05, 1.00036759e-01, 2.00023122e-01, 3.00009485e-01,\n",
       "        3.99995848e-01, 4.99982210e-01, 5.99968573e-01, 6.99954936e-01,\n",
       "        7.99941299e-01, 8.99927661e-01, 9.99914024e-01]),\n",
       " <BarContainer object of 10 artists>)"
      ]
     },
     "execution_count": 134,
     "metadata": {},
     "output_type": "execute_result"
    },
    {
     "data": {
      "image/png": "[encoded data removed]",
      "text/plain": [
       "<Figure size 640x480 with 1 Axes>"
      ]
     },
     "metadata": {},
     "output_type": "display_data"
    }
   ],
   "source": [
    "p_values = []\n",
    "iters = 10000\n",
    "for _ in range(iters):\n",
    "    group_A = np.random.normal(10,3,100)\n",
    "    group_B = np.random.normal(10,2,100)\n",
    "    p = scipy.stats.ttest_ind(group_A, group_B).pvalue\n",
    "    p_values.append(p)\n",
    "p_values = np.array(p_values)\n",
    "print(p_values[p_values < 0.05].shape[0] / p_values.shape[0])\n",
    "plt.hist(p_values)"
   ]
  },
  {
   "cell_type": "code",
   "execution_count": 135,
   "metadata": {
    "ExecuteTime": {
     "end_time": "2021-02-06T15:16:40.606567Z",
     "start_time": "2021-02-06T15:16:40.599627Z"
    },
    "pycharm": {
     "name": "#%%\n"
    }
   },
   "outputs": [
    {
     "data": {
      "text/plain": [
       "KstestResult(statistic=0.007893751242813107, pvalue=0.5587946867226854)"
      ]
     },
     "execution_count": 135,
     "metadata": {},
     "output_type": "execute_result"
    }
   ],
   "source": [
    "scipy.stats.kstest(p_values, scipy.stats.uniform(loc=0.0, scale=1.0).cdf)"
   ]
  },
  {
   "cell_type": "code",
   "execution_count": null,
   "metadata": {
    "pycharm": {
     "name": "#%%\n"
    }
   },
   "outputs": [],
   "source": []
  },
  {
   "cell_type": "code",
   "execution_count": null,
   "metadata": {
    "pycharm": {
     "name": "#%%\n"
    }
   },
   "outputs": [],
   "source": []
  },
  {
   "cell_type": "code",
   "execution_count": null,
   "metadata": {
    "pycharm": {
     "name": "#%%\n"
    }
   },
   "outputs": [],
   "source": []
  },
  {
   "cell_type": "code",
   "execution_count": null,
   "metadata": {
    "pycharm": {
     "name": "#%%\n"
    }
   },
   "outputs": [],
   "source": []
  },
  {
   "cell_type": "code",
   "execution_count": null,
   "metadata": {
    "pycharm": {
     "name": "#%%\n"
    }
   },
   "outputs": [],
   "source": []
  }
 ],
 "metadata": {
  "kernelspec": {
   "name": "python3",
   "language": "python",
   "display_name": "Python 3 (ipykernel)"
  },
  "language_info": {
   "codemirror_mode": {
    "name": "ipython",
    "version": 3
   },
   "file_extension": ".py",
   "mimetype": "text/x-python",
   "name": "python",
   "nbconvert_exporter": "python",
   "pygments_lexer": "ipython3",
   "version": "3.9.12"
  }
 },
 "nbformat": 4,
 "nbformat_minor": 4
}