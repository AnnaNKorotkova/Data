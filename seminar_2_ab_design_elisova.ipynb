{
  "nbformat": 4,
  "nbformat_minor": 0,
  "metadata": {
    "colab": {
      "provenance": [],
      "toc_visible": true,
      "include_colab_link": true
    },
    "kernelspec": {
      "name": "python3",
      "display_name": "Python 3"
    },
    "language_info": {
      "name": "python"
    },
    "widgets": {
      "application/vnd.jupyter.widget-state+json": {
        "c8b11c8366e24aee9289a851d300acac": {
          "model_module": "@jupyter-widgets/controls",
          "model_name": "HBoxModel",
          "model_module_version": "1.5.0",
          "state": {
            "_dom_classes": [],
            "_model_module": "@jupyter-widgets/controls",
            "_model_module_version": "1.5.0",
            "_model_name": "HBoxModel",
            "_view_count": null,
            "_view_module": "@jupyter-widgets/controls",
            "_view_module_version": "1.5.0",
            "_view_name": "HBoxView",
            "box_style": "",
            "children": [
              "IPY_MODEL_1fa692f2807b4b8f9f3530aa896f0ffb",
              "IPY_MODEL_ab7f5d5b08514899aa62130417479c56",
              "IPY_MODEL_9ec8f952dcb94cce8f583155219a16d6"
            ],
            "layout": "IPY_MODEL_66b6a2a8c43b4453afc71cfb7e5eece0"
          }
        },
        "1fa692f2807b4b8f9f3530aa896f0ffb": {
          "model_module": "@jupyter-widgets/controls",
          "model_name": "HTMLModel",
          "model_module_version": "1.5.0",
          "state": {
            "_dom_classes": [],
            "_model_module": "@jupyter-widgets/controls",
            "_model_module_version": "1.5.0",
            "_model_name": "HTMLModel",
            "_view_count": null,
            "_view_module": "@jupyter-widgets/controls",
            "_view_module_version": "1.5.0",
            "_view_name": "HTMLView",
            "description": "",
            "description_tooltip": null,
            "layout": "IPY_MODEL_8bbdfb6fcddc4ae7bb9bd7e99b91c931",
            "placeholder": "​",
            "style": "IPY_MODEL_6d03947a797b498fb1a7d4a463a4b5b7",
            "value": "kion dataset download: 100%"
          }
        },
        "ab7f5d5b08514899aa62130417479c56": {
          "model_module": "@jupyter-widgets/controls",
          "model_name": "FloatProgressModel",
          "model_module_version": "1.5.0",
          "state": {
            "_dom_classes": [],
            "_model_module": "@jupyter-widgets/controls",
            "_model_module_version": "1.5.0",
            "_model_name": "FloatProgressModel",
            "_view_count": null,
            "_view_module": "@jupyter-widgets/controls",
            "_view_module_version": "1.5.0",
            "_view_name": "ProgressView",
            "bar_style": "",
            "description": "",
            "description_tooltip": null,
            "layout": "IPY_MODEL_973264eec58c4d19b53c5947ad175ff1",
            "max": 78795619,
            "min": 0,
            "orientation": "horizontal",
            "style": "IPY_MODEL_ac38d0781def428ba6eea35c47411aac",
            "value": 78795619
          }
        },
        "9ec8f952dcb94cce8f583155219a16d6": {
          "model_module": "@jupyter-widgets/controls",
          "model_name": "HTMLModel",
          "model_module_version": "1.5.0",
          "state": {
            "_dom_classes": [],
            "_model_module": "@jupyter-widgets/controls",
            "_model_module_version": "1.5.0",
            "_model_name": "HTMLModel",
            "_view_count": null,
            "_view_module": "@jupyter-widgets/controls",
            "_view_module_version": "1.5.0",
            "_view_name": "HTMLView",
            "description": "",
            "description_tooltip": null,
            "layout": "IPY_MODEL_55642b034aab442fac136ce9b4e30332",
            "placeholder": "​",
            "style": "IPY_MODEL_70e9ef85b9d14560a0a21acd34a49ed1",
            "value": " 78.8M/78.8M [00:20&lt;00:00, 264MiB/s]"
          }
        },
        "66b6a2a8c43b4453afc71cfb7e5eece0": {
          "model_module": "@jupyter-widgets/base",
          "model_name": "LayoutModel",
          "model_module_version": "1.2.0",
          "state": {
            "_model_module": "@jupyter-widgets/base",
            "_model_module_version": "1.2.0",
            "_model_name": "LayoutModel",
            "_view_count": null,
            "_view_module": "@jupyter-widgets/base",
            "_view_module_version": "1.2.0",
            "_view_name": "LayoutView",
            "align_content": null,
            "align_items": null,
            "align_self": null,
            "border": null,
            "bottom": null,
            "display": null,
            "flex": null,
            "flex_flow": null,
            "grid_area": null,
            "grid_auto_columns": null,
            "grid_auto_flow": null,
            "grid_auto_rows": null,
            "grid_column": null,
            "grid_gap": null,
            "grid_row": null,
            "grid_template_areas": null,
            "grid_template_columns": null,
            "grid_template_rows": null,
            "height": null,
            "justify_content": null,
            "justify_items": null,
            "left": null,
            "margin": null,
            "max_height": null,
            "max_width": null,
            "min_height": null,
            "min_width": null,
            "object_fit": null,
            "object_position": null,
            "order": null,
            "overflow": null,
            "overflow_x": null,
            "overflow_y": null,
            "padding": null,
            "right": null,
            "top": null,
            "visibility": null,
            "width": null
          }
        },
        "8bbdfb6fcddc4ae7bb9bd7e99b91c931": {
          "model_module": "@jupyter-widgets/base",
          "model_name": "LayoutModel",
          "model_module_version": "1.2.0",
          "state": {
            "_model_module": "@jupyter-widgets/base",
            "_model_module_version": "1.2.0",
            "_model_name": "LayoutModel",
            "_view_count": null,
            "_view_module": "@jupyter-widgets/base",
            "_view_module_version": "1.2.0",
            "_view_name": "LayoutView",
            "align_content": null,
            "align_items": null,
            "align_self": null,
            "border": null,
            "bottom": null,
            "display": null,
            "flex": null,
            "flex_flow": null,
            "grid_area": null,
            "grid_auto_columns": null,
            "grid_auto_flow": null,
            "grid_auto_rows": null,
            "grid_column": null,
            "grid_gap": null,
            "grid_row": null,
            "grid_template_areas": null,
            "grid_template_columns": null,
            "grid_template_rows": null,
            "height": null,
            "justify_content": null,
            "justify_items": null,
            "left": null,
            "margin": null,
            "max_height": null,
            "max_width": null,
            "min_height": null,
            "min_width": null,
            "object_fit": null,
            "object_position": null,
            "order": null,
            "overflow": null,
            "overflow_x": null,
            "overflow_y": null,
            "padding": null,
            "right": null,
            "top": null,
            "visibility": null,
            "width": null
          }
        },
        "6d03947a797b498fb1a7d4a463a4b5b7": {
          "model_module": "@jupyter-widgets/controls",
          "model_name": "DescriptionStyleModel",
          "model_module_version": "1.5.0",
          "state": {
            "_model_module": "@jupyter-widgets/controls",
            "_model_module_version": "1.5.0",
            "_model_name": "DescriptionStyleModel",
            "_view_count": null,
            "_view_module": "@jupyter-widgets/base",
            "_view_module_version": "1.2.0",
            "_view_name": "StyleView",
            "description_width": ""
          }
        },
        "973264eec58c4d19b53c5947ad175ff1": {
          "model_module": "@jupyter-widgets/base",
          "model_name": "LayoutModel",
          "model_module_version": "1.2.0",
          "state": {
            "_model_module": "@jupyter-widgets/base",
            "_model_module_version": "1.2.0",
            "_model_name": "LayoutModel",
            "_view_count": null,
            "_view_module": "@jupyter-widgets/base",
            "_view_module_version": "1.2.0",
            "_view_name": "LayoutView",
            "align_content": null,
            "align_items": null,
            "align_self": null,
            "border": null,
            "bottom": null,
            "display": null,
            "flex": null,
            "flex_flow": null,
            "grid_area": null,
            "grid_auto_columns": null,
            "grid_auto_flow": null,
            "grid_auto_rows": null,
            "grid_column": null,
            "grid_gap": null,
            "grid_row": null,
            "grid_template_areas": null,
            "grid_template_columns": null,
            "grid_template_rows": null,
            "height": null,
            "justify_content": null,
            "justify_items": null,
            "left": null,
            "margin": null,
            "max_height": null,
            "max_width": null,
            "min_height": null,
            "min_width": null,
            "object_fit": null,
            "object_position": null,
            "order": null,
            "overflow": null,
            "overflow_x": null,
            "overflow_y": null,
            "padding": null,
            "right": null,
            "top": null,
            "visibility": null,
            "width": null
          }
        },
        "ac38d0781def428ba6eea35c47411aac": {
          "model_module": "@jupyter-widgets/controls",
          "model_name": "ProgressStyleModel",
          "model_module_version": "1.5.0",
          "state": {
            "_model_module": "@jupyter-widgets/controls",
            "_model_module_version": "1.5.0",
            "_model_name": "ProgressStyleModel",
            "_view_count": null,
            "_view_module": "@jupyter-widgets/base",
            "_view_module_version": "1.2.0",
            "_view_name": "StyleView",
            "bar_color": null,
            "description_width": ""
          }
        },
        "55642b034aab442fac136ce9b4e30332": {
          "model_module": "@jupyter-widgets/base",
          "model_name": "LayoutModel",
          "model_module_version": "1.2.0",
          "state": {
            "_model_module": "@jupyter-widgets/base",
            "_model_module_version": "1.2.0",
            "_model_name": "LayoutModel",
            "_view_count": null,
            "_view_module": "@jupyter-widgets/base",
            "_view_module_version": "1.2.0",
            "_view_name": "LayoutView",
            "align_content": null,
            "align_items": null,
            "align_self": null,
            "border": null,
            "bottom": null,
            "display": null,
            "flex": null,
            "flex_flow": null,
            "grid_area": null,
            "grid_auto_columns": null,
            "grid_auto_flow": null,
            "grid_auto_rows": null,
            "grid_column": null,
            "grid_gap": null,
            "grid_row": null,
            "grid_template_areas": null,
            "grid_template_columns": null,
            "grid_template_rows": null,
            "height": null,
            "justify_content": null,
            "justify_items": null,
            "left": null,
            "margin": null,
            "max_height": null,
            "max_width": null,
            "min_height": null,
            "min_width": null,
            "object_fit": null,
            "object_position": null,
            "order": null,
            "overflow": null,
            "overflow_x": null,
            "overflow_y": null,
            "padding": null,
            "right": null,
            "top": null,
            "visibility": null,
            "width": null
          }
        },
        "70e9ef85b9d14560a0a21acd34a49ed1": {
          "model_module": "@jupyter-widgets/controls",
          "model_name": "DescriptionStyleModel",
          "model_module_version": "1.5.0",
          "state": {
            "_model_module": "@jupyter-widgets/controls",
            "_model_module_version": "1.5.0",
            "_model_name": "DescriptionStyleModel",
            "_view_count": null,
            "_view_module": "@jupyter-widgets/base",
            "_view_module_version": "1.2.0",
            "_view_name": "StyleView",
            "description_width": ""
          }
        },
        "9c2b27090e47456f95cefeb32a5d63d9": {
          "model_module": "@jupyter-widgets/controls",
          "model_name": "HBoxModel",
          "model_module_version": "1.5.0",
          "state": {
            "_dom_classes": [],
            "_model_module": "@jupyter-widgets/controls",
            "_model_module_version": "1.5.0",
            "_model_name": "HBoxModel",
            "_view_count": null,
            "_view_module": "@jupyter-widgets/controls",
            "_view_module_version": "1.5.0",
            "_view_name": "HBoxView",
            "box_style": "",
            "children": [
              "IPY_MODEL_2948e3a8e50245eb9a710e304ec16a41",
              "IPY_MODEL_795844f4beca4e27aafb7343aa369436",
              "IPY_MODEL_0c59c437952a4884b4b1c7b10271282e"
            ],
            "layout": "IPY_MODEL_3dfc2b88f65a45e4bf67499ebb03eb20"
          }
        },
        "2948e3a8e50245eb9a710e304ec16a41": {
          "model_module": "@jupyter-widgets/controls",
          "model_name": "HTMLModel",
          "model_module_version": "1.5.0",
          "state": {
            "_dom_classes": [],
            "_model_module": "@jupyter-widgets/controls",
            "_model_module_version": "1.5.0",
            "_model_name": "HTMLModel",
            "_view_count": null,
            "_view_module": "@jupyter-widgets/controls",
            "_view_module_version": "1.5.0",
            "_view_name": "HTMLView",
            "description": "",
            "description_tooltip": null,
            "layout": "IPY_MODEL_22b2d027285b4705b299f6a4c36fcbed",
            "placeholder": "​",
            "style": "IPY_MODEL_827e024a848b4fd58890ff575b57243d",
            "value": "100%"
          }
        },
        "795844f4beca4e27aafb7343aa369436": {
          "model_module": "@jupyter-widgets/controls",
          "model_name": "FloatProgressModel",
          "model_module_version": "1.5.0",
          "state": {
            "_dom_classes": [],
            "_model_module": "@jupyter-widgets/controls",
            "_model_module_version": "1.5.0",
            "_model_name": "FloatProgressModel",
            "_view_count": null,
            "_view_module": "@jupyter-widgets/controls",
            "_view_module_version": "1.5.0",
            "_view_name": "ProgressView",
            "bar_style": "success",
            "description": "",
            "description_tooltip": null,
            "layout": "IPY_MODEL_188aa373644d40c6902345f7356280b1",
            "max": 100,
            "min": 0,
            "orientation": "horizontal",
            "style": "IPY_MODEL_56d10d36c63742b6afc436ef989afa46",
            "value": 100
          }
        },
        "0c59c437952a4884b4b1c7b10271282e": {
          "model_module": "@jupyter-widgets/controls",
          "model_name": "HTMLModel",
          "model_module_version": "1.5.0",
          "state": {
            "_dom_classes": [],
            "_model_module": "@jupyter-widgets/controls",
            "_model_module_version": "1.5.0",
            "_model_name": "HTMLModel",
            "_view_count": null,
            "_view_module": "@jupyter-widgets/controls",
            "_view_module_version": "1.5.0",
            "_view_name": "HTMLView",
            "description": "",
            "description_tooltip": null,
            "layout": "IPY_MODEL_d05bc3a5751243b9b810d81f5c22d7d6",
            "placeholder": "​",
            "style": "IPY_MODEL_bd89aba7208a47d68eec972bd349ca32",
            "value": " 100/100 [00:46&lt;00:00,  1.65it/s]"
          }
        },
        "3dfc2b88f65a45e4bf67499ebb03eb20": {
          "model_module": "@jupyter-widgets/base",
          "model_name": "LayoutModel",
          "model_module_version": "1.2.0",
          "state": {
            "_model_module": "@jupyter-widgets/base",
            "_model_module_version": "1.2.0",
            "_model_name": "LayoutModel",
            "_view_count": null,
            "_view_module": "@jupyter-widgets/base",
            "_view_module_version": "1.2.0",
            "_view_name": "LayoutView",
            "align_content": null,
            "align_items": null,
            "align_self": null,
            "border": null,
            "bottom": null,
            "display": null,
            "flex": null,
            "flex_flow": null,
            "grid_area": null,
            "grid_auto_columns": null,
            "grid_auto_flow": null,
            "grid_auto_rows": null,
            "grid_column": null,
            "grid_gap": null,
            "grid_row": null,
            "grid_template_areas": null,
            "grid_template_columns": null,
            "grid_template_rows": null,
            "height": null,
            "justify_content": null,
            "justify_items": null,
            "left": null,
            "margin": null,
            "max_height": null,
            "max_width": null,
            "min_height": null,
            "min_width": null,
            "object_fit": null,
            "object_position": null,
            "order": null,
            "overflow": null,
            "overflow_x": null,
            "overflow_y": null,
            "padding": null,
            "right": null,
            "top": null,
            "visibility": null,
            "width": null
          }
        },
        "22b2d027285b4705b299f6a4c36fcbed": {
          "model_module": "@jupyter-widgets/base",
          "model_name": "LayoutModel",
          "model_module_version": "1.2.0",
          "state": {
            "_model_module": "@jupyter-widgets/base",
            "_model_module_version": "1.2.0",
            "_model_name": "LayoutModel",
            "_view_count": null,
            "_view_module": "@jupyter-widgets/base",
            "_view_module_version": "1.2.0",
            "_view_name": "LayoutView",
            "align_content": null,
            "align_items": null,
            "align_self": null,
            "border": null,
            "bottom": null,
            "display": null,
            "flex": null,
            "flex_flow": null,
            "grid_area": null,
            "grid_auto_columns": null,
            "grid_auto_flow": null,
            "grid_auto_rows": null,
            "grid_column": null,
            "grid_gap": null,
            "grid_row": null,
            "grid_template_areas": null,
            "grid_template_columns": null,
            "grid_template_rows": null,
            "height": null,
            "justify_content": null,
            "justify_items": null,
            "left": null,
            "margin": null,
            "max_height": null,
            "max_width": null,
            "min_height": null,
            "min_width": null,
            "object_fit": null,
            "object_position": null,
            "order": null,
            "overflow": null,
            "overflow_x": null,
            "overflow_y": null,
            "padding": null,
            "right": null,
            "top": null,
            "visibility": null,
            "width": null
          }
        },
        "827e024a848b4fd58890ff575b57243d": {
          "model_module": "@jupyter-widgets/controls",
          "model_name": "DescriptionStyleModel",
          "model_module_version": "1.5.0",
          "state": {
            "_model_module": "@jupyter-widgets/controls",
            "_model_module_version": "1.5.0",
            "_model_name": "DescriptionStyleModel",
            "_view_count": null,
            "_view_module": "@jupyter-widgets/base",
            "_view_module_version": "1.2.0",
            "_view_name": "StyleView",
            "description_width": ""
          }
        },
        "188aa373644d40c6902345f7356280b1": {
          "model_module": "@jupyter-widgets/base",
          "model_name": "LayoutModel",
          "model_module_version": "1.2.0",
          "state": {
            "_model_module": "@jupyter-widgets/base",
            "_model_module_version": "1.2.0",
            "_model_name": "LayoutModel",
            "_view_count": null,
            "_view_module": "@jupyter-widgets/base",
            "_view_module_version": "1.2.0",
            "_view_name": "LayoutView",
            "align_content": null,
            "align_items": null,
            "align_self": null,
            "border": null,
            "bottom": null,
            "display": null,
            "flex": null,
            "flex_flow": null,
            "grid_area": null,
            "grid_auto_columns": null,
            "grid_auto_flow": null,
            "grid_auto_rows": null,
            "grid_column": null,
            "grid_gap": null,
            "grid_row": null,
            "grid_template_areas": null,
            "grid_template_columns": null,
            "grid_template_rows": null,
            "height": null,
            "justify_content": null,
            "justify_items": null,
            "left": null,
            "margin": null,
            "max_height": null,
            "max_width": null,
            "min_height": null,
            "min_width": null,
            "object_fit": null,
            "object_position": null,
            "order": null,
            "overflow": null,
            "overflow_x": null,
            "overflow_y": null,
            "padding": null,
            "right": null,
            "top": null,
            "visibility": null,
            "width": null
          }
        },
        "56d10d36c63742b6afc436ef989afa46": {
          "model_module": "@jupyter-widgets/controls",
          "model_name": "ProgressStyleModel",
          "model_module_version": "1.5.0",
          "state": {
            "_model_module": "@jupyter-widgets/controls",
            "_model_module_version": "1.5.0",
            "_model_name": "ProgressStyleModel",
            "_view_count": null,
            "_view_module": "@jupyter-widgets/base",
            "_view_module_version": "1.2.0",
            "_view_name": "StyleView",
            "bar_color": null,
            "description_width": ""
          }
        },
        "d05bc3a5751243b9b810d81f5c22d7d6": {
          "model_module": "@jupyter-widgets/base",
          "model_name": "LayoutModel",
          "model_module_version": "1.2.0",
          "state": {
            "_model_module": "@jupyter-widgets/base",
            "_model_module_version": "1.2.0",
            "_model_name": "LayoutModel",
            "_view_count": null,
            "_view_module": "@jupyter-widgets/base",
            "_view_module_version": "1.2.0",
            "_view_name": "LayoutView",
            "align_content": null,
            "align_items": null,
            "align_self": null,
            "border": null,
            "bottom": null,
            "display": null,
            "flex": null,
            "flex_flow": null,
            "grid_area": null,
            "grid_auto_columns": null,
            "grid_auto_flow": null,
            "grid_auto_rows": null,
            "grid_column": null,
            "grid_gap": null,
            "grid_row": null,
            "grid_template_areas": null,
            "grid_template_columns": null,
            "grid_template_rows": null,
            "height": null,
            "justify_content": null,
            "justify_items": null,
            "left": null,
            "margin": null,
            "max_height": null,
            "max_width": null,
            "min_height": null,
            "min_width": null,
            "object_fit": null,
            "object_position": null,
            "order": null,
            "overflow": null,
            "overflow_x": null,
            "overflow_y": null,
            "padding": null,
            "right": null,
            "top": null,
            "visibility": null,
            "width": null
          }
        },
        "bd89aba7208a47d68eec972bd349ca32": {
          "model_module": "@jupyter-widgets/controls",
          "model_name": "DescriptionStyleModel",
          "model_module_version": "1.5.0",
          "state": {
            "_model_module": "@jupyter-widgets/controls",
            "_model_module_version": "1.5.0",
            "_model_name": "DescriptionStyleModel",
            "_view_count": null,
            "_view_module": "@jupyter-widgets/base",
            "_view_module_version": "1.2.0",
            "_view_name": "StyleView",
            "description_width": ""
          }
        },
        "272b1474d9474970a8fd8c33f6721c8d": {
          "model_module": "@jupyter-widgets/controls",
          "model_name": "HBoxModel",
          "model_module_version": "1.5.0",
          "state": {
            "_dom_classes": [],
            "_model_module": "@jupyter-widgets/controls",
            "_model_module_version": "1.5.0",
            "_model_name": "HBoxModel",
            "_view_count": null,
            "_view_module": "@jupyter-widgets/controls",
            "_view_module_version": "1.5.0",
            "_view_name": "HBoxView",
            "box_style": "",
            "children": [
              "IPY_MODEL_96d8a03d092f4182a5a60ba166fe3329",
              "IPY_MODEL_12ba1de1445348de9a8713e8550fb6bc",
              "IPY_MODEL_733a516965c44c19910a96e913909c9d"
            ],
            "layout": "IPY_MODEL_40caeaf6888c4a458817738dca4bf662"
          }
        },
        "96d8a03d092f4182a5a60ba166fe3329": {
          "model_module": "@jupyter-widgets/controls",
          "model_name": "HTMLModel",
          "model_module_version": "1.5.0",
          "state": {
            "_dom_classes": [],
            "_model_module": "@jupyter-widgets/controls",
            "_model_module_version": "1.5.0",
            "_model_name": "HTMLModel",
            "_view_count": null,
            "_view_module": "@jupyter-widgets/controls",
            "_view_module_version": "1.5.0",
            "_view_name": "HTMLView",
            "description": "",
            "description_tooltip": null,
            "layout": "IPY_MODEL_cb4718c744d841529cc7cca833406617",
            "placeholder": "​",
            "style": "IPY_MODEL_ef77a08e904942dfaedafde42569f7a3",
            "value": "100%"
          }
        },
        "12ba1de1445348de9a8713e8550fb6bc": {
          "model_module": "@jupyter-widgets/controls",
          "model_name": "FloatProgressModel",
          "model_module_version": "1.5.0",
          "state": {
            "_dom_classes": [],
            "_model_module": "@jupyter-widgets/controls",
            "_model_module_version": "1.5.0",
            "_model_name": "FloatProgressModel",
            "_view_count": null,
            "_view_module": "@jupyter-widgets/controls",
            "_view_module_version": "1.5.0",
            "_view_name": "ProgressView",
            "bar_style": "success",
            "description": "",
            "description_tooltip": null,
            "layout": "IPY_MODEL_02c6d5c0fd564f09b67f6f098a4fb4f5",
            "max": 10,
            "min": 0,
            "orientation": "horizontal",
            "style": "IPY_MODEL_6c47cc0d21ab4064b747905a151d7af1",
            "value": 10
          }
        },
        "733a516965c44c19910a96e913909c9d": {
          "model_module": "@jupyter-widgets/controls",
          "model_name": "HTMLModel",
          "model_module_version": "1.5.0",
          "state": {
            "_dom_classes": [],
            "_model_module": "@jupyter-widgets/controls",
            "_model_module_version": "1.5.0",
            "_model_name": "HTMLModel",
            "_view_count": null,
            "_view_module": "@jupyter-widgets/controls",
            "_view_module_version": "1.5.0",
            "_view_name": "HTMLView",
            "description": "",
            "description_tooltip": null,
            "layout": "IPY_MODEL_54cbf4e379274f83bc0c922820e90ce8",
            "placeholder": "​",
            "style": "IPY_MODEL_a243dfe756024c9ba15e1d2b72d5c590",
            "value": " 10/10 [00:02&lt;00:00,  4.41it/s]"
          }
        },
        "40caeaf6888c4a458817738dca4bf662": {
          "model_module": "@jupyter-widgets/base",
          "model_name": "LayoutModel",
          "model_module_version": "1.2.0",
          "state": {
            "_model_module": "@jupyter-widgets/base",
            "_model_module_version": "1.2.0",
            "_model_name": "LayoutModel",
            "_view_count": null,
            "_view_module": "@jupyter-widgets/base",
            "_view_module_version": "1.2.0",
            "_view_name": "LayoutView",
            "align_content": null,
            "align_items": null,
            "align_self": null,
            "border": null,
            "bottom": null,
            "display": null,
            "flex": null,
            "flex_flow": null,
            "grid_area": null,
            "grid_auto_columns": null,
            "grid_auto_flow": null,
            "grid_auto_rows": null,
            "grid_column": null,
            "grid_gap": null,
            "grid_row": null,
            "grid_template_areas": null,
            "grid_template_columns": null,
            "grid_template_rows": null,
            "height": null,
            "justify_content": null,
            "justify_items": null,
            "left": null,
            "margin": null,
            "max_height": null,
            "max_width": null,
            "min_height": null,
            "min_width": null,
            "object_fit": null,
            "object_position": null,
            "order": null,
            "overflow": null,
            "overflow_x": null,
            "overflow_y": null,
            "padding": null,
            "right": null,
            "top": null,
            "visibility": null,
            "width": null
          }
        },
        "cb4718c744d841529cc7cca833406617": {
          "model_module": "@jupyter-widgets/base",
          "model_name": "LayoutModel",
          "model_module_version": "1.2.0",
          "state": {
            "_model_module": "@jupyter-widgets/base",
            "_model_module_version": "1.2.0",
            "_model_name": "LayoutModel",
            "_view_count": null,
            "_view_module": "@jupyter-widgets/base",
            "_view_module_version": "1.2.0",
            "_view_name": "LayoutView",
            "align_content": null,
            "align_items": null,
            "align_self": null,
            "border": null,
            "bottom": null,
            "display": null,
            "flex": null,
            "flex_flow": null,
            "grid_area": null,
            "grid_auto_columns": null,
            "grid_auto_flow": null,
            "grid_auto_rows": null,
            "grid_column": null,
            "grid_gap": null,
            "grid_row": null,
            "grid_template_areas": null,
            "grid_template_columns": null,
            "grid_template_rows": null,
            "height": null,
            "justify_content": null,
            "justify_items": null,
            "left": null,
            "margin": null,
            "max_height": null,
            "max_width": null,
            "min_height": null,
            "min_width": null,
            "object_fit": null,
            "object_position": null,
            "order": null,
            "overflow": null,
            "overflow_x": null,
            "overflow_y": null,
            "padding": null,
            "right": null,
            "top": null,
            "visibility": null,
            "width": null
          }
        },
        "ef77a08e904942dfaedafde42569f7a3": {
          "model_module": "@jupyter-widgets/controls",
          "model_name": "DescriptionStyleModel",
          "model_module_version": "1.5.0",
          "state": {
            "_model_module": "@jupyter-widgets/controls",
            "_model_module_version": "1.5.0",
            "_model_name": "DescriptionStyleModel",
            "_view_count": null,
            "_view_module": "@jupyter-widgets/base",
            "_view_module_version": "1.2.0",
            "_view_name": "StyleView",
            "description_width": ""
          }
        },
        "02c6d5c0fd564f09b67f6f098a4fb4f5": {
          "model_module": "@jupyter-widgets/base",
          "model_name": "LayoutModel",
          "model_module_version": "1.2.0",
          "state": {
            "_model_module": "@jupyter-widgets/base",
            "_model_module_version": "1.2.0",
            "_model_name": "LayoutModel",
            "_view_count": null,
            "_view_module": "@jupyter-widgets/base",
            "_view_module_version": "1.2.0",
            "_view_name": "LayoutView",
            "align_content": null,
            "align_items": null,
            "align_self": null,
            "border": null,
            "bottom": null,
            "display": null,
            "flex": null,
            "flex_flow": null,
            "grid_area": null,
            "grid_auto_columns": null,
            "grid_auto_flow": null,
            "grid_auto_rows": null,
            "grid_column": null,
            "grid_gap": null,
            "grid_row": null,
            "grid_template_areas": null,
            "grid_template_columns": null,
            "grid_template_rows": null,
            "height": null,
            "justify_content": null,
            "justify_items": null,
            "left": null,
            "margin": null,
            "max_height": null,
            "max_width": null,
            "min_height": null,
            "min_width": null,
            "object_fit": null,
            "object_position": null,
            "order": null,
            "overflow": null,
            "overflow_x": null,
            "overflow_y": null,
            "padding": null,
            "right": null,
            "top": null,
            "visibility": null,
            "width": null
          }
        },
        "6c47cc0d21ab4064b747905a151d7af1": {
          "model_module": "@jupyter-widgets/controls",
          "model_name": "ProgressStyleModel",
          "model_module_version": "1.5.0",
          "state": {
            "_model_module": "@jupyter-widgets/controls",
            "_model_module_version": "1.5.0",
            "_model_name": "ProgressStyleModel",
            "_view_count": null,
            "_view_module": "@jupyter-widgets/base",
            "_view_module_version": "1.2.0",
            "_view_name": "StyleView",
            "bar_color": null,
            "description_width": ""
          }
        },
        "54cbf4e379274f83bc0c922820e90ce8": {
          "model_module": "@jupyter-widgets/base",
          "model_name": "LayoutModel",
          "model_module_version": "1.2.0",
          "state": {
            "_model_module": "@jupyter-widgets/base",
            "_model_module_version": "1.2.0",
            "_model_name": "LayoutModel",
            "_view_count": null,
            "_view_module": "@jupyter-widgets/base",
            "_view_module_version": "1.2.0",
            "_view_name": "LayoutView",
            "align_content": null,
            "align_items": null,
            "align_self": null,
            "border": null,
            "bottom": null,
            "display": null,
            "flex": null,
            "flex_flow": null,
            "grid_area": null,
            "grid_auto_columns": null,
            "grid_auto_flow": null,
            "grid_auto_rows": null,
            "grid_column": null,
            "grid_gap": null,
            "grid_row": null,
            "grid_template_areas": null,
            "grid_template_columns": null,
            "grid_template_rows": null,
            "height": null,
            "justify_content": null,
            "justify_items": null,
            "left": null,
            "margin": null,
            "max_height": null,
            "max_width": null,
            "min_height": null,
            "min_width": null,
            "object_fit": null,
            "object_position": null,
            "order": null,
            "overflow": null,
            "overflow_x": null,
            "overflow_y": null,
            "padding": null,
            "right": null,
            "top": null,
            "visibility": null,
            "width": null
          }
        },
        "a243dfe756024c9ba15e1d2b72d5c590": {
          "model_module": "@jupyter-widgets/controls",
          "model_name": "DescriptionStyleModel",
          "model_module_version": "1.5.0",
          "state": {
            "_model_module": "@jupyter-widgets/controls",
            "_model_module_version": "1.5.0",
            "_model_name": "DescriptionStyleModel",
            "_view_count": null,
            "_view_module": "@jupyter-widgets/base",
            "_view_module_version": "1.2.0",
            "_view_name": "StyleView",
            "description_width": ""
          }
        },
        "a6e76f4ad4c64f48b5d2e90ca6ff63b4": {
          "model_module": "@jupyter-widgets/controls",
          "model_name": "HBoxModel",
          "model_module_version": "1.5.0",
          "state": {
            "_dom_classes": [],
            "_model_module": "@jupyter-widgets/controls",
            "_model_module_version": "1.5.0",
            "_model_name": "HBoxModel",
            "_view_count": null,
            "_view_module": "@jupyter-widgets/controls",
            "_view_module_version": "1.5.0",
            "_view_name": "HBoxView",
            "box_style": "",
            "children": [
              "IPY_MODEL_a8714040356549728fd6df558efbe401",
              "IPY_MODEL_b66a50d6ab5d4bfe890a47c2be993809",
              "IPY_MODEL_9e1715d6cd1e443cb0ee65417eee7284"
            ],
            "layout": "IPY_MODEL_da82c69874414c37b58ea663bd25ab9c"
          }
        },
        "a8714040356549728fd6df558efbe401": {
          "model_module": "@jupyter-widgets/controls",
          "model_name": "HTMLModel",
          "model_module_version": "1.5.0",
          "state": {
            "_dom_classes": [],
            "_model_module": "@jupyter-widgets/controls",
            "_model_module_version": "1.5.0",
            "_model_name": "HTMLModel",
            "_view_count": null,
            "_view_module": "@jupyter-widgets/controls",
            "_view_module_version": "1.5.0",
            "_view_name": "HTMLView",
            "description": "",
            "description_tooltip": null,
            "layout": "IPY_MODEL_0bf769565e1044e8a2d06e4379ea48fc",
            "placeholder": "​",
            "style": "IPY_MODEL_f5768cfee5bb4a3da283d535f86512f0",
            "value": "100%"
          }
        },
        "b66a50d6ab5d4bfe890a47c2be993809": {
          "model_module": "@jupyter-widgets/controls",
          "model_name": "FloatProgressModel",
          "model_module_version": "1.5.0",
          "state": {
            "_dom_classes": [],
            "_model_module": "@jupyter-widgets/controls",
            "_model_module_version": "1.5.0",
            "_model_name": "FloatProgressModel",
            "_view_count": null,
            "_view_module": "@jupyter-widgets/controls",
            "_view_module_version": "1.5.0",
            "_view_name": "ProgressView",
            "bar_style": "success",
            "description": "",
            "description_tooltip": null,
            "layout": "IPY_MODEL_1f651d785b59466b8567d1065adcad3f",
            "max": 10,
            "min": 0,
            "orientation": "horizontal",
            "style": "IPY_MODEL_c38ddf9d69414ff58f8b753233fcbaa6",
            "value": 10
          }
        },
        "9e1715d6cd1e443cb0ee65417eee7284": {
          "model_module": "@jupyter-widgets/controls",
          "model_name": "HTMLModel",
          "model_module_version": "1.5.0",
          "state": {
            "_dom_classes": [],
            "_model_module": "@jupyter-widgets/controls",
            "_model_module_version": "1.5.0",
            "_model_name": "HTMLModel",
            "_view_count": null,
            "_view_module": "@jupyter-widgets/controls",
            "_view_module_version": "1.5.0",
            "_view_name": "HTMLView",
            "description": "",
            "description_tooltip": null,
            "layout": "IPY_MODEL_fda0893807254547b69f0f05360dbe5f",
            "placeholder": "​",
            "style": "IPY_MODEL_b84d393b68b84ecd8233a138df11820a",
            "value": " 10/10 [57:00&lt;00:00, 340.23s/it]"
          }
        },
        "da82c69874414c37b58ea663bd25ab9c": {
          "model_module": "@jupyter-widgets/base",
          "model_name": "LayoutModel",
          "model_module_version": "1.2.0",
          "state": {
            "_model_module": "@jupyter-widgets/base",
            "_model_module_version": "1.2.0",
            "_model_name": "LayoutModel",
            "_view_count": null,
            "_view_module": "@jupyter-widgets/base",
            "_view_module_version": "1.2.0",
            "_view_name": "LayoutView",
            "align_content": null,
            "align_items": null,
            "align_self": null,
            "border": null,
            "bottom": null,
            "display": null,
            "flex": null,
            "flex_flow": null,
            "grid_area": null,
            "grid_auto_columns": null,
            "grid_auto_flow": null,
            "grid_auto_rows": null,
            "grid_column": null,
            "grid_gap": null,
            "grid_row": null,
            "grid_template_areas": null,
            "grid_template_columns": null,
            "grid_template_rows": null,
            "height": null,
            "justify_content": null,
            "justify_items": null,
            "left": null,
            "margin": null,
            "max_height": null,
            "max_width": null,
            "min_height": null,
            "min_width": null,
            "object_fit": null,
            "object_position": null,
            "order": null,
            "overflow": null,
            "overflow_x": null,
            "overflow_y": null,
            "padding": null,
            "right": null,
            "top": null,
            "visibility": null,
            "width": null
          }
        },
        "0bf769565e1044e8a2d06e4379ea48fc": {
          "model_module": "@jupyter-widgets/base",
          "model_name": "LayoutModel",
          "model_module_version": "1.2.0",
          "state": {
            "_model_module": "@jupyter-widgets/base",
            "_model_module_version": "1.2.0",
            "_model_name": "LayoutModel",
            "_view_count": null,
            "_view_module": "@jupyter-widgets/base",
            "_view_module_version": "1.2.0",
            "_view_name": "LayoutView",
            "align_content": null,
            "align_items": null,
            "align_self": null,
            "border": null,
            "bottom": null,
            "display": null,
            "flex": null,
            "flex_flow": null,
            "grid_area": null,
            "grid_auto_columns": null,
            "grid_auto_flow": null,
            "grid_auto_rows": null,
            "grid_column": null,
            "grid_gap": null,
            "grid_row": null,
            "grid_template_areas": null,
            "grid_template_columns": null,
            "grid_template_rows": null,
            "height": null,
            "justify_content": null,
            "justify_items": null,
            "left": null,
            "margin": null,
            "max_height": null,
            "max_width": null,
            "min_height": null,
            "min_width": null,
            "object_fit": null,
            "object_position": null,
            "order": null,
            "overflow": null,
            "overflow_x": null,
            "overflow_y": null,
            "padding": null,
            "right": null,
            "top": null,
            "visibility": null,
            "width": null
          }
        },
        "f5768cfee5bb4a3da283d535f86512f0": {
          "model_module": "@jupyter-widgets/controls",
          "model_name": "DescriptionStyleModel",
          "model_module_version": "1.5.0",
          "state": {
            "_model_module": "@jupyter-widgets/controls",
            "_model_module_version": "1.5.0",
            "_model_name": "DescriptionStyleModel",
            "_view_count": null,
            "_view_module": "@jupyter-widgets/base",
            "_view_module_version": "1.2.0",
            "_view_name": "StyleView",
            "description_width": ""
          }
        },
        "1f651d785b59466b8567d1065adcad3f": {
          "model_module": "@jupyter-widgets/base",
          "model_name": "LayoutModel",
          "model_module_version": "1.2.0",
          "state": {
            "_model_module": "@jupyter-widgets/base",
            "_model_module_version": "1.2.0",
            "_model_name": "LayoutModel",
            "_view_count": null,
            "_view_module": "@jupyter-widgets/base",
            "_view_module_version": "1.2.0",
            "_view_name": "LayoutView",
            "align_content": null,
            "align_items": null,
            "align_self": null,
            "border": null,
            "bottom": null,
            "display": null,
            "flex": null,
            "flex_flow": null,
            "grid_area": null,
            "grid_auto_columns": null,
            "grid_auto_flow": null,
            "grid_auto_rows": null,
            "grid_column": null,
            "grid_gap": null,
            "grid_row": null,
            "grid_template_areas": null,
            "grid_template_columns": null,
            "grid_template_rows": null,
            "height": null,
            "justify_content": null,
            "justify_items": null,
            "left": null,
            "margin": null,
            "max_height": null,
            "max_width": null,
            "min_height": null,
            "min_width": null,
            "object_fit": null,
            "object_position": null,
            "order": null,
            "overflow": null,
            "overflow_x": null,
            "overflow_y": null,
            "padding": null,
            "right": null,
            "top": null,
            "visibility": null,
            "width": null
          }
        },
        "c38ddf9d69414ff58f8b753233fcbaa6": {
          "model_module": "@jupyter-widgets/controls",
          "model_name": "ProgressStyleModel",
          "model_module_version": "1.5.0",
          "state": {
            "_model_module": "@jupyter-widgets/controls",
            "_model_module_version": "1.5.0",
            "_model_name": "ProgressStyleModel",
            "_view_count": null,
            "_view_module": "@jupyter-widgets/base",
            "_view_module_version": "1.2.0",
            "_view_name": "StyleView",
            "bar_color": null,
            "description_width": ""
          }
        },
        "fda0893807254547b69f0f05360dbe5f": {
          "model_module": "@jupyter-widgets/base",
          "model_name": "LayoutModel",
          "model_module_version": "1.2.0",
          "state": {
            "_model_module": "@jupyter-widgets/base",
            "_model_module_version": "1.2.0",
            "_model_name": "LayoutModel",
            "_view_count": null,
            "_view_module": "@jupyter-widgets/base",
            "_view_module_version": "1.2.0",
            "_view_name": "LayoutView",
            "align_content": null,
            "align_items": null,
            "align_self": null,
            "border": null,
            "bottom": null,
            "display": null,
            "flex": null,
            "flex_flow": null,
            "grid_area": null,
            "grid_auto_columns": null,
            "grid_auto_flow": null,
            "grid_auto_rows": null,
            "grid_column": null,
            "grid_gap": null,
            "grid_row": null,
            "grid_template_areas": null,
            "grid_template_columns": null,
            "grid_template_rows": null,
            "height": null,
            "justify_content": null,
            "justify_items": null,
            "left": null,
            "margin": null,
            "max_height": null,
            "max_width": null,
            "min_height": null,
            "min_width": null,
            "object_fit": null,
            "object_position": null,
            "order": null,
            "overflow": null,
            "overflow_x": null,
            "overflow_y": null,
            "padding": null,
            "right": null,
            "top": null,
            "visibility": null,
            "width": null
          }
        },
        "b84d393b68b84ecd8233a138df11820a": {
          "model_module": "@jupyter-widgets/controls",
          "model_name": "DescriptionStyleModel",
          "model_module_version": "1.5.0",
          "state": {
            "_model_module": "@jupyter-widgets/controls",
            "_model_module_version": "1.5.0",
            "_model_name": "DescriptionStyleModel",
            "_view_count": null,
            "_view_module": "@jupyter-widgets/base",
            "_view_module_version": "1.2.0",
            "_view_name": "StyleView",
            "description_width": ""
          }
        },
        "cfbc765764ff44208e660990fe77b8e0": {
          "model_module": "@jupyter-widgets/controls",
          "model_name": "HBoxModel",
          "model_module_version": "1.5.0",
          "state": {
            "_dom_classes": [],
            "_model_module": "@jupyter-widgets/controls",
            "_model_module_version": "1.5.0",
            "_model_name": "HBoxModel",
            "_view_count": null,
            "_view_module": "@jupyter-widgets/controls",
            "_view_module_version": "1.5.0",
            "_view_name": "HBoxView",
            "box_style": "",
            "children": [
              "IPY_MODEL_cc752c92dff14327b88fb40ec5d8351e",
              "IPY_MODEL_04780d69c8a74afe9bb55d9deaf37a12",
              "IPY_MODEL_5a1ce0e45ae6413295a66b129ec2b4e6"
            ],
            "layout": "IPY_MODEL_11436af669fd4cf4bd1e84d2571314da"
          }
        },
        "cc752c92dff14327b88fb40ec5d8351e": {
          "model_module": "@jupyter-widgets/controls",
          "model_name": "HTMLModel",
          "model_module_version": "1.5.0",
          "state": {
            "_dom_classes": [],
            "_model_module": "@jupyter-widgets/controls",
            "_model_module_version": "1.5.0",
            "_model_name": "HTMLModel",
            "_view_count": null,
            "_view_module": "@jupyter-widgets/controls",
            "_view_module_version": "1.5.0",
            "_view_name": "HTMLView",
            "description": "",
            "description_tooltip": null,
            "layout": "IPY_MODEL_f8edfa53e8c442688991e7fce65c4928",
            "placeholder": "​",
            "style": "IPY_MODEL_08470f63b65c4451a4b155b66860fd22",
            "value": "100%"
          }
        },
        "04780d69c8a74afe9bb55d9deaf37a12": {
          "model_module": "@jupyter-widgets/controls",
          "model_name": "FloatProgressModel",
          "model_module_version": "1.5.0",
          "state": {
            "_dom_classes": [],
            "_model_module": "@jupyter-widgets/controls",
            "_model_module_version": "1.5.0",
            "_model_name": "FloatProgressModel",
            "_view_count": null,
            "_view_module": "@jupyter-widgets/controls",
            "_view_module_version": "1.5.0",
            "_view_name": "ProgressView",
            "bar_style": "success",
            "description": "",
            "description_tooltip": null,
            "layout": "IPY_MODEL_b6f6221471724ccb9f3f250cb69af287",
            "max": 10,
            "min": 0,
            "orientation": "horizontal",
            "style": "IPY_MODEL_51bd97452783432fbae634d90058311e",
            "value": 10
          }
        },
        "5a1ce0e45ae6413295a66b129ec2b4e6": {
          "model_module": "@jupyter-widgets/controls",
          "model_name": "HTMLModel",
          "model_module_version": "1.5.0",
          "state": {
            "_dom_classes": [],
            "_model_module": "@jupyter-widgets/controls",
            "_model_module_version": "1.5.0",
            "_model_name": "HTMLModel",
            "_view_count": null,
            "_view_module": "@jupyter-widgets/controls",
            "_view_module_version": "1.5.0",
            "_view_name": "HTMLView",
            "description": "",
            "description_tooltip": null,
            "layout": "IPY_MODEL_f246b11140ac49ed923980646473edfc",
            "placeholder": "​",
            "style": "IPY_MODEL_9c9c566bb94a4a78a6758aad6ed9fa44",
            "value": " 10/10 [06:29&lt;00:00, 41.22s/it]"
          }
        },
        "11436af669fd4cf4bd1e84d2571314da": {
          "model_module": "@jupyter-widgets/base",
          "model_name": "LayoutModel",
          "model_module_version": "1.2.0",
          "state": {
            "_model_module": "@jupyter-widgets/base",
            "_model_module_version": "1.2.0",
            "_model_name": "LayoutModel",
            "_view_count": null,
            "_view_module": "@jupyter-widgets/base",
            "_view_module_version": "1.2.0",
            "_view_name": "LayoutView",
            "align_content": null,
            "align_items": null,
            "align_self": null,
            "border": null,
            "bottom": null,
            "display": null,
            "flex": null,
            "flex_flow": null,
            "grid_area": null,
            "grid_auto_columns": null,
            "grid_auto_flow": null,
            "grid_auto_rows": null,
            "grid_column": null,
            "grid_gap": null,
            "grid_row": null,
            "grid_template_areas": null,
            "grid_template_columns": null,
            "grid_template_rows": null,
            "height": null,
            "justify_content": null,
            "justify_items": null,
            "left": null,
            "margin": null,
            "max_height": null,
            "max_width": null,
            "min_height": null,
            "min_width": null,
            "object_fit": null,
            "object_position": null,
            "order": null,
            "overflow": null,
            "overflow_x": null,
            "overflow_y": null,
            "padding": null,
            "right": null,
            "top": null,
            "visibility": null,
            "width": null
          }
        },
        "f8edfa53e8c442688991e7fce65c4928": {
          "model_module": "@jupyter-widgets/base",
          "model_name": "LayoutModel",
          "model_module_version": "1.2.0",
          "state": {
            "_model_module": "@jupyter-widgets/base",
            "_model_module_version": "1.2.0",
            "_model_name": "LayoutModel",
            "_view_count": null,
            "_view_module": "@jupyter-widgets/base",
            "_view_module_version": "1.2.0",
            "_view_name": "LayoutView",
            "align_content": null,
            "align_items": null,
            "align_self": null,
            "border": null,
            "bottom": null,
            "display": null,
            "flex": null,
            "flex_flow": null,
            "grid_area": null,
            "grid_auto_columns": null,
            "grid_auto_flow": null,
            "grid_auto_rows": null,
            "grid_column": null,
            "grid_gap": null,
            "grid_row": null,
            "grid_template_areas": null,
            "grid_template_columns": null,
            "grid_template_rows": null,
            "height": null,
            "justify_content": null,
            "justify_items": null,
            "left": null,
            "margin": null,
            "max_height": null,
            "max_width": null,
            "min_height": null,
            "min_width": null,
            "object_fit": null,
            "object_position": null,
            "order": null,
            "overflow": null,
            "overflow_x": null,
            "overflow_y": null,
            "padding": null,
            "right": null,
            "top": null,
            "visibility": null,
            "width": null
          }
        },
        "08470f63b65c4451a4b155b66860fd22": {
          "model_module": "@jupyter-widgets/controls",
          "model_name": "DescriptionStyleModel",
          "model_module_version": "1.5.0",
          "state": {
            "_model_module": "@jupyter-widgets/controls",
            "_model_module_version": "1.5.0",
            "_model_name": "DescriptionStyleModel",
            "_view_count": null,
            "_view_module": "@jupyter-widgets/base",
            "_view_module_version": "1.2.0",
            "_view_name": "StyleView",
            "description_width": ""
          }
        },
        "b6f6221471724ccb9f3f250cb69af287": {
          "model_module": "@jupyter-widgets/base",
          "model_name": "LayoutModel",
          "model_module_version": "1.2.0",
          "state": {
            "_model_module": "@jupyter-widgets/base",
            "_model_module_version": "1.2.0",
            "_model_name": "LayoutModel",
            "_view_count": null,
            "_view_module": "@jupyter-widgets/base",
            "_view_module_version": "1.2.0",
            "_view_name": "LayoutView",
            "align_content": null,
            "align_items": null,
            "align_self": null,
            "border": null,
            "bottom": null,
            "display": null,
            "flex": null,
            "flex_flow": null,
            "grid_area": null,
            "grid_auto_columns": null,
            "grid_auto_flow": null,
            "grid_auto_rows": null,
            "grid_column": null,
            "grid_gap": null,
            "grid_row": null,
            "grid_template_areas": null,
            "grid_template_columns": null,
            "grid_template_rows": null,
            "height": null,
            "justify_content": null,
            "justify_items": null,
            "left": null,
            "margin": null,
            "max_height": null,
            "max_width": null,
            "min_height": null,
            "min_width": null,
            "object_fit": null,
            "object_position": null,
            "order": null,
            "overflow": null,
            "overflow_x": null,
            "overflow_y": null,
            "padding": null,
            "right": null,
            "top": null,
            "visibility": null,
            "width": null
          }
        },
        "51bd97452783432fbae634d90058311e": {
          "model_module": "@jupyter-widgets/controls",
          "model_name": "ProgressStyleModel",
          "model_module_version": "1.5.0",
          "state": {
            "_model_module": "@jupyter-widgets/controls",
            "_model_module_version": "1.5.0",
            "_model_name": "ProgressStyleModel",
            "_view_count": null,
            "_view_module": "@jupyter-widgets/base",
            "_view_module_version": "1.2.0",
            "_view_name": "StyleView",
            "bar_color": null,
            "description_width": ""
          }
        },
        "f246b11140ac49ed923980646473edfc": {
          "model_module": "@jupyter-widgets/base",
          "model_name": "LayoutModel",
          "model_module_version": "1.2.0",
          "state": {
            "_model_module": "@jupyter-widgets/base",
            "_model_module_version": "1.2.0",
            "_model_name": "LayoutModel",
            "_view_count": null,
            "_view_module": "@jupyter-widgets/base",
            "_view_module_version": "1.2.0",
            "_view_name": "LayoutView",
            "align_content": null,
            "align_items": null,
            "align_self": null,
            "border": null,
            "bottom": null,
            "display": null,
            "flex": null,
            "flex_flow": null,
            "grid_area": null,
            "grid_auto_columns": null,
            "grid_auto_flow": null,
            "grid_auto_rows": null,
            "grid_column": null,
            "grid_gap": null,
            "grid_row": null,
            "grid_template_areas": null,
            "grid_template_columns": null,
            "grid_template_rows": null,
            "height": null,
            "justify_content": null,
            "justify_items": null,
            "left": null,
            "margin": null,
            "max_height": null,
            "max_width": null,
            "min_height": null,
            "min_width": null,
            "object_fit": null,
            "object_position": null,
            "order": null,
            "overflow": null,
            "overflow_x": null,
            "overflow_y": null,
            "padding": null,
            "right": null,
            "top": null,
            "visibility": null,
            "width": null
          }
        },
        "9c9c566bb94a4a78a6758aad6ed9fa44": {
          "model_module": "@jupyter-widgets/controls",
          "model_name": "DescriptionStyleModel",
          "model_module_version": "1.5.0",
          "state": {
            "_model_module": "@jupyter-widgets/controls",
            "_model_module_version": "1.5.0",
            "_model_name": "DescriptionStyleModel",
            "_view_count": null,
            "_view_module": "@jupyter-widgets/base",
            "_view_module_version": "1.2.0",
            "_view_name": "StyleView",
            "description_width": ""
          }
        },
        "69daea023cb242269e7da31ea4557597": {
          "model_module": "@jupyter-widgets/controls",
          "model_name": "HBoxModel",
          "model_module_version": "1.5.0",
          "state": {
            "_dom_classes": [],
            "_model_module": "@jupyter-widgets/controls",
            "_model_module_version": "1.5.0",
            "_model_name": "HBoxModel",
            "_view_count": null,
            "_view_module": "@jupyter-widgets/controls",
            "_view_module_version": "1.5.0",
            "_view_name": "HBoxView",
            "box_style": "",
            "children": [
              "IPY_MODEL_81cdd4c1b16c4f8cbcfa7231e8c39150",
              "IPY_MODEL_52a69e63faad433baf91f78c539e34dc",
              "IPY_MODEL_aeb8da78848b4f89808aa662cc31603c"
            ],
            "layout": "IPY_MODEL_2e2fce27153b44e48e75f26eb4d17904"
          }
        },
        "81cdd4c1b16c4f8cbcfa7231e8c39150": {
          "model_module": "@jupyter-widgets/controls",
          "model_name": "HTMLModel",
          "model_module_version": "1.5.0",
          "state": {
            "_dom_classes": [],
            "_model_module": "@jupyter-widgets/controls",
            "_model_module_version": "1.5.0",
            "_model_name": "HTMLModel",
            "_view_count": null,
            "_view_module": "@jupyter-widgets/controls",
            "_view_module_version": "1.5.0",
            "_view_name": "HTMLView",
            "description": "",
            "description_tooltip": null,
            "layout": "IPY_MODEL_1d896661ec7d4cc0b5e88ae2db0cd365",
            "placeholder": "​",
            "style": "IPY_MODEL_b79c120045c54ab29510eb344bdf3b48",
            "value": "100%"
          }
        },
        "52a69e63faad433baf91f78c539e34dc": {
          "model_module": "@jupyter-widgets/controls",
          "model_name": "FloatProgressModel",
          "model_module_version": "1.5.0",
          "state": {
            "_dom_classes": [],
            "_model_module": "@jupyter-widgets/controls",
            "_model_module_version": "1.5.0",
            "_model_name": "FloatProgressModel",
            "_view_count": null,
            "_view_module": "@jupyter-widgets/controls",
            "_view_module_version": "1.5.0",
            "_view_name": "ProgressView",
            "bar_style": "success",
            "description": "",
            "description_tooltip": null,
            "layout": "IPY_MODEL_6be4f47da0c244b6a6f8bffabdecc82f",
            "max": 10,
            "min": 0,
            "orientation": "horizontal",
            "style": "IPY_MODEL_09399476985344219cd0193bb4185ceb",
            "value": 10
          }
        },
        "aeb8da78848b4f89808aa662cc31603c": {
          "model_module": "@jupyter-widgets/controls",
          "model_name": "HTMLModel",
          "model_module_version": "1.5.0",
          "state": {
            "_dom_classes": [],
            "_model_module": "@jupyter-widgets/controls",
            "_model_module_version": "1.5.0",
            "_model_name": "HTMLModel",
            "_view_count": null,
            "_view_module": "@jupyter-widgets/controls",
            "_view_module_version": "1.5.0",
            "_view_name": "HTMLView",
            "description": "",
            "description_tooltip": null,
            "layout": "IPY_MODEL_0a2ec28efac247b0b693343a2a9d38c1",
            "placeholder": "​",
            "style": "IPY_MODEL_635d2f4d8a77427a82ede636847aed31",
            "value": " 10/10 [06:28&lt;00:00, 37.16s/it]"
          }
        },
        "2e2fce27153b44e48e75f26eb4d17904": {
          "model_module": "@jupyter-widgets/base",
          "model_name": "LayoutModel",
          "model_module_version": "1.2.0",
          "state": {
            "_model_module": "@jupyter-widgets/base",
            "_model_module_version": "1.2.0",
            "_model_name": "LayoutModel",
            "_view_count": null,
            "_view_module": "@jupyter-widgets/base",
            "_view_module_version": "1.2.0",
            "_view_name": "LayoutView",
            "align_content": null,
            "align_items": null,
            "align_self": null,
            "border": null,
            "bottom": null,
            "display": null,
            "flex": null,
            "flex_flow": null,
            "grid_area": null,
            "grid_auto_columns": null,
            "grid_auto_flow": null,
            "grid_auto_rows": null,
            "grid_column": null,
            "grid_gap": null,
            "grid_row": null,
            "grid_template_areas": null,
            "grid_template_columns": null,
            "grid_template_rows": null,
            "height": null,
            "justify_content": null,
            "justify_items": null,
            "left": null,
            "margin": null,
            "max_height": null,
            "max_width": null,
            "min_height": null,
            "min_width": null,
            "object_fit": null,
            "object_position": null,
            "order": null,
            "overflow": null,
            "overflow_x": null,
            "overflow_y": null,
            "padding": null,
            "right": null,
            "top": null,
            "visibility": null,
            "width": null
          }
        },
        "1d896661ec7d4cc0b5e88ae2db0cd365": {
          "model_module": "@jupyter-widgets/base",
          "model_name": "LayoutModel",
          "model_module_version": "1.2.0",
          "state": {
            "_model_module": "@jupyter-widgets/base",
            "_model_module_version": "1.2.0",
            "_model_name": "LayoutModel",
            "_view_count": null,
            "_view_module": "@jupyter-widgets/base",
            "_view_module_version": "1.2.0",
            "_view_name": "LayoutView",
            "align_content": null,
            "align_items": null,
            "align_self": null,
            "border": null,
            "bottom": null,
            "display": null,
            "flex": null,
            "flex_flow": null,
            "grid_area": null,
            "grid_auto_columns": null,
            "grid_auto_flow": null,
            "grid_auto_rows": null,
            "grid_column": null,
            "grid_gap": null,
            "grid_row": null,
            "grid_template_areas": null,
            "grid_template_columns": null,
            "grid_template_rows": null,
            "height": null,
            "justify_content": null,
            "justify_items": null,
            "left": null,
            "margin": null,
            "max_height": null,
            "max_width": null,
            "min_height": null,
            "min_width": null,
            "object_fit": null,
            "object_position": null,
            "order": null,
            "overflow": null,
            "overflow_x": null,
            "overflow_y": null,
            "padding": null,
            "right": null,
            "top": null,
            "visibility": null,
            "width": null
          }
        },
        "b79c120045c54ab29510eb344bdf3b48": {
          "model_module": "@jupyter-widgets/controls",
          "model_name": "DescriptionStyleModel",
          "model_module_version": "1.5.0",
          "state": {
            "_model_module": "@jupyter-widgets/controls",
            "_model_module_version": "1.5.0",
            "_model_name": "DescriptionStyleModel",
            "_view_count": null,
            "_view_module": "@jupyter-widgets/base",
            "_view_module_version": "1.2.0",
            "_view_name": "StyleView",
            "description_width": ""
          }
        },
        "6be4f47da0c244b6a6f8bffabdecc82f": {
          "model_module": "@jupyter-widgets/base",
          "model_name": "LayoutModel",
          "model_module_version": "1.2.0",
          "state": {
            "_model_module": "@jupyter-widgets/base",
            "_model_module_version": "1.2.0",
            "_model_name": "LayoutModel",
            "_view_count": null,
            "_view_module": "@jupyter-widgets/base",
            "_view_module_version": "1.2.0",
            "_view_name": "LayoutView",
            "align_content": null,
            "align_items": null,
            "align_self": null,
            "border": null,
            "bottom": null,
            "display": null,
            "flex": null,
            "flex_flow": null,
            "grid_area": null,
            "grid_auto_columns": null,
            "grid_auto_flow": null,
            "grid_auto_rows": null,
            "grid_column": null,
            "grid_gap": null,
            "grid_row": null,
            "grid_template_areas": null,
            "grid_template_columns": null,
            "grid_template_rows": null,
            "height": null,
            "justify_content": null,
            "justify_items": null,
            "left": null,
            "margin": null,
            "max_height": null,
            "max_width": null,
            "min_height": null,
            "min_width": null,
            "object_fit": null,
            "object_position": null,
            "order": null,
            "overflow": null,
            "overflow_x": null,
            "overflow_y": null,
            "padding": null,
            "right": null,
            "top": null,
            "visibility": null,
            "width": null
          }
        },
        "09399476985344219cd0193bb4185ceb": {
          "model_module": "@jupyter-widgets/controls",
          "model_name": "ProgressStyleModel",
          "model_module_version": "1.5.0",
          "state": {
            "_model_module": "@jupyter-widgets/controls",
            "_model_module_version": "1.5.0",
            "_model_name": "ProgressStyleModel",
            "_view_count": null,
            "_view_module": "@jupyter-widgets/base",
            "_view_module_version": "1.2.0",
            "_view_name": "StyleView",
            "bar_color": null,
            "description_width": ""
          }
        },
        "0a2ec28efac247b0b693343a2a9d38c1": {
          "model_module": "@jupyter-widgets/base",
          "model_name": "LayoutModel",
          "model_module_version": "1.2.0",
          "state": {
            "_model_module": "@jupyter-widgets/base",
            "_model_module_version": "1.2.0",
            "_model_name": "LayoutModel",
            "_view_count": null,
            "_view_module": "@jupyter-widgets/base",
            "_view_module_version": "1.2.0",
            "_view_name": "LayoutView",
            "align_content": null,
            "align_items": null,
            "align_self": null,
            "border": null,
            "bottom": null,
            "display": null,
            "flex": null,
            "flex_flow": null,
            "grid_area": null,
            "grid_auto_columns": null,
            "grid_auto_flow": null,
            "grid_auto_rows": null,
            "grid_column": null,
            "grid_gap": null,
            "grid_row": null,
            "grid_template_areas": null,
            "grid_template_columns": null,
            "grid_template_rows": null,
            "height": null,
            "justify_content": null,
            "justify_items": null,
            "left": null,
            "margin": null,
            "max_height": null,
            "max_width": null,
            "min_height": null,
            "min_width": null,
            "object_fit": null,
            "object_position": null,
            "order": null,
            "overflow": null,
            "overflow_x": null,
            "overflow_y": null,
            "padding": null,
            "right": null,
            "top": null,
            "visibility": null,
            "width": null
          }
        },
        "635d2f4d8a77427a82ede636847aed31": {
          "model_module": "@jupyter-widgets/controls",
          "model_name": "DescriptionStyleModel",
          "model_module_version": "1.5.0",
          "state": {
            "_model_module": "@jupyter-widgets/controls",
            "_model_module_version": "1.5.0",
            "_model_name": "DescriptionStyleModel",
            "_view_count": null,
            "_view_module": "@jupyter-widgets/base",
            "_view_module_version": "1.2.0",
            "_view_name": "StyleView",
            "description_width": ""
          }
        },
        "d252c6b3febf402ab32fb6ae3ce5bef3": {
          "model_module": "@jupyter-widgets/controls",
          "model_name": "HBoxModel",
          "model_module_version": "1.5.0",
          "state": {
            "_dom_classes": [],
            "_model_module": "@jupyter-widgets/controls",
            "_model_module_version": "1.5.0",
            "_model_name": "HBoxModel",
            "_view_count": null,
            "_view_module": "@jupyter-widgets/controls",
            "_view_module_version": "1.5.0",
            "_view_name": "HBoxView",
            "box_style": "",
            "children": [
              "IPY_MODEL_924f4b8c60544bb9adae5abb3641a7e4",
              "IPY_MODEL_065d09539cb54d38a5fcad926d6c5437",
              "IPY_MODEL_f73fe5cbd3c649cbadc8b3d41e012bb5"
            ],
            "layout": "IPY_MODEL_9770d95e866a48c49994db658ad577c0"
          }
        },
        "924f4b8c60544bb9adae5abb3641a7e4": {
          "model_module": "@jupyter-widgets/controls",
          "model_name": "HTMLModel",
          "model_module_version": "1.5.0",
          "state": {
            "_dom_classes": [],
            "_model_module": "@jupyter-widgets/controls",
            "_model_module_version": "1.5.0",
            "_model_name": "HTMLModel",
            "_view_count": null,
            "_view_module": "@jupyter-widgets/controls",
            "_view_module_version": "1.5.0",
            "_view_name": "HTMLView",
            "description": "",
            "description_tooltip": null,
            "layout": "IPY_MODEL_aa77f705bc5740e7bf7112adaa5b7d2b",
            "placeholder": "​",
            "style": "IPY_MODEL_eb9449307d3445299b389c82cda2eab7",
            "value": "100%"
          }
        },
        "065d09539cb54d38a5fcad926d6c5437": {
          "model_module": "@jupyter-widgets/controls",
          "model_name": "FloatProgressModel",
          "model_module_version": "1.5.0",
          "state": {
            "_dom_classes": [],
            "_model_module": "@jupyter-widgets/controls",
            "_model_module_version": "1.5.0",
            "_model_name": "FloatProgressModel",
            "_view_count": null,
            "_view_module": "@jupyter-widgets/controls",
            "_view_module_version": "1.5.0",
            "_view_name": "ProgressView",
            "bar_style": "success",
            "description": "",
            "description_tooltip": null,
            "layout": "IPY_MODEL_95d430f1600444f2a10364ef119b490a",
            "max": 10,
            "min": 0,
            "orientation": "horizontal",
            "style": "IPY_MODEL_c26d8346be004a3e8b47366eeca01684",
            "value": 10
          }
        },
        "f73fe5cbd3c649cbadc8b3d41e012bb5": {
          "model_module": "@jupyter-widgets/controls",
          "model_name": "HTMLModel",
          "model_module_version": "1.5.0",
          "state": {
            "_dom_classes": [],
            "_model_module": "@jupyter-widgets/controls",
            "_model_module_version": "1.5.0",
            "_model_name": "HTMLModel",
            "_view_count": null,
            "_view_module": "@jupyter-widgets/controls",
            "_view_module_version": "1.5.0",
            "_view_name": "HTMLView",
            "description": "",
            "description_tooltip": null,
            "layout": "IPY_MODEL_501cbf83ec6e4e38a554a93ea80195a8",
            "placeholder": "​",
            "style": "IPY_MODEL_d89dadaf08f649d1871774f2e95eb487",
            "value": " 10/10 [06:06&lt;00:00, 36.74s/it]"
          }
        },
        "9770d95e866a48c49994db658ad577c0": {
          "model_module": "@jupyter-widgets/base",
          "model_name": "LayoutModel",
          "model_module_version": "1.2.0",
          "state": {
            "_model_module": "@jupyter-widgets/base",
            "_model_module_version": "1.2.0",
            "_model_name": "LayoutModel",
            "_view_count": null,
            "_view_module": "@jupyter-widgets/base",
            "_view_module_version": "1.2.0",
            "_view_name": "LayoutView",
            "align_content": null,
            "align_items": null,
            "align_self": null,
            "border": null,
            "bottom": null,
            "display": null,
            "flex": null,
            "flex_flow": null,
            "grid_area": null,
            "grid_auto_columns": null,
            "grid_auto_flow": null,
            "grid_auto_rows": null,
            "grid_column": null,
            "grid_gap": null,
            "grid_row": null,
            "grid_template_areas": null,
            "grid_template_columns": null,
            "grid_template_rows": null,
            "height": null,
            "justify_content": null,
            "justify_items": null,
            "left": null,
            "margin": null,
            "max_height": null,
            "max_width": null,
            "min_height": null,
            "min_width": null,
            "object_fit": null,
            "object_position": null,
            "order": null,
            "overflow": null,
            "overflow_x": null,
            "overflow_y": null,
            "padding": null,
            "right": null,
            "top": null,
            "visibility": null,
            "width": null
          }
        },
        "aa77f705bc5740e7bf7112adaa5b7d2b": {
          "model_module": "@jupyter-widgets/base",
          "model_name": "LayoutModel",
          "model_module_version": "1.2.0",
          "state": {
            "_model_module": "@jupyter-widgets/base",
            "_model_module_version": "1.2.0",
            "_model_name": "LayoutModel",
            "_view_count": null,
            "_view_module": "@jupyter-widgets/base",
            "_view_module_version": "1.2.0",
            "_view_name": "LayoutView",
            "align_content": null,
            "align_items": null,
            "align_self": null,
            "border": null,
            "bottom": null,
            "display": null,
            "flex": null,
            "flex_flow": null,
            "grid_area": null,
            "grid_auto_columns": null,
            "grid_auto_flow": null,
            "grid_auto_rows": null,
            "grid_column": null,
            "grid_gap": null,
            "grid_row": null,
            "grid_template_areas": null,
            "grid_template_columns": null,
            "grid_template_rows": null,
            "height": null,
            "justify_content": null,
            "justify_items": null,
            "left": null,
            "margin": null,
            "max_height": null,
            "max_width": null,
            "min_height": null,
            "min_width": null,
            "object_fit": null,
            "object_position": null,
            "order": null,
            "overflow": null,
            "overflow_x": null,
            "overflow_y": null,
            "padding": null,
            "right": null,
            "top": null,
            "visibility": null,
            "width": null
          }
        },
        "eb9449307d3445299b389c82cda2eab7": {
          "model_module": "@jupyter-widgets/controls",
          "model_name": "DescriptionStyleModel",
          "model_module_version": "1.5.0",
          "state": {
            "_model_module": "@jupyter-widgets/controls",
            "_model_module_version": "1.5.0",
            "_model_name": "DescriptionStyleModel",
            "_view_count": null,
            "_view_module": "@jupyter-widgets/base",
            "_view_module_version": "1.2.0",
            "_view_name": "StyleView",
            "description_width": ""
          }
        },
        "95d430f1600444f2a10364ef119b490a": {
          "model_module": "@jupyter-widgets/base",
          "model_name": "LayoutModel",
          "model_module_version": "1.2.0",
          "state": {
            "_model_module": "@jupyter-widgets/base",
            "_model_module_version": "1.2.0",
            "_model_name": "LayoutModel",
            "_view_count": null,
            "_view_module": "@jupyter-widgets/base",
            "_view_module_version": "1.2.0",
            "_view_name": "LayoutView",
            "align_content": null,
            "align_items": null,
            "align_self": null,
            "border": null,
            "bottom": null,
            "display": null,
            "flex": null,
            "flex_flow": null,
            "grid_area": null,
            "grid_auto_columns": null,
            "grid_auto_flow": null,
            "grid_auto_rows": null,
            "grid_column": null,
            "grid_gap": null,
            "grid_row": null,
            "grid_template_areas": null,
            "grid_template_columns": null,
            "grid_template_rows": null,
            "height": null,
            "justify_content": null,
            "justify_items": null,
            "left": null,
            "margin": null,
            "max_height": null,
            "max_width": null,
            "min_height": null,
            "min_width": null,
            "object_fit": null,
            "object_position": null,
            "order": null,
            "overflow": null,
            "overflow_x": null,
            "overflow_y": null,
            "padding": null,
            "right": null,
            "top": null,
            "visibility": null,
            "width": null
          }
        },
        "c26d8346be004a3e8b47366eeca01684": {
          "model_module": "@jupyter-widgets/controls",
          "model_name": "ProgressStyleModel",
          "model_module_version": "1.5.0",
          "state": {
            "_model_module": "@jupyter-widgets/controls",
            "_model_module_version": "1.5.0",
            "_model_name": "ProgressStyleModel",
            "_view_count": null,
            "_view_module": "@jupyter-widgets/base",
            "_view_module_version": "1.2.0",
            "_view_name": "StyleView",
            "bar_color": null,
            "description_width": ""
          }
        },
        "501cbf83ec6e4e38a554a93ea80195a8": {
          "model_module": "@jupyter-widgets/base",
          "model_name": "LayoutModel",
          "model_module_version": "1.2.0",
          "state": {
            "_model_module": "@jupyter-widgets/base",
            "_model_module_version": "1.2.0",
            "_model_name": "LayoutModel",
            "_view_count": null,
            "_view_module": "@jupyter-widgets/base",
            "_view_module_version": "1.2.0",
            "_view_name": "LayoutView",
            "align_content": null,
            "align_items": null,
            "align_self": null,
            "border": null,
            "bottom": null,
            "display": null,
            "flex": null,
            "flex_flow": null,
            "grid_area": null,
            "grid_auto_columns": null,
            "grid_auto_flow": null,
            "grid_auto_rows": null,
            "grid_column": null,
            "grid_gap": null,
            "grid_row": null,
            "grid_template_areas": null,
            "grid_template_columns": null,
            "grid_template_rows": null,
            "height": null,
            "justify_content": null,
            "justify_items": null,
            "left": null,
            "margin": null,
            "max_height": null,
            "max_width": null,
            "min_height": null,
            "min_width": null,
            "object_fit": null,
            "object_position": null,
            "order": null,
            "overflow": null,
            "overflow_x": null,
            "overflow_y": null,
            "padding": null,
            "right": null,
            "top": null,
            "visibility": null,
            "width": null
          }
        },
        "d89dadaf08f649d1871774f2e95eb487": {
          "model_module": "@jupyter-widgets/controls",
          "model_name": "DescriptionStyleModel",
          "model_module_version": "1.5.0",
          "state": {
            "_model_module": "@jupyter-widgets/controls",
            "_model_module_version": "1.5.0",
            "_model_name": "DescriptionStyleModel",
            "_view_count": null,
            "_view_module": "@jupyter-widgets/base",
            "_view_module_version": "1.2.0",
            "_view_name": "StyleView",
            "description_width": ""
          }
        }
      }
    }
  },
  "cells": [
    {
      "cell_type": "markdown",
      "metadata": {
        "id": "view-in-github",
        "colab_type": "text"
      },
      "source": [
        "<a href=\"https://colab.research.google.com/github/AnnaNKorotkova/Data/blob/master/seminar_2_ab_design_elisova.ipynb\" target=\"_parent\"><img src=\"https://colab.research.google.com/assets/colab-badge.svg\" alt=\"Open In Colab\"/></a>"
      ]
    },
    {
      "cell_type": "markdown",
      "source": [
        "# Семинар № 2\n",
        "# Дизайн аб-теста на реальном датасете\n",
        "\n",
        "Импорты библиотек"
      ],
      "metadata": {
        "id": "CKmNvgoMfwXg"
      }
    },
    {
      "cell_type": "code",
      "source": [
        "import sys\n",
        "!{sys.executable} -m pip install mmh3"
      ],
      "metadata": {
        "colab": {
          "base_uri": "https://localhost:8080/"
        },
        "id": "crATnRsghcV7",
        "outputId": "975d36c7-2535-41e1-811c-ecbe21f7b1ee"
      },
      "execution_count": null,
      "outputs": [
        {
          "output_type": "stream",
          "name": "stdout",
          "text": [
            "Collecting mmh3\n",
            "  Downloading mmh3-4.0.1-cp310-cp310-manylinux_2_5_x86_64.manylinux1_x86_64.manylinux_2_17_x86_64.manylinux2014_x86_64.whl (72 kB)\n",
            "\u001b[?25l     \u001b[90m━━━━━━━━━━━━━━━━━━━━━━━━━━━━━━━━━━━━━━━━\u001b[0m \u001b[32m0.0/72.6 kB\u001b[0m \u001b[31m?\u001b[0m eta \u001b[36m-:--:--\u001b[0m\r\u001b[2K     \u001b[91m━━━━━━━━━━━━━━━━━━━━━━━━━━━━━━━━━━━━━━━\u001b[0m\u001b[91m╸\u001b[0m \u001b[32m71.7/72.6 kB\u001b[0m \u001b[31m1.9 MB/s\u001b[0m eta \u001b[36m0:00:01\u001b[0m\r\u001b[2K     \u001b[90m━━━━━━━━━━━━━━━━━━━━━━━━━━━━━━━━━━━━━━━━\u001b[0m \u001b[32m72.6/72.6 kB\u001b[0m \u001b[31m1.3 MB/s\u001b[0m eta \u001b[36m0:00:00\u001b[0m\n",
            "\u001b[?25hInstalling collected packages: mmh3\n",
            "Successfully installed mmh3-4.0.1\n"
          ]
        }
      ]
    },
    {
      "cell_type": "code",
      "execution_count": null,
      "metadata": {
        "id": "2SDGfpQcfbfs"
      },
      "outputs": [],
      "source": [
        "import os\n",
        "import datetime\n",
        "import requests\n",
        "import base64\n",
        "\n",
        "import pandas as pd\n",
        "import numpy as np\n",
        "from sklearn.utils import shuffle\n",
        "from tqdm.auto import tqdm\n",
        "from zipfile import ZipFile\n",
        "import matplotlib.pyplot as plt\n",
        "import mmh3\n",
        "import warnings\n",
        "warnings.simplefilter('ignore')"
      ]
    },
    {
      "cell_type": "markdown",
      "source": [
        "# Датасет для экспериментов\n",
        "\n",
        "1. Скачиваем датасет"
      ],
      "metadata": {
        "id": "t-cssIa6f94j"
      }
    },
    {
      "cell_type": "code",
      "source": [
        "# download dataset by chunks\n",
        "url = \"https://github.com/sharthZ23/your-second-recsys/raw/master/data_kion.zip\"\n",
        "\n",
        "req = requests.get(url, stream=True)\n",
        "\n",
        "with open('data_kion.zip', \"wb\") as fd:\n",
        "    total_size_in_bytes = int(req.headers.get('Content-Length', 0))\n",
        "    progress_bar = tqdm(desc='kion dataset download', total=total_size_in_bytes, unit='iB', unit_scale=True)\n",
        "    for chunk in req.iter_content(chunk_size=2 ** 20):\n",
        "        progress_bar.update(len(chunk))\n",
        "        fd.write(chunk)"
      ],
      "metadata": {
        "colab": {
          "base_uri": "https://localhost:8080/",
          "height": 49,
          "referenced_widgets": [
            "c8b11c8366e24aee9289a851d300acac",
            "1fa692f2807b4b8f9f3530aa896f0ffb",
            "ab7f5d5b08514899aa62130417479c56",
            "9ec8f952dcb94cce8f583155219a16d6",
            "66b6a2a8c43b4453afc71cfb7e5eece0",
            "8bbdfb6fcddc4ae7bb9bd7e99b91c931",
            "6d03947a797b498fb1a7d4a463a4b5b7",
            "973264eec58c4d19b53c5947ad175ff1",
            "ac38d0781def428ba6eea35c47411aac",
            "55642b034aab442fac136ce9b4e30332",
            "70e9ef85b9d14560a0a21acd34a49ed1"
          ]
        },
        "id": "wjt2XM-SgAPx",
        "outputId": "7562120f-d0a3-4f79-ea2a-6ec190df3402"
      },
      "execution_count": null,
      "outputs": [
        {
          "output_type": "display_data",
          "data": {
            "text/plain": [
              "kion dataset download:   0%|          | 0.00/78.8M [00:00<?, ?iB/s]"
            ],
            "application/vnd.jupyter.widget-view+json": {
              "version_major": 2,
              "version_minor": 0,
              "model_id": "c8b11c8366e24aee9289a851d300acac"
            }
          },
          "metadata": {}
        }
      ]
    },
    {
      "cell_type": "markdown",
      "source": [
        "Распаковываем архив из 3 файлов"
      ],
      "metadata": {
        "id": "H9aklBtPfu-O"
      }
    },
    {
      "cell_type": "code",
      "source": [
        "!unzip data_kion.zip"
      ],
      "metadata": {
        "colab": {
          "base_uri": "https://localhost:8080/",
          "height": 53
        },
        "id": "8MJQIQisjFLo",
        "outputId": "5cbc0e9c-a116-4bf4-bba9-0b3d9dca1873"
      },
      "execution_count": null,
      "outputs": [
        {
          "output_type": "stream",
          "name": "stdout",
          "text": [
            "Archive:  data_kion.zip\n",
            "replace __MACOSX/._data_kion? [y]es, [n]o, [A]ll, [N]one, [r]ename: "
          ]
        }
      ]
    },
    {
      "cell_type": "markdown",
      "source": [
        "# 📺 Данные: датасет КИОН\n",
        "- **просмотры** фильмов и сериалов в приложении KION\n",
        "- данные о пользователях\n",
        "- данные об айтемах (фильмы, сериалы и т.д.)"
      ],
      "metadata": {
        "id": "ASR068UO9dV5"
      }
    },
    {
      "cell_type": "code",
      "source": [
        "interactions = pd.read_csv('data_kion/interactions_df.csv')\n",
        "\n",
        "users = pd.read_csv('data_kion/users.csv')\n",
        "items = pd.read_csv('data_kion/items.csv')"
      ],
      "metadata": {
        "id": "pGx8wgUwjKRg"
      },
      "execution_count": null,
      "outputs": []
    },
    {
      "cell_type": "markdown",
      "source": [
        "Мы будем использовать данные `interactions` = пользователь `user_id` посмотрел фильм `item_id` столько-то секунд `total_dur` в такую дату `last_watch_dt`\n",
        "- с датой last_watch_dt\n",
        "- длительностью просмотра total_dur\n",
        "- % просмотра watched_pct"
      ],
      "metadata": {
        "id": "efSqprQc-8NR"
      }
    },
    {
      "cell_type": "code",
      "source": [
        "interactions.head(5).append(interactions.tail())"
      ],
      "metadata": {
        "colab": {
          "base_uri": "https://localhost:8080/",
          "height": 363
        },
        "id": "Vla7b4qNlv7D",
        "outputId": "aba6caea-b73d-4283-a06a-21cc93cfa89f"
      },
      "execution_count": null,
      "outputs": [
        {
          "output_type": "execute_result",
          "data": {
            "text/plain": [
              "         user_id  item_id last_watch_dt  total_dur  watched_pct\n",
              "0         176549     9506    2021-05-11       4250         72.0\n",
              "1         699317     1659    2021-05-29       8317        100.0\n",
              "2         656683     7107    2021-05-09         10          0.0\n",
              "3         864613     7638    2021-07-05      14483        100.0\n",
              "4         964868     9506    2021-04-30       6725        100.0\n",
              "5476246   648596    12225    2021-08-13         76          0.0\n",
              "5476247   546862     9673    2021-04-13       2308         49.0\n",
              "5476248   697262    15297    2021-08-20      18307         63.0\n",
              "5476249   384202    16197    2021-04-19       6203        100.0\n",
              "5476250   319709     4436    2021-08-15       3921         45.0"
            ],
            "text/html": [
              "\n",
              "\n",
              "  <div id=\"df-8e52808d-ae8c-41a0-95ab-efc59aaea1cc\">\n",
              "    <div class=\"colab-df-container\">\n",
              "      <div>\n",
              "<style scoped>\n",
              "    .dataframe tbody tr th:only-of-type {\n",
              "        vertical-align: middle;\n",
              "    }\n",
              "\n",
              "    .dataframe tbody tr th {\n",
              "        vertical-align: top;\n",
              "    }\n",
              "\n",
              "    .dataframe thead th {\n",
              "        text-align: right;\n",
              "    }\n",
              "</style>\n",
              "<table border=\"1\" class=\"dataframe\">\n",
              "  <thead>\n",
              "    <tr style=\"text-align: right;\">\n",
              "      <th></th>\n",
              "      <th>user_id</th>\n",
              "      <th>item_id</th>\n",
              "      <th>last_watch_dt</th>\n",
              "      <th>total_dur</th>\n",
              "      <th>watched_pct</th>\n",
              "    </tr>\n",
              "  </thead>\n",
              "  <tbody>\n",
              "    <tr>\n",
              "      <th>0</th>\n",
              "      <td>176549</td>\n",
              "      <td>9506</td>\n",
              "      <td>2021-05-11</td>\n",
              "      <td>4250</td>\n",
              "      <td>72.0</td>\n",
              "    </tr>\n",
              "    <tr>\n",
              "      <th>1</th>\n",
              "      <td>699317</td>\n",
              "      <td>1659</td>\n",
              "      <td>2021-05-29</td>\n",
              "      <td>8317</td>\n",
              "      <td>100.0</td>\n",
              "    </tr>\n",
              "    <tr>\n",
              "      <th>2</th>\n",
              "      <td>656683</td>\n",
              "      <td>7107</td>\n",
              "      <td>2021-05-09</td>\n",
              "      <td>10</td>\n",
              "      <td>0.0</td>\n",
              "    </tr>\n",
              "    <tr>\n",
              "      <th>3</th>\n",
              "      <td>864613</td>\n",
              "      <td>7638</td>\n",
              "      <td>2021-07-05</td>\n",
              "      <td>14483</td>\n",
              "      <td>100.0</td>\n",
              "    </tr>\n",
              "    <tr>\n",
              "      <th>4</th>\n",
              "      <td>964868</td>\n",
              "      <td>9506</td>\n",
              "      <td>2021-04-30</td>\n",
              "      <td>6725</td>\n",
              "      <td>100.0</td>\n",
              "    </tr>\n",
              "    <tr>\n",
              "      <th>5476246</th>\n",
              "      <td>648596</td>\n",
              "      <td>12225</td>\n",
              "      <td>2021-08-13</td>\n",
              "      <td>76</td>\n",
              "      <td>0.0</td>\n",
              "    </tr>\n",
              "    <tr>\n",
              "      <th>5476247</th>\n",
              "      <td>546862</td>\n",
              "      <td>9673</td>\n",
              "      <td>2021-04-13</td>\n",
              "      <td>2308</td>\n",
              "      <td>49.0</td>\n",
              "    </tr>\n",
              "    <tr>\n",
              "      <th>5476248</th>\n",
              "      <td>697262</td>\n",
              "      <td>15297</td>\n",
              "      <td>2021-08-20</td>\n",
              "      <td>18307</td>\n",
              "      <td>63.0</td>\n",
              "    </tr>\n",
              "    <tr>\n",
              "      <th>5476249</th>\n",
              "      <td>384202</td>\n",
              "      <td>16197</td>\n",
              "      <td>2021-04-19</td>\n",
              "      <td>6203</td>\n",
              "      <td>100.0</td>\n",
              "    </tr>\n",
              "    <tr>\n",
              "      <th>5476250</th>\n",
              "      <td>319709</td>\n",
              "      <td>4436</td>\n",
              "      <td>2021-08-15</td>\n",
              "      <td>3921</td>\n",
              "      <td>45.0</td>\n",
              "    </tr>\n",
              "  </tbody>\n",
              "</table>\n",
              "</div>\n",
              "      <button class=\"colab-df-convert\" onclick=\"convertToInteractive('df-8e52808d-ae8c-41a0-95ab-efc59aaea1cc')\"\n",
              "              title=\"Convert this dataframe to an interactive table.\"\n",
              "              style=\"display:none;\">\n",
              "\n",
              "  <svg xmlns=\"http://www.w3.org/2000/svg\" height=\"24px\"viewBox=\"0 0 24 24\"\n",
              "       width=\"24px\">\n",
              "    <path d=\"M0 0h24v24H0V0z\" fill=\"none\"/>\n",
              "    <path d=\"M18.56 5.44l.94 2.06.94-2.06 2.06-.94-2.06-.94-.94-2.06-.94 2.06-2.06.94zm-11 1L8.5 8.5l.94-2.06 2.06-.94-2.06-.94L8.5 2.5l-.94 2.06-2.06.94zm10 10l.94 2.06.94-2.06 2.06-.94-2.06-.94-.94-2.06-.94 2.06-2.06.94z\"/><path d=\"M17.41 7.96l-1.37-1.37c-.4-.4-.92-.59-1.43-.59-.52 0-1.04.2-1.43.59L10.3 9.45l-7.72 7.72c-.78.78-.78 2.05 0 2.83L4 21.41c.39.39.9.59 1.41.59.51 0 1.02-.2 1.41-.59l7.78-7.78 2.81-2.81c.8-.78.8-2.07 0-2.86zM5.41 20L4 18.59l7.72-7.72 1.47 1.35L5.41 20z\"/>\n",
              "  </svg>\n",
              "      </button>\n",
              "\n",
              "\n",
              "\n",
              "    <div id=\"df-6af49f6e-c993-4291-872a-f571f57465c5\">\n",
              "      <button class=\"colab-df-quickchart\" onclick=\"quickchart('df-6af49f6e-c993-4291-872a-f571f57465c5')\"\n",
              "              title=\"Suggest charts.\"\n",
              "              style=\"display:none;\">\n",
              "\n",
              "<svg xmlns=\"http://www.w3.org/2000/svg\" height=\"24px\"viewBox=\"0 0 24 24\"\n",
              "     width=\"24px\">\n",
              "    <g>\n",
              "        <path d=\"M19 3H5c-1.1 0-2 .9-2 2v14c0 1.1.9 2 2 2h14c1.1 0 2-.9 2-2V5c0-1.1-.9-2-2-2zM9 17H7v-7h2v7zm4 0h-2V7h2v10zm4 0h-2v-4h2v4z\"/>\n",
              "    </g>\n",
              "</svg>\n",
              "      </button>\n",
              "    </div>\n",
              "\n",
              "<style>\n",
              "  .colab-df-quickchart {\n",
              "    background-color: #E8F0FE;\n",
              "    border: none;\n",
              "    border-radius: 50%;\n",
              "    cursor: pointer;\n",
              "    display: none;\n",
              "    fill: #1967D2;\n",
              "    height: 32px;\n",
              "    padding: 0 0 0 0;\n",
              "    width: 32px;\n",
              "  }\n",
              "\n",
              "  .colab-df-quickchart:hover {\n",
              "    background-color: #E2EBFA;\n",
              "    box-shadow: 0px 1px 2px rgba(60, 64, 67, 0.3), 0px 1px 3px 1px rgba(60, 64, 67, 0.15);\n",
              "    fill: #174EA6;\n",
              "  }\n",
              "\n",
              "  [theme=dark] .colab-df-quickchart {\n",
              "    background-color: #3B4455;\n",
              "    fill: #D2E3FC;\n",
              "  }\n",
              "\n",
              "  [theme=dark] .colab-df-quickchart:hover {\n",
              "    background-color: #434B5C;\n",
              "    box-shadow: 0px 1px 3px 1px rgba(0, 0, 0, 0.15);\n",
              "    filter: drop-shadow(0px 1px 2px rgba(0, 0, 0, 0.3));\n",
              "    fill: #FFFFFF;\n",
              "  }\n",
              "</style>\n",
              "\n",
              "    <script>\n",
              "      async function quickchart(key) {\n",
              "        const containerElement = document.querySelector('#' + key);\n",
              "        const charts = await google.colab.kernel.invokeFunction(\n",
              "            'suggestCharts', [key], {});\n",
              "      }\n",
              "    </script>\n",
              "\n",
              "      <script>\n",
              "\n",
              "function displayQuickchartButton(domScope) {\n",
              "  let quickchartButtonEl =\n",
              "    domScope.querySelector('#df-6af49f6e-c993-4291-872a-f571f57465c5 button.colab-df-quickchart');\n",
              "  quickchartButtonEl.style.display =\n",
              "    google.colab.kernel.accessAllowed ? 'block' : 'none';\n",
              "}\n",
              "\n",
              "        displayQuickchartButton(document);\n",
              "      </script>\n",
              "      <style>\n",
              "    .colab-df-container {\n",
              "      display:flex;\n",
              "      flex-wrap:wrap;\n",
              "      gap: 12px;\n",
              "    }\n",
              "\n",
              "    .colab-df-convert {\n",
              "      background-color: #E8F0FE;\n",
              "      border: none;\n",
              "      border-radius: 50%;\n",
              "      cursor: pointer;\n",
              "      display: none;\n",
              "      fill: #1967D2;\n",
              "      height: 32px;\n",
              "      padding: 0 0 0 0;\n",
              "      width: 32px;\n",
              "    }\n",
              "\n",
              "    .colab-df-convert:hover {\n",
              "      background-color: #E2EBFA;\n",
              "      box-shadow: 0px 1px 2px rgba(60, 64, 67, 0.3), 0px 1px 3px 1px rgba(60, 64, 67, 0.15);\n",
              "      fill: #174EA6;\n",
              "    }\n",
              "\n",
              "    [theme=dark] .colab-df-convert {\n",
              "      background-color: #3B4455;\n",
              "      fill: #D2E3FC;\n",
              "    }\n",
              "\n",
              "    [theme=dark] .colab-df-convert:hover {\n",
              "      background-color: #434B5C;\n",
              "      box-shadow: 0px 1px 3px 1px rgba(0, 0, 0, 0.15);\n",
              "      filter: drop-shadow(0px 1px 2px rgba(0, 0, 0, 0.3));\n",
              "      fill: #FFFFFF;\n",
              "    }\n",
              "  </style>\n",
              "\n",
              "      <script>\n",
              "        const buttonEl =\n",
              "          document.querySelector('#df-8e52808d-ae8c-41a0-95ab-efc59aaea1cc button.colab-df-convert');\n",
              "        buttonEl.style.display =\n",
              "          google.colab.kernel.accessAllowed ? 'block' : 'none';\n",
              "\n",
              "        async function convertToInteractive(key) {\n",
              "          const element = document.querySelector('#df-8e52808d-ae8c-41a0-95ab-efc59aaea1cc');\n",
              "          const dataTable =\n",
              "            await google.colab.kernel.invokeFunction('convertToInteractive',\n",
              "                                                     [key], {});\n",
              "          if (!dataTable) return;\n",
              "\n",
              "          const docLinkHtml = 'Like what you see? Visit the ' +\n",
              "            '<a target=\"_blank\" href=https://colab.research.google.com/notebooks/data_table.ipynb>data table notebook</a>'\n",
              "            + ' to learn more about interactive tables.';\n",
              "          element.innerHTML = '';\n",
              "          dataTable['output_type'] = 'display_data';\n",
              "          await google.colab.output.renderOutput(dataTable, element);\n",
              "          const docLink = document.createElement('div');\n",
              "          docLink.innerHTML = docLinkHtml;\n",
              "          element.appendChild(docLink);\n",
              "        }\n",
              "      </script>\n",
              "    </div>\n",
              "  </div>\n"
            ]
          },
          "metadata": {},
          "execution_count": 6
        }
      ]
    },
    {
      "cell_type": "code",
      "source": [
        "# предобработка данных\n",
        "interactions['last_watch_dt'] = pd.to_datetime(interactions['last_watch_dt']).map(lambda x: x.date())\n",
        "interactions['user_id'] = interactions['user_id'].astype(str)\n",
        "\n",
        "print(f\"Уникальных юзеров в interactions: {interactions['user_id'].nunique():_}\")\n",
        "print(f\"Уникальных айтемов в interactions: {interactions['item_id'].nunique():_}\")"
      ],
      "metadata": {
        "colab": {
          "base_uri": "https://localhost:8080/"
        },
        "id": "otKo2QMs_J8e",
        "outputId": "fc13d1d5-3622-498d-8b6b-3a01c1e95e64"
      },
      "execution_count": null,
      "outputs": [
        {
          "output_type": "stream",
          "name": "stdout",
          "text": [
            "Уникальных юзеров в interactions: 962_179\n",
            "Уникальных айтемов в interactions: 15_706\n"
          ]
        }
      ]
    },
    {
      "cell_type": "markdown",
      "source": [
        "# Вариант дизайна 1"
      ],
      "metadata": {
        "id": "_iCIpCG1By8c"
      }
    },
    {
      "cell_type": "markdown",
      "source": [
        "Так как в данных есть недельная сезонность, то длину теста меньше 1 недели не будем рассматривать"
      ],
      "metadata": {
        "id": "EmPGa4VQaCfa"
      }
    },
    {
      "cell_type": "markdown",
      "source": [
        "1) Оценим сколько у нас пользователей за 1 неделю"
      ],
      "metadata": {
        "id": "tuWFCxltADKs"
      }
    },
    {
      "cell_type": "code",
      "source": [
        "max_date = interactions['last_watch_dt'].max()"
      ],
      "metadata": {
        "id": "1hEX89lSA8bN"
      },
      "execution_count": null,
      "outputs": []
    },
    {
      "cell_type": "code",
      "source": [
        "interactions[interactions['last_watch_dt'] >= max_date - datetime.timedelta(days=7)]['user_id'].nunique()"
      ],
      "metadata": {
        "colab": {
          "base_uri": "https://localhost:8080/"
        },
        "id": "5zF4W8uVATJB",
        "outputId": "8d843469-4405-4048-c0c3-5f6768007c67"
      },
      "execution_count": null,
      "outputs": [
        {
          "output_type": "execute_result",
          "data": {
            "text/plain": [
              "185907"
            ]
          },
          "metadata": {},
          "execution_count": 9
        }
      ]
    },
    {
      "cell_type": "code",
      "source": [
        "# выделим данные за одну (последнюю) неделю\n",
        "week1 = interactions[interactions['last_watch_dt'] >= max_date - datetime.timedelta(days=7)]"
      ],
      "metadata": {
        "id": "86aN0hlgY9v2"
      },
      "execution_count": null,
      "outputs": []
    },
    {
      "cell_type": "code",
      "source": [
        "week1 = week1.groupby('user_id', as_index=False).agg({'total_dur': sum})"
      ],
      "metadata": {
        "id": "SmR0HW6q0IhJ"
      },
      "execution_count": null,
      "outputs": []
    },
    {
      "cell_type": "code",
      "source": [
        "week1.head()"
      ],
      "metadata": {
        "colab": {
          "base_uri": "https://localhost:8080/",
          "height": 206
        },
        "id": "DvZntIaU0coA",
        "outputId": "31fbe606-1f1f-4242-faf0-28a7339a3eb9"
      },
      "execution_count": null,
      "outputs": [
        {
          "output_type": "execute_result",
          "data": {
            "text/plain": [
              "   user_id  total_dur\n",
              "0        1       1593\n",
              "1  1000001         52\n",
              "2  1000003        625\n",
              "3  1000008       3691\n",
              "4  1000009       2444"
            ],
            "text/html": [
              "\n",
              "\n",
              "  <div id=\"df-3149268d-e874-4be7-b209-055baea1bc7b\">\n",
              "    <div class=\"colab-df-container\">\n",
              "      <div>\n",
              "<style scoped>\n",
              "    .dataframe tbody tr th:only-of-type {\n",
              "        vertical-align: middle;\n",
              "    }\n",
              "\n",
              "    .dataframe tbody tr th {\n",
              "        vertical-align: top;\n",
              "    }\n",
              "\n",
              "    .dataframe thead th {\n",
              "        text-align: right;\n",
              "    }\n",
              "</style>\n",
              "<table border=\"1\" class=\"dataframe\">\n",
              "  <thead>\n",
              "    <tr style=\"text-align: right;\">\n",
              "      <th></th>\n",
              "      <th>user_id</th>\n",
              "      <th>total_dur</th>\n",
              "    </tr>\n",
              "  </thead>\n",
              "  <tbody>\n",
              "    <tr>\n",
              "      <th>0</th>\n",
              "      <td>1</td>\n",
              "      <td>1593</td>\n",
              "    </tr>\n",
              "    <tr>\n",
              "      <th>1</th>\n",
              "      <td>1000001</td>\n",
              "      <td>52</td>\n",
              "    </tr>\n",
              "    <tr>\n",
              "      <th>2</th>\n",
              "      <td>1000003</td>\n",
              "      <td>625</td>\n",
              "    </tr>\n",
              "    <tr>\n",
              "      <th>3</th>\n",
              "      <td>1000008</td>\n",
              "      <td>3691</td>\n",
              "    </tr>\n",
              "    <tr>\n",
              "      <th>4</th>\n",
              "      <td>1000009</td>\n",
              "      <td>2444</td>\n",
              "    </tr>\n",
              "  </tbody>\n",
              "</table>\n",
              "</div>\n",
              "      <button class=\"colab-df-convert\" onclick=\"convertToInteractive('df-3149268d-e874-4be7-b209-055baea1bc7b')\"\n",
              "              title=\"Convert this dataframe to an interactive table.\"\n",
              "              style=\"display:none;\">\n",
              "\n",
              "  <svg xmlns=\"http://www.w3.org/2000/svg\" height=\"24px\"viewBox=\"0 0 24 24\"\n",
              "       width=\"24px\">\n",
              "    <path d=\"M0 0h24v24H0V0z\" fill=\"none\"/>\n",
              "    <path d=\"M18.56 5.44l.94 2.06.94-2.06 2.06-.94-2.06-.94-.94-2.06-.94 2.06-2.06.94zm-11 1L8.5 8.5l.94-2.06 2.06-.94-2.06-.94L8.5 2.5l-.94 2.06-2.06.94zm10 10l.94 2.06.94-2.06 2.06-.94-2.06-.94-.94-2.06-.94 2.06-2.06.94z\"/><path d=\"M17.41 7.96l-1.37-1.37c-.4-.4-.92-.59-1.43-.59-.52 0-1.04.2-1.43.59L10.3 9.45l-7.72 7.72c-.78.78-.78 2.05 0 2.83L4 21.41c.39.39.9.59 1.41.59.51 0 1.02-.2 1.41-.59l7.78-7.78 2.81-2.81c.8-.78.8-2.07 0-2.86zM5.41 20L4 18.59l7.72-7.72 1.47 1.35L5.41 20z\"/>\n",
              "  </svg>\n",
              "      </button>\n",
              "\n",
              "\n",
              "\n",
              "    <div id=\"df-47721cb4-386d-4e17-9bfc-275b9cbe53f3\">\n",
              "      <button class=\"colab-df-quickchart\" onclick=\"quickchart('df-47721cb4-386d-4e17-9bfc-275b9cbe53f3')\"\n",
              "              title=\"Suggest charts.\"\n",
              "              style=\"display:none;\">\n",
              "\n",
              "<svg xmlns=\"http://www.w3.org/2000/svg\" height=\"24px\"viewBox=\"0 0 24 24\"\n",
              "     width=\"24px\">\n",
              "    <g>\n",
              "        <path d=\"M19 3H5c-1.1 0-2 .9-2 2v14c0 1.1.9 2 2 2h14c1.1 0 2-.9 2-2V5c0-1.1-.9-2-2-2zM9 17H7v-7h2v7zm4 0h-2V7h2v10zm4 0h-2v-4h2v4z\"/>\n",
              "    </g>\n",
              "</svg>\n",
              "      </button>\n",
              "    </div>\n",
              "\n",
              "<style>\n",
              "  .colab-df-quickchart {\n",
              "    background-color: #E8F0FE;\n",
              "    border: none;\n",
              "    border-radius: 50%;\n",
              "    cursor: pointer;\n",
              "    display: none;\n",
              "    fill: #1967D2;\n",
              "    height: 32px;\n",
              "    padding: 0 0 0 0;\n",
              "    width: 32px;\n",
              "  }\n",
              "\n",
              "  .colab-df-quickchart:hover {\n",
              "    background-color: #E2EBFA;\n",
              "    box-shadow: 0px 1px 2px rgba(60, 64, 67, 0.3), 0px 1px 3px 1px rgba(60, 64, 67, 0.15);\n",
              "    fill: #174EA6;\n",
              "  }\n",
              "\n",
              "  [theme=dark] .colab-df-quickchart {\n",
              "    background-color: #3B4455;\n",
              "    fill: #D2E3FC;\n",
              "  }\n",
              "\n",
              "  [theme=dark] .colab-df-quickchart:hover {\n",
              "    background-color: #434B5C;\n",
              "    box-shadow: 0px 1px 3px 1px rgba(0, 0, 0, 0.15);\n",
              "    filter: drop-shadow(0px 1px 2px rgba(0, 0, 0, 0.3));\n",
              "    fill: #FFFFFF;\n",
              "  }\n",
              "</style>\n",
              "\n",
              "    <script>\n",
              "      async function quickchart(key) {\n",
              "        const containerElement = document.querySelector('#' + key);\n",
              "        const charts = await google.colab.kernel.invokeFunction(\n",
              "            'suggestCharts', [key], {});\n",
              "      }\n",
              "    </script>\n",
              "\n",
              "      <script>\n",
              "\n",
              "function displayQuickchartButton(domScope) {\n",
              "  let quickchartButtonEl =\n",
              "    domScope.querySelector('#df-47721cb4-386d-4e17-9bfc-275b9cbe53f3 button.colab-df-quickchart');\n",
              "  quickchartButtonEl.style.display =\n",
              "    google.colab.kernel.accessAllowed ? 'block' : 'none';\n",
              "}\n",
              "\n",
              "        displayQuickchartButton(document);\n",
              "      </script>\n",
              "      <style>\n",
              "    .colab-df-container {\n",
              "      display:flex;\n",
              "      flex-wrap:wrap;\n",
              "      gap: 12px;\n",
              "    }\n",
              "\n",
              "    .colab-df-convert {\n",
              "      background-color: #E8F0FE;\n",
              "      border: none;\n",
              "      border-radius: 50%;\n",
              "      cursor: pointer;\n",
              "      display: none;\n",
              "      fill: #1967D2;\n",
              "      height: 32px;\n",
              "      padding: 0 0 0 0;\n",
              "      width: 32px;\n",
              "    }\n",
              "\n",
              "    .colab-df-convert:hover {\n",
              "      background-color: #E2EBFA;\n",
              "      box-shadow: 0px 1px 2px rgba(60, 64, 67, 0.3), 0px 1px 3px 1px rgba(60, 64, 67, 0.15);\n",
              "      fill: #174EA6;\n",
              "    }\n",
              "\n",
              "    [theme=dark] .colab-df-convert {\n",
              "      background-color: #3B4455;\n",
              "      fill: #D2E3FC;\n",
              "    }\n",
              "\n",
              "    [theme=dark] .colab-df-convert:hover {\n",
              "      background-color: #434B5C;\n",
              "      box-shadow: 0px 1px 3px 1px rgba(0, 0, 0, 0.15);\n",
              "      filter: drop-shadow(0px 1px 2px rgba(0, 0, 0, 0.3));\n",
              "      fill: #FFFFFF;\n",
              "    }\n",
              "  </style>\n",
              "\n",
              "      <script>\n",
              "        const buttonEl =\n",
              "          document.querySelector('#df-3149268d-e874-4be7-b209-055baea1bc7b button.colab-df-convert');\n",
              "        buttonEl.style.display =\n",
              "          google.colab.kernel.accessAllowed ? 'block' : 'none';\n",
              "\n",
              "        async function convertToInteractive(key) {\n",
              "          const element = document.querySelector('#df-3149268d-e874-4be7-b209-055baea1bc7b');\n",
              "          const dataTable =\n",
              "            await google.colab.kernel.invokeFunction('convertToInteractive',\n",
              "                                                     [key], {});\n",
              "          if (!dataTable) return;\n",
              "\n",
              "          const docLinkHtml = 'Like what you see? Visit the ' +\n",
              "            '<a target=\"_blank\" href=https://colab.research.google.com/notebooks/data_table.ipynb>data table notebook</a>'\n",
              "            + ' to learn more about interactive tables.';\n",
              "          element.innerHTML = '';\n",
              "          dataTable['output_type'] = 'display_data';\n",
              "          await google.colab.output.renderOutput(dataTable, element);\n",
              "          const docLink = document.createElement('div');\n",
              "          docLink.innerHTML = docLinkHtml;\n",
              "          element.appendChild(docLink);\n",
              "        }\n",
              "      </script>\n",
              "    </div>\n",
              "  </div>\n"
            ]
          },
          "metadata": {},
          "execution_count": 12
        }
      ]
    },
    {
      "cell_type": "markdown",
      "source": [
        "## Выбор метрики\n",
        "\n",
        "- хотим использовать метрику \"spend\" = длину просмотра на пользователя (total_dur в датасете) - так как это основная метрика, на которую смотрит бизнес\n",
        "\n",
        "- То есть хотим, чтобы в тесте в группе B средняя длина просмотра на пользователя увеличилась\n",
        "\n",
        "# Выбор эффекта\n",
        "\n",
        "Пусть на первом этапе решили, что интересует эффект = 5% как разница между группами\n",
        "\n",
        "### Посмотрим на распределение метрики\n",
        "\n",
        "(помним: дисперсия должна быть невысокая)"
      ],
      "metadata": {
        "id": "CuQFOHbUZYbU"
      }
    },
    {
      "cell_type": "code",
      "source": [
        "import seaborn as sns\n",
        "\n",
        "sns.boxplot(week1['total_dur'].values)"
      ],
      "metadata": {
        "colab": {
          "base_uri": "https://localhost:8080/",
          "height": 463
        },
        "id": "_qCCmEjYYjxq",
        "outputId": "809fbea1-bf15-4953-96f3-fd76575960e9"
      },
      "execution_count": null,
      "outputs": [
        {
          "output_type": "execute_result",
          "data": {
            "text/plain": [
              "<Axes: >"
            ]
          },
          "metadata": {},
          "execution_count": 13
        },
        {
          "output_type": "display_data",
          "data": {
            "text/plain": [
              "<Figure size 640x480 with 1 Axes>"
            ],
            "image/png": "[encoded data removed]"
          },
          "metadata": {}
        }
      ]
    },
    {
      "cell_type": "code",
      "source": [
        "# кажется у нас есть выброс - это плохо, удалим его\n",
        "week1['total_dur'].max()"
      ],
      "metadata": {
        "colab": {
          "base_uri": "https://localhost:8080/"
        },
        "id": "fO7tag2hYUVf",
        "outputId": "479c2eba-e91e-4d70-d071-d184568b1ee9"
      },
      "execution_count": null,
      "outputs": [
        {
          "output_type": "execute_result",
          "data": {
            "text/plain": [
              "9731801"
            ]
          },
          "metadata": {},
          "execution_count": 14
        }
      ]
    },
    {
      "cell_type": "code",
      "source": [
        "week1['total_dur'].std()"
      ],
      "metadata": {
        "colab": {
          "base_uri": "https://localhost:8080/"
        },
        "id": "xzY9DSfacAqL",
        "outputId": "ba2860b8-d267-4c2d-8d1c-54357d8bdba4"
      },
      "execution_count": null,
      "outputs": [
        {
          "output_type": "execute_result",
          "data": {
            "text/plain": [
              "62639.864877425716"
            ]
          },
          "metadata": {},
          "execution_count": 15
        }
      ]
    },
    {
      "cell_type": "code",
      "source": [
        "week1[week1['total_dur'] == week1['total_dur'].max()]"
      ],
      "metadata": {
        "colab": {
          "base_uri": "https://localhost:8080/",
          "height": 81
        },
        "id": "6BttYdaaZGm-",
        "outputId": "7123d5c3-d6e9-425d-a6e9-3ec92f2ed96b"
      },
      "execution_count": null,
      "outputs": [
        {
          "output_type": "execute_result",
          "data": {
            "text/plain": [
              "       user_id  total_dur\n",
              "128751  696597    9731801"
            ],
            "text/html": [
              "\n",
              "\n",
              "  <div id=\"df-3e46d349-375a-4a85-82c0-adff53f54cb6\">\n",
              "    <div class=\"colab-df-container\">\n",
              "      <div>\n",
              "<style scoped>\n",
              "    .dataframe tbody tr th:only-of-type {\n",
              "        vertical-align: middle;\n",
              "    }\n",
              "\n",
              "    .dataframe tbody tr th {\n",
              "        vertical-align: top;\n",
              "    }\n",
              "\n",
              "    .dataframe thead th {\n",
              "        text-align: right;\n",
              "    }\n",
              "</style>\n",
              "<table border=\"1\" class=\"dataframe\">\n",
              "  <thead>\n",
              "    <tr style=\"text-align: right;\">\n",
              "      <th></th>\n",
              "      <th>user_id</th>\n",
              "      <th>total_dur</th>\n",
              "    </tr>\n",
              "  </thead>\n",
              "  <tbody>\n",
              "    <tr>\n",
              "      <th>128751</th>\n",
              "      <td>696597</td>\n",
              "      <td>9731801</td>\n",
              "    </tr>\n",
              "  </tbody>\n",
              "</table>\n",
              "</div>\n",
              "      <button class=\"colab-df-convert\" onclick=\"convertToInteractive('df-3e46d349-375a-4a85-82c0-adff53f54cb6')\"\n",
              "              title=\"Convert this dataframe to an interactive table.\"\n",
              "              style=\"display:none;\">\n",
              "\n",
              "  <svg xmlns=\"http://www.w3.org/2000/svg\" height=\"24px\"viewBox=\"0 0 24 24\"\n",
              "       width=\"24px\">\n",
              "    <path d=\"M0 0h24v24H0V0z\" fill=\"none\"/>\n",
              "    <path d=\"M18.56 5.44l.94 2.06.94-2.06 2.06-.94-2.06-.94-.94-2.06-.94 2.06-2.06.94zm-11 1L8.5 8.5l.94-2.06 2.06-.94-2.06-.94L8.5 2.5l-.94 2.06-2.06.94zm10 10l.94 2.06.94-2.06 2.06-.94-2.06-.94-.94-2.06-.94 2.06-2.06.94z\"/><path d=\"M17.41 7.96l-1.37-1.37c-.4-.4-.92-.59-1.43-.59-.52 0-1.04.2-1.43.59L10.3 9.45l-7.72 7.72c-.78.78-.78 2.05 0 2.83L4 21.41c.39.39.9.59 1.41.59.51 0 1.02-.2 1.41-.59l7.78-7.78 2.81-2.81c.8-.78.8-2.07 0-2.86zM5.41 20L4 18.59l7.72-7.72 1.47 1.35L5.41 20z\"/>\n",
              "  </svg>\n",
              "      </button>\n",
              "\n",
              "\n",
              "\n",
              "    <div id=\"df-67e6a234-5ef9-4c53-b62e-9d53f68d9e47\">\n",
              "      <button class=\"colab-df-quickchart\" onclick=\"quickchart('df-67e6a234-5ef9-4c53-b62e-9d53f68d9e47')\"\n",
              "              title=\"Suggest charts.\"\n",
              "              style=\"display:none;\">\n",
              "\n",
              "<svg xmlns=\"http://www.w3.org/2000/svg\" height=\"24px\"viewBox=\"0 0 24 24\"\n",
              "     width=\"24px\">\n",
              "    <g>\n",
              "        <path d=\"M19 3H5c-1.1 0-2 .9-2 2v14c0 1.1.9 2 2 2h14c1.1 0 2-.9 2-2V5c0-1.1-.9-2-2-2zM9 17H7v-7h2v7zm4 0h-2V7h2v10zm4 0h-2v-4h2v4z\"/>\n",
              "    </g>\n",
              "</svg>\n",
              "      </button>\n",
              "    </div>\n",
              "\n",
              "<style>\n",
              "  .colab-df-quickchart {\n",
              "    background-color: #E8F0FE;\n",
              "    border: none;\n",
              "    border-radius: 50%;\n",
              "    cursor: pointer;\n",
              "    display: none;\n",
              "    fill: #1967D2;\n",
              "    height: 32px;\n",
              "    padding: 0 0 0 0;\n",
              "    width: 32px;\n",
              "  }\n",
              "\n",
              "  .colab-df-quickchart:hover {\n",
              "    background-color: #E2EBFA;\n",
              "    box-shadow: 0px 1px 2px rgba(60, 64, 67, 0.3), 0px 1px 3px 1px rgba(60, 64, 67, 0.15);\n",
              "    fill: #174EA6;\n",
              "  }\n",
              "\n",
              "  [theme=dark] .colab-df-quickchart {\n",
              "    background-color: #3B4455;\n",
              "    fill: #D2E3FC;\n",
              "  }\n",
              "\n",
              "  [theme=dark] .colab-df-quickchart:hover {\n",
              "    background-color: #434B5C;\n",
              "    box-shadow: 0px 1px 3px 1px rgba(0, 0, 0, 0.15);\n",
              "    filter: drop-shadow(0px 1px 2px rgba(0, 0, 0, 0.3));\n",
              "    fill: #FFFFFF;\n",
              "  }\n",
              "</style>\n",
              "\n",
              "    <script>\n",
              "      async function quickchart(key) {\n",
              "        const containerElement = document.querySelector('#' + key);\n",
              "        const charts = await google.colab.kernel.invokeFunction(\n",
              "            'suggestCharts', [key], {});\n",
              "      }\n",
              "    </script>\n",
              "\n",
              "      <script>\n",
              "\n",
              "function displayQuickchartButton(domScope) {\n",
              "  let quickchartButtonEl =\n",
              "    domScope.querySelector('#df-67e6a234-5ef9-4c53-b62e-9d53f68d9e47 button.colab-df-quickchart');\n",
              "  quickchartButtonEl.style.display =\n",
              "    google.colab.kernel.accessAllowed ? 'block' : 'none';\n",
              "}\n",
              "\n",
              "        displayQuickchartButton(document);\n",
              "      </script>\n",
              "      <style>\n",
              "    .colab-df-container {\n",
              "      display:flex;\n",
              "      flex-wrap:wrap;\n",
              "      gap: 12px;\n",
              "    }\n",
              "\n",
              "    .colab-df-convert {\n",
              "      background-color: #E8F0FE;\n",
              "      border: none;\n",
              "      border-radius: 50%;\n",
              "      cursor: pointer;\n",
              "      display: none;\n",
              "      fill: #1967D2;\n",
              "      height: 32px;\n",
              "      padding: 0 0 0 0;\n",
              "      width: 32px;\n",
              "    }\n",
              "\n",
              "    .colab-df-convert:hover {\n",
              "      background-color: #E2EBFA;\n",
              "      box-shadow: 0px 1px 2px rgba(60, 64, 67, 0.3), 0px 1px 3px 1px rgba(60, 64, 67, 0.15);\n",
              "      fill: #174EA6;\n",
              "    }\n",
              "\n",
              "    [theme=dark] .colab-df-convert {\n",
              "      background-color: #3B4455;\n",
              "      fill: #D2E3FC;\n",
              "    }\n",
              "\n",
              "    [theme=dark] .colab-df-convert:hover {\n",
              "      background-color: #434B5C;\n",
              "      box-shadow: 0px 1px 3px 1px rgba(0, 0, 0, 0.15);\n",
              "      filter: drop-shadow(0px 1px 2px rgba(0, 0, 0, 0.3));\n",
              "      fill: #FFFFFF;\n",
              "    }\n",
              "  </style>\n",
              "\n",
              "      <script>\n",
              "        const buttonEl =\n",
              "          document.querySelector('#df-3e46d349-375a-4a85-82c0-adff53f54cb6 button.colab-df-convert');\n",
              "        buttonEl.style.display =\n",
              "          google.colab.kernel.accessAllowed ? 'block' : 'none';\n",
              "\n",
              "        async function convertToInteractive(key) {\n",
              "          const element = document.querySelector('#df-3e46d349-375a-4a85-82c0-adff53f54cb6');\n",
              "          const dataTable =\n",
              "            await google.colab.kernel.invokeFunction('convertToInteractive',\n",
              "                                                     [key], {});\n",
              "          if (!dataTable) return;\n",
              "\n",
              "          const docLinkHtml = 'Like what you see? Visit the ' +\n",
              "            '<a target=\"_blank\" href=https://colab.research.google.com/notebooks/data_table.ipynb>data table notebook</a>'\n",
              "            + ' to learn more about interactive tables.';\n",
              "          element.innerHTML = '';\n",
              "          dataTable['output_type'] = 'display_data';\n",
              "          await google.colab.output.renderOutput(dataTable, element);\n",
              "          const docLink = document.createElement('div');\n",
              "          docLink.innerHTML = docLinkHtml;\n",
              "          element.appendChild(docLink);\n",
              "        }\n",
              "      </script>\n",
              "    </div>\n",
              "  </div>\n"
            ]
          },
          "metadata": {},
          "execution_count": 16
        }
      ]
    },
    {
      "cell_type": "code",
      "source": [
        "print(week1.shape)\n",
        "week1 = week1[(week1['total_dur'] < week1['total_dur'].std() * 3)]\n",
        "print(week1.shape)"
      ],
      "metadata": {
        "id": "db5t63xrYhUv",
        "colab": {
          "base_uri": "https://localhost:8080/"
        },
        "outputId": "35c756bc-5df6-41e4-facd-626b8f2f5f81"
      },
      "execution_count": null,
      "outputs": [
        {
          "output_type": "stream",
          "name": "stdout",
          "text": [
            "(185907, 2)\n",
            "(183790, 2)\n"
          ]
        }
      ]
    },
    {
      "cell_type": "markdown",
      "source": [
        "Данные не похожи на нормальное распределение: большинство людей смотрят понемногу, распределение не симметричное.\n",
        "\n",
        "Что это значит? Что самые популярные критерии (t-test, z-test) для нашей метрики \"длина просмотра\" не подойдут, так как они требуют условия на нормальность распределения"
      ],
      "metadata": {
        "id": "_bd4jtB4aSux"
      }
    },
    {
      "cell_type": "code",
      "source": [
        "week1['total_dur'].hist(bins=100)\n",
        "plt.ylim([0, 10000])\n",
        "plt.grid(False)"
      ],
      "metadata": {
        "colab": {
          "base_uri": "https://localhost:8080/",
          "height": 435
        },
        "id": "BdL_9SuOX1pA",
        "outputId": "52788e44-0698-45ad-a01e-89c718c7c996"
      },
      "execution_count": null,
      "outputs": [
        {
          "output_type": "display_data",
          "data": {
            "text/plain": [
              "<Figure size 640x480 with 1 Axes>"
            ],
            "image/png": "[encoded data removed]"
          },
          "metadata": {}
        }
      ]
    },
    {
      "cell_type": "markdown",
      "source": [
        "## Выбор критерия\n",
        "\n",
        "А что если использовать критерий Манна-Уитни?\n",
        "\n",
        "- Нормальность данных не требуется\n",
        "- Для него нужен ряд неповторяющихся уникальных значений (например: [23, 456, ... 67, 20])"
      ],
      "metadata": {
        "id": "poZBdYwobAWw"
      }
    },
    {
      "cell_type": "markdown",
      "source": [
        "## Алгоритм подбора похожих групп\n",
        "\n",
        "- Используем хэш функцию для этого. Посчитаем хэш от айди, найдем остаток от деления на 2 (так как 2 группы) и по остатку определим к какой группе относитсч пользователь. То есть по айди пользователя она разобьет всех пользователей на 2 группы."
      ],
      "metadata": {
        "id": "83h2DiOQq5tO"
      }
    },
    {
      "cell_type": "markdown",
      "source": [
        "### Умеем генерировать \"соль\"\n",
        "\n",
        "случайную строку, добавляемую к айдишникам при разбивке на группы по хэшу.\n",
        "\n",
        "- В качестве неслучайного значения можно использовать номер задачи в Jira или дату.\n",
        "\n",
        "\n",
        "- Не забудьте логировать значения соли ваших экспериментов!"
      ],
      "metadata": {
        "id": "bZ_WPjcEgUo2"
      }
    },
    {
      "cell_type": "code",
      "source": [
        "def salt_generator():\n",
        "  salt = os.urandom(8)\n",
        "  return base64.b64encode(salt).decode('ascii')\n",
        "\n",
        "\n",
        "def get_salt(user_salt=None, save_salt=True):\n",
        "\n",
        "  # соль задает пользователь или генерируем\n",
        "  if user_salt:\n",
        "      salt = user_salt\n",
        "  else:\n",
        "      salt = salt_generator()\n",
        "\n",
        "  # логируем соль\n",
        "  if save_salt:\n",
        "      today = datetime.today().date().strftime('%Y-%m-%d')\n",
        "      with open(f\"salt_{today}.txt\", 'w') as f:\n",
        "          f.write(salt)\n",
        "  return salt\n",
        "\n",
        "\n",
        "# попробуйте запустить несколько раз и посмотрите на результат\n",
        "salt_generator()"
      ],
      "metadata": {
        "colab": {
          "base_uri": "https://localhost:8080/",
          "height": 35
        },
        "id": "DLZ_rJ_PgTRQ",
        "outputId": "cbd7006a-5b0e-41fd-d2a5-2ed8a3f8a89e"
      },
      "execution_count": null,
      "outputs": [
        {
          "output_type": "execute_result",
          "data": {
            "text/plain": [
              "'6tTlnw5HZLU='"
            ],
            "application/vnd.google.colaboratory.intrinsic+json": {
              "type": "string"
            }
          },
          "metadata": {},
          "execution_count": 4
        }
      ]
    },
    {
      "cell_type": "markdown",
      "source": [
        "### Функция для разделения по хэшу (простой вариант)\n",
        "\n",
        "\n",
        "**Что такое хэш-функция?**\n",
        "\n",
        "![Hash_table_4_1_1_0_0_1_0_LL.svg (1).png](data:image/png;base64,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)\n",
        "\n",
        "Это функция, которая получает на вход строку любой длины, математически обрабатывает ее и вовзращает всегда последовательность одной и той же длины.\n",
        "\n",
        "- есть разные алгоритмы: MD5, MurMurHash, SHA256\n",
        "- обратно расшифровать нельзя (односторонняя)\n",
        "- равномерно распределяет входящие айдишники, что позволяет по % от деления на кол-во групп разделить их на группы\n"
      ],
      "metadata": {
        "id": "Mow9jvhgG28g"
      }
    },
    {
      "cell_type": "code",
      "source": [
        "def get_hash(df, col='user_id', save_salt=True):\n",
        "\n",
        "    salt = salt_generator()\n",
        "\n",
        "    # разбиваем id на 2 группы с использванием ф-ии хэширования mmh3 murmurhash\n",
        "    dfh = df.copy()\n",
        "    dfh['hash'] = dfh[col].apply(lambda x: mmh3.hash128(x + salt))\n",
        "    dfh['group'] = dfh['hash'] % 2\n",
        "    return dfh"
      ],
      "metadata": {
        "id": "P86hRpSJBwKf"
      },
      "execution_count": null,
      "outputs": []
    },
    {
      "cell_type": "markdown",
      "source": [
        "Метрику + критерий + как разбивать на группы - выбрали\n"
      ],
      "metadata": {
        "id": "3-aFdFMs44j3"
      }
    },
    {
      "cell_type": "markdown",
      "source": [
        "\n",
        "\n",
        "## Переходим к валидации критерия\n",
        "- оценка распределения p_value\n",
        "- оценка мощности\n",
        "- корректности\n",
        "\n",
        "**Распределения p_value** при корректном подборе пары метрика + критерий -  равномерное распределение\n",
        "\n",
        "**Достоверность (Корректность)** - вероятность того, что найдет различие, когда его нет\n",
        "\n",
        "$$significance = Pr(\\text{reject }H_0 | H_0 \\text{ is true})$$\n",
        "\n",
        "**Мощность** - вероятность того, что критерий найдет различие в случае, когда оно есть\n",
        "\n",
        "$$power = Pr(\\text{reject }H_0 | H_1 \\text{ is true})$$\n",
        "\n",
        "Увеличение мощности криетрия ведет к уменьшению вероятности ошибки второго рода"
      ],
      "metadata": {
        "id": "JkHQCd8GqKSr"
      }
    },
    {
      "cell_type": "code",
      "source": [
        "# делим пользователей на группы A и B по хэшу с использованием соли\n",
        "week1 = get_hash(week1)\n",
        "week1.head()"
      ],
      "metadata": {
        "colab": {
          "base_uri": "https://localhost:8080/",
          "height": 206
        },
        "id": "Q-K1slPlh3B3",
        "outputId": "7790756a-ba02-4888-f9c2-53857d7aab49"
      },
      "execution_count": null,
      "outputs": [
        {
          "output_type": "execute_result",
          "data": {
            "text/plain": [
              "   user_id  total_dur                                     hash group\n",
              "0        1       1593   31616602593376858590961068176264110605     1\n",
              "1  1000001         52    4559215917150515933503236474588028524     0\n",
              "2  1000003        625  103325062362555221559996585816529275466     0\n",
              "3  1000008       3691   75238598715006157485566931737896594252     0\n",
              "4  1000009       2444    7746817183065912724161281734650133015     1"
            ],
            "text/html": [
              "\n",
              "\n",
              "  <div id=\"df-837c0bef-280e-4ada-ac4d-d903957ed30d\">\n",
              "    <div class=\"colab-df-container\">\n",
              "      <div>\n",
              "<style scoped>\n",
              "    .dataframe tbody tr th:only-of-type {\n",
              "        vertical-align: middle;\n",
              "    }\n",
              "\n",
              "    .dataframe tbody tr th {\n",
              "        vertical-align: top;\n",
              "    }\n",
              "\n",
              "    .dataframe thead th {\n",
              "        text-align: right;\n",
              "    }\n",
              "</style>\n",
              "<table border=\"1\" class=\"dataframe\">\n",
              "  <thead>\n",
              "    <tr style=\"text-align: right;\">\n",
              "      <th></th>\n",
              "      <th>user_id</th>\n",
              "      <th>total_dur</th>\n",
              "      <th>hash</th>\n",
              "      <th>group</th>\n",
              "    </tr>\n",
              "  </thead>\n",
              "  <tbody>\n",
              "    <tr>\n",
              "      <th>0</th>\n",
              "      <td>1</td>\n",
              "      <td>1593</td>\n",
              "      <td>31616602593376858590961068176264110605</td>\n",
              "      <td>1</td>\n",
              "    </tr>\n",
              "    <tr>\n",
              "      <th>1</th>\n",
              "      <td>1000001</td>\n",
              "      <td>52</td>\n",
              "      <td>4559215917150515933503236474588028524</td>\n",
              "      <td>0</td>\n",
              "    </tr>\n",
              "    <tr>\n",
              "      <th>2</th>\n",
              "      <td>1000003</td>\n",
              "      <td>625</td>\n",
              "      <td>103325062362555221559996585816529275466</td>\n",
              "      <td>0</td>\n",
              "    </tr>\n",
              "    <tr>\n",
              "      <th>3</th>\n",
              "      <td>1000008</td>\n",
              "      <td>3691</td>\n",
              "      <td>75238598715006157485566931737896594252</td>\n",
              "      <td>0</td>\n",
              "    </tr>\n",
              "    <tr>\n",
              "      <th>4</th>\n",
              "      <td>1000009</td>\n",
              "      <td>2444</td>\n",
              "      <td>7746817183065912724161281734650133015</td>\n",
              "      <td>1</td>\n",
              "    </tr>\n",
              "  </tbody>\n",
              "</table>\n",
              "</div>\n",
              "      <button class=\"colab-df-convert\" onclick=\"convertToInteractive('df-837c0bef-280e-4ada-ac4d-d903957ed30d')\"\n",
              "              title=\"Convert this dataframe to an interactive table.\"\n",
              "              style=\"display:none;\">\n",
              "\n",
              "  <svg xmlns=\"http://www.w3.org/2000/svg\" height=\"24px\"viewBox=\"0 0 24 24\"\n",
              "       width=\"24px\">\n",
              "    <path d=\"M0 0h24v24H0V0z\" fill=\"none\"/>\n",
              "    <path d=\"M18.56 5.44l.94 2.06.94-2.06 2.06-.94-2.06-.94-.94-2.06-.94 2.06-2.06.94zm-11 1L8.5 8.5l.94-2.06 2.06-.94-2.06-.94L8.5 2.5l-.94 2.06-2.06.94zm10 10l.94 2.06.94-2.06 2.06-.94-2.06-.94-.94-2.06-.94 2.06-2.06.94z\"/><path d=\"M17.41 7.96l-1.37-1.37c-.4-.4-.92-.59-1.43-.59-.52 0-1.04.2-1.43.59L10.3 9.45l-7.72 7.72c-.78.78-.78 2.05 0 2.83L4 21.41c.39.39.9.59 1.41.59.51 0 1.02-.2 1.41-.59l7.78-7.78 2.81-2.81c.8-.78.8-2.07 0-2.86zM5.41 20L4 18.59l7.72-7.72 1.47 1.35L5.41 20z\"/>\n",
              "  </svg>\n",
              "      </button>\n",
              "\n",
              "\n",
              "\n",
              "    <div id=\"df-1969f186-be7e-49d8-8444-ab776633f555\">\n",
              "      <button class=\"colab-df-quickchart\" onclick=\"quickchart('df-1969f186-be7e-49d8-8444-ab776633f555')\"\n",
              "              title=\"Suggest charts.\"\n",
              "              style=\"display:none;\">\n",
              "\n",
              "<svg xmlns=\"http://www.w3.org/2000/svg\" height=\"24px\"viewBox=\"0 0 24 24\"\n",
              "     width=\"24px\">\n",
              "    <g>\n",
              "        <path d=\"M19 3H5c-1.1 0-2 .9-2 2v14c0 1.1.9 2 2 2h14c1.1 0 2-.9 2-2V5c0-1.1-.9-2-2-2zM9 17H7v-7h2v7zm4 0h-2V7h2v10zm4 0h-2v-4h2v4z\"/>\n",
              "    </g>\n",
              "</svg>\n",
              "      </button>\n",
              "    </div>\n",
              "\n",
              "<style>\n",
              "  .colab-df-quickchart {\n",
              "    background-color: #E8F0FE;\n",
              "    border: none;\n",
              "    border-radius: 50%;\n",
              "    cursor: pointer;\n",
              "    display: none;\n",
              "    fill: #1967D2;\n",
              "    height: 32px;\n",
              "    padding: 0 0 0 0;\n",
              "    width: 32px;\n",
              "  }\n",
              "\n",
              "  .colab-df-quickchart:hover {\n",
              "    background-color: #E2EBFA;\n",
              "    box-shadow: 0px 1px 2px rgba(60, 64, 67, 0.3), 0px 1px 3px 1px rgba(60, 64, 67, 0.15);\n",
              "    fill: #174EA6;\n",
              "  }\n",
              "\n",
              "  [theme=dark] .colab-df-quickchart {\n",
              "    background-color: #3B4455;\n",
              "    fill: #D2E3FC;\n",
              "  }\n",
              "\n",
              "  [theme=dark] .colab-df-quickchart:hover {\n",
              "    background-color: #434B5C;\n",
              "    box-shadow: 0px 1px 3px 1px rgba(0, 0, 0, 0.15);\n",
              "    filter: drop-shadow(0px 1px 2px rgba(0, 0, 0, 0.3));\n",
              "    fill: #FFFFFF;\n",
              "  }\n",
              "</style>\n",
              "\n",
              "    <script>\n",
              "      async function quickchart(key) {\n",
              "        const containerElement = document.querySelector('#' + key);\n",
              "        const charts = await google.colab.kernel.invokeFunction(\n",
              "            'suggestCharts', [key], {});\n",
              "      }\n",
              "    </script>\n",
              "\n",
              "      <script>\n",
              "\n",
              "function displayQuickchartButton(domScope) {\n",
              "  let quickchartButtonEl =\n",
              "    domScope.querySelector('#df-1969f186-be7e-49d8-8444-ab776633f555 button.colab-df-quickchart');\n",
              "  quickchartButtonEl.style.display =\n",
              "    google.colab.kernel.accessAllowed ? 'block' : 'none';\n",
              "}\n",
              "\n",
              "        displayQuickchartButton(document);\n",
              "      </script>\n",
              "      <style>\n",
              "    .colab-df-container {\n",
              "      display:flex;\n",
              "      flex-wrap:wrap;\n",
              "      gap: 12px;\n",
              "    }\n",
              "\n",
              "    .colab-df-convert {\n",
              "      background-color: #E8F0FE;\n",
              "      border: none;\n",
              "      border-radius: 50%;\n",
              "      cursor: pointer;\n",
              "      display: none;\n",
              "      fill: #1967D2;\n",
              "      height: 32px;\n",
              "      padding: 0 0 0 0;\n",
              "      width: 32px;\n",
              "    }\n",
              "\n",
              "    .colab-df-convert:hover {\n",
              "      background-color: #E2EBFA;\n",
              "      box-shadow: 0px 1px 2px rgba(60, 64, 67, 0.3), 0px 1px 3px 1px rgba(60, 64, 67, 0.15);\n",
              "      fill: #174EA6;\n",
              "    }\n",
              "\n",
              "    [theme=dark] .colab-df-convert {\n",
              "      background-color: #3B4455;\n",
              "      fill: #D2E3FC;\n",
              "    }\n",
              "\n",
              "    [theme=dark] .colab-df-convert:hover {\n",
              "      background-color: #434B5C;\n",
              "      box-shadow: 0px 1px 3px 1px rgba(0, 0, 0, 0.15);\n",
              "      filter: drop-shadow(0px 1px 2px rgba(0, 0, 0, 0.3));\n",
              "      fill: #FFFFFF;\n",
              "    }\n",
              "  </style>\n",
              "\n",
              "      <script>\n",
              "        const buttonEl =\n",
              "          document.querySelector('#df-837c0bef-280e-4ada-ac4d-d903957ed30d button.colab-df-convert');\n",
              "        buttonEl.style.display =\n",
              "          google.colab.kernel.accessAllowed ? 'block' : 'none';\n",
              "\n",
              "        async function convertToInteractive(key) {\n",
              "          const element = document.querySelector('#df-837c0bef-280e-4ada-ac4d-d903957ed30d');\n",
              "          const dataTable =\n",
              "            await google.colab.kernel.invokeFunction('convertToInteractive',\n",
              "                                                     [key], {});\n",
              "          if (!dataTable) return;\n",
              "\n",
              "          const docLinkHtml = 'Like what you see? Visit the ' +\n",
              "            '<a target=\"_blank\" href=https://colab.research.google.com/notebooks/data_table.ipynb>data table notebook</a>'\n",
              "            + ' to learn more about interactive tables.';\n",
              "          element.innerHTML = '';\n",
              "          dataTable['output_type'] = 'display_data';\n",
              "          await google.colab.output.renderOutput(dataTable, element);\n",
              "          const docLink = document.createElement('div');\n",
              "          docLink.innerHTML = docLinkHtml;\n",
              "          element.appendChild(docLink);\n",
              "        }\n",
              "      </script>\n",
              "    </div>\n",
              "  </div>\n"
            ]
          },
          "metadata": {},
          "execution_count": 21
        }
      ]
    },
    {
      "cell_type": "code",
      "source": [
        "from scipy.stats import mannwhitneyu\n",
        "\n",
        "# проверим, как работает код критерия\n",
        "u, p = mannwhitneyu(week1[week1['group'] == 0]['total_dur'].values,\n",
        "                    week1[week1['group'] == 1]['total_dur'].values)\n",
        "\n",
        "print(f\"Значение статистики = {u}, p_value = {p}\")"
      ],
      "metadata": {
        "colab": {
          "base_uri": "https://localhost:8080/"
        },
        "id": "YoeAg0HIlVbH",
        "outputId": "6f1cabae-3752-4b70-eaaf-e7cf44d9388b"
      },
      "execution_count": null,
      "outputs": [
        {
          "output_type": "stream",
          "name": "stdout",
          "text": [
            "Значение статистики = 4228063328.5, p_value = 0.6122532410175612\n"
          ]
        }
      ]
    },
    {
      "cell_type": "markdown",
      "source": [
        "Проверка распределения p_value - должно быть равномерное"
      ],
      "metadata": {
        "id": "awBI6zZcmNCV"
      }
    },
    {
      "cell_type": "code",
      "source": [
        "pvalues = []\n",
        "\n",
        "for i in tqdm(range(100)):  # 1000\n",
        "\n",
        "  week1_hash = get_hash(week1, save_salt=False)\n",
        "\n",
        "  u, p = mannwhitneyu(\n",
        "        week1_hash[week1_hash['group'] == 0]['total_dur'].values,\n",
        "        week1_hash[week1_hash['group'] == 1]['total_dur'].values\n",
        "    )\n",
        "  pvalues.append(p)"
      ],
      "metadata": {
        "colab": {
          "base_uri": "https://localhost:8080/",
          "height": 49,
          "referenced_widgets": [
            "9c2b27090e47456f95cefeb32a5d63d9",
            "2948e3a8e50245eb9a710e304ec16a41",
            "795844f4beca4e27aafb7343aa369436",
            "0c59c437952a4884b4b1c7b10271282e",
            "3dfc2b88f65a45e4bf67499ebb03eb20",
            "22b2d027285b4705b299f6a4c36fcbed",
            "827e024a848b4fd58890ff575b57243d",
            "188aa373644d40c6902345f7356280b1",
            "56d10d36c63742b6afc436ef989afa46",
            "d05bc3a5751243b9b810d81f5c22d7d6",
            "bd89aba7208a47d68eec972bd349ca32"
          ]
        },
        "id": "S5bH2azpXmVS",
        "outputId": "95ef9d9a-7ca8-4a3d-9e4a-1ba44d86ea7b"
      },
      "execution_count": null,
      "outputs": [
        {
          "output_type": "display_data",
          "data": {
            "text/plain": [
              "  0%|          | 0/100 [00:00<?, ?it/s]"
            ],
            "application/vnd.jupyter.widget-view+json": {
              "version_major": 2,
              "version_minor": 0,
              "model_id": "9c2b27090e47456f95cefeb32a5d63d9"
            }
          },
          "metadata": {}
        }
      ]
    },
    {
      "cell_type": "code",
      "source": [
        "plt.hist(pvalues, bins=10, color='purple');"
      ],
      "metadata": {
        "colab": {
          "base_uri": "https://localhost:8080/",
          "height": 430
        },
        "id": "6uMMaNXycrqy",
        "outputId": "1f58b273-e671-445d-b2ec-5fce78f4b5c4"
      },
      "execution_count": null,
      "outputs": [
        {
          "output_type": "display_data",
          "data": {
            "text/plain": [
              "<Figure size 640x480 with 1 Axes>"
            ],
            "image/png": "[encoded data removed]"
          },
          "metadata": {}
        }
      ]
    },
    {
      "cell_type": "markdown",
      "source": [
        "Ой. Кажется критерий Манна-Уитни не подходит. А почему так произошло?"
      ],
      "metadata": {
        "id": "08-o_9U9-KUV"
      }
    },
    {
      "cell_type": "code",
      "source": [
        "for i in tqdm(range(10)):\n",
        "\n",
        "  week1_hash = get_hash(week1, save_salt=False)\n",
        "\n",
        "  group_a = week1_hash[week1_hash['group'] == 0]\n",
        "  group_b = week1_hash[week1_hash['group'] == 1]\n",
        "\n",
        "  print(f\"% уник. значений группы А = {round(group_a['total_dur'].nunique() / group_a.shape[0] * 100, 2)}\")\n",
        "  print(f\"% уник. значений группы B = {round(group_b['total_dur'].nunique() / group_b.shape[0] * 100, 2)}\")\n",
        "  print('')\n"
      ],
      "metadata": {
        "colab": {
          "base_uri": "https://localhost:8080/",
          "height": 585,
          "referenced_widgets": [
            "272b1474d9474970a8fd8c33f6721c8d",
            "96d8a03d092f4182a5a60ba166fe3329",
            "12ba1de1445348de9a8713e8550fb6bc",
            "733a516965c44c19910a96e913909c9d",
            "40caeaf6888c4a458817738dca4bf662",
            "cb4718c744d841529cc7cca833406617",
            "ef77a08e904942dfaedafde42569f7a3",
            "02c6d5c0fd564f09b67f6f098a4fb4f5",
            "6c47cc0d21ab4064b747905a151d7af1",
            "54cbf4e379274f83bc0c922820e90ce8",
            "a243dfe756024c9ba15e1d2b72d5c590"
          ]
        },
        "id": "pZsOaNlZoiEY",
        "outputId": "8906faa6-f4ef-4e81-994c-e62db3c80dcd"
      },
      "execution_count": null,
      "outputs": [
        {
          "output_type": "display_data",
          "data": {
            "text/plain": [
              "  0%|          | 0/10 [00:00<?, ?it/s]"
            ],
            "application/vnd.jupyter.widget-view+json": {
              "version_major": 2,
              "version_minor": 0,
              "model_id": "272b1474d9474970a8fd8c33f6721c8d"
            }
          },
          "metadata": {}
        },
        {
          "output_type": "stream",
          "name": "stdout",
          "text": [
            "% уник. значений группы А = 34.39\n",
            "% уник. значений группы B = 34.51\n",
            "\n",
            "% уник. значений группы А = 34.34\n",
            "% уник. значений группы B = 34.53\n",
            "\n",
            "% уник. значений группы А = 34.36\n",
            "% уник. значений группы B = 34.51\n",
            "\n",
            "% уник. значений группы А = 34.46\n",
            "% уник. значений группы B = 34.37\n",
            "\n",
            "% уник. значений группы А = 34.39\n",
            "% уник. значений группы B = 34.51\n",
            "\n",
            "% уник. значений группы А = 34.37\n",
            "% уник. значений группы B = 34.41\n",
            "\n",
            "% уник. значений группы А = 34.6\n",
            "% уник. значений группы B = 34.37\n",
            "\n",
            "% уник. значений группы А = 34.33\n",
            "% уник. значений группы B = 34.53\n",
            "\n",
            "% уник. значений группы А = 34.47\n",
            "% уник. значений группы B = 34.32\n",
            "\n",
            "% уник. значений группы А = 34.49\n",
            "% уник. значений группы B = 34.43\n",
            "\n"
          ]
        }
      ]
    },
    {
      "cell_type": "markdown",
      "source": [
        "Кажется мы все-таки нарушили область применимости критерия - значения длины просмотра на пользователя не настолько уникальны, как нам показалось сначала. Что ж - это реальные данные.\n",
        "\n",
        "Но так как мы следовали четко по алгоритму дизайна, ошибку удалось обнаружить достаточно рано.\n"
      ],
      "metadata": {
        "id": "o_W4kEMr_rt1"
      }
    },
    {
      "cell_type": "markdown",
      "source": [
        "# Вариант дизайна 2\n",
        "\n"
      ],
      "metadata": {
        "id": "6pRnIkeN_0SZ"
      }
    },
    {
      "cell_type": "markdown",
      "source": [
        "## Выбор метрики: длина просмотра на пользователя\n",
        "\n",
        "- оставляем метрику \"spend\" = длину просмотра на пользователя (total_dur в датасете)\n",
        "\n",
        "- хотим, чтобы в тесте в группе B средняя длина просмотра на пользователя увеличилась\n"
      ],
      "metadata": {
        "id": "bLSCa-aBgTGp"
      }
    },
    {
      "cell_type": "markdown",
      "source": [
        "## Критерий - бутстрап (bootstrap)\n",
        "\n",
        "## `Как работает (теория)`\n",
        "\n",
        "- Для каждой группы A и B m раз генерируются псевдовыборки из\n",
        "исходной выборки как выборки с возвращением\n",
        "\n",
        "- На каждой паре псевдовыборок считается некоторая\n",
        "статистика, которую мы оцениваем\n",
        "\n",
        "- Дальше строим доверительный интервал для накопленных\n",
        "статистик между псевдовыборками [2.5%; 97.5 %]\n",
        "\n",
        "- Считаем квантили\n",
        "\n",
        "- Смотрим, где лежит наша статистика в этом распределении\n",
        "\n",
        "## `Как реализуем на практике`\n",
        "\n",
        "Реализуем цикл (рекомендация - повторение не менее 1000 раз), на каждом шаге которого:\n",
        "\n",
        "- создаем выборку с возвращением\n",
        "\n",
        "- считаем ее среднее\n",
        "\n",
        "- возвращаем квантили распределения средних (из цикла)\n",
        "\n",
        "- далее будем смотреть, вошел ли 0 в этот интервал\n"
      ],
      "metadata": {
        "id": "RXs9gfPggXoZ"
      }
    },
    {
      "cell_type": "code",
      "source": [
        "def bootstrap_mean_diff_ci(data_fst, data_snd, alpha=0.05,\n",
        "                           iters=1000, return_distribution=False):\n",
        "    values = []\n",
        "    for _ in range(iters):\n",
        "        values.append(\n",
        "            np.random.choice(data_fst, replace=True, size=len(data_fst)).mean()\n",
        "            -\n",
        "            np.random.choice(data_snd, replace=True, size=len(data_snd)).mean()\n",
        "        )\n",
        "\n",
        "    if return_distribution:\n",
        "        return values, np.percentile(values, [100 * alpha / 2., 100 * (1 - alpha / 2.)])\n",
        "    else:\n",
        "        return np.percentile(values, [100 * alpha / 2., 100 * (1 - alpha / 2.)])\n"
      ],
      "metadata": {
        "id": "m8-0S_J9GltY"
      },
      "execution_count": null,
      "outputs": []
    },
    {
      "cell_type": "markdown",
      "source": [
        "## Валидируем корректноcть (significance)\n",
        "\n",
        "Моделируем AA-test: прогоняем бутстрап критерий, не добавляя эффект к группе В. Хотим, чтобы критерий НЕ нашел различий в выборках. Если точнее, то нашел не более чем  $\\alpha$ случаях.\n",
        "\n",
        "Заодно перепишем функцию, которая считает хэш, так, чтобы она работала быстрее. Используем для этого битовую маску от хэша, по которой мы сможем делить пользователей на 2 группы.\n"
      ],
      "metadata": {
        "id": "xpIxnFcB4drp"
      }
    },
    {
      "cell_type": "code",
      "source": [
        "def get_hash_mask(df, hash_col='user_id',\n",
        "                  user_salt=None,\n",
        "                  save_salt=False):\n",
        "\n",
        "  \"\"\"speeding up splitting on A, B groups by getting bytes representation\"\"\"\n",
        "\n",
        "  salt = get_salt(user_salt=user_salt, save_salt=save_salt)\n",
        "\n",
        "  dfh = df.copy()\n",
        "\n",
        "  dfh['hash'] = dfh[hash_col].apply(lambda x: mmh3.hash128(x + salt))\n",
        "  dfh['hash'] = dfh['hash'].map(lambda x: x.to_bytes(128//8, byteorder='big'))\n",
        "\n",
        "  dfh['hash'] = dfh['hash'].map(lambda x: np.array(list(x), dtype=np.uint8))\n",
        "  bits = dfh['hash'].map(np.unpackbits).values\n",
        "  bits = np.stack(bits)\n",
        "  return bits\n"
      ],
      "metadata": {
        "id": "yO9eHJCzDcWC"
      },
      "execution_count": null,
      "outputs": []
    },
    {
      "cell_type": "code",
      "source": [
        "N = 10\n",
        "significance_list = []\n",
        "value_list = []\n",
        "\n",
        "for i in tqdm(range(N)):\n",
        "  bits = get_hash_mask(week1, hash_col='user_id')\n",
        "\n",
        "  for j in range(bits.shape[1]):\n",
        "\n",
        "    sample_1 = shuffle(\n",
        "                week1[bits[:, j] == 0]['total_dur'].values\n",
        "            )\n",
        "\n",
        "    sample_2 = shuffle(\n",
        "                week1[bits[:, j] == 1]['total_dur'].values,\n",
        "            )\n",
        "\n",
        "    values, (left_side, right_side) = bootstrap_mean_diff_ci(\n",
        "        sample_1,\n",
        "        sample_2,\n",
        "        iters=1000,  # iters = 1000 для реальных данных\n",
        "        return_distribution=True\n",
        "    )\n",
        "\n",
        "    significance_list.append(not left_side <= 0 <= right_side)\n",
        "    value_list.append(values)\n"
      ],
      "metadata": {
        "colab": {
          "base_uri": "https://localhost:8080/",
          "height": 49,
          "referenced_widgets": [
            "a6e76f4ad4c64f48b5d2e90ca6ff63b4",
            "a8714040356549728fd6df558efbe401",
            "b66a50d6ab5d4bfe890a47c2be993809",
            "9e1715d6cd1e443cb0ee65417eee7284",
            "da82c69874414c37b58ea663bd25ab9c",
            "0bf769565e1044e8a2d06e4379ea48fc",
            "f5768cfee5bb4a3da283d535f86512f0",
            "1f651d785b59466b8567d1065adcad3f",
            "c38ddf9d69414ff58f8b753233fcbaa6",
            "fda0893807254547b69f0f05360dbe5f",
            "b84d393b68b84ecd8233a138df11820a"
          ]
        },
        "id": "IBGAXhx5z0RP",
        "outputId": "e8911296-500b-4128-a540-d868ba8b5c24"
      },
      "execution_count": null,
      "outputs": [
        {
          "output_type": "display_data",
          "data": {
            "text/plain": [
              "  0%|          | 0/10 [00:00<?, ?it/s]"
            ],
            "application/vnd.jupyter.widget-view+json": {
              "version_major": 2,
              "version_minor": 0,
              "model_id": "a6e76f4ad4c64f48b5d2e90ca6ff63b4"
            }
          },
          "metadata": {}
        }
      ]
    },
    {
      "cell_type": "code",
      "source": [
        "# посчитаем значения p_value по определению p-value = P(TS | H_0 is true)\n",
        "# передадим в get_p_value разницы средних от бутстрапа\n",
        "\n",
        "def get_p_value(dist):\n",
        "    dist = np.array(dist)\n",
        "    x = (dist > 0).mean()\n",
        "    pvalue = min(x, 1 - x) * 2\n",
        "    return pvalue\n",
        "\n",
        "p_values = [get_p_value(dist) for dist in value_list]"
      ],
      "metadata": {
        "id": "SlaYTiB678tm"
      },
      "execution_count": null,
      "outputs": []
    },
    {
      "cell_type": "code",
      "source": [
        "plt.hist(p_values, bins=10, color='purple');\n",
        "plt.title(f\"Бутстреп распределение p_value\\nsignificance = {np.round(np.mean(significance_list), 2)}\")"
      ],
      "metadata": {
        "colab": {
          "base_uri": "https://localhost:8080/",
          "height": 491
        },
        "id": "mE6ITOJVrIPu",
        "outputId": "6e8de487-f413-411e-e4c4-e7aa73325d6e"
      },
      "execution_count": null,
      "outputs": [
        {
          "output_type": "execute_result",
          "data": {
            "text/plain": [
              "Text(0.5, 1.0, 'Бутстреп распределение p_value\\nsignificance = 0.06')"
            ]
          },
          "metadata": {},
          "execution_count": 38
        },
        {
          "output_type": "display_data",
          "data": {
            "text/plain": [
              "<Figure size 640x480 with 1 Axes>"
            ],
            "image/png": "[encoded data removed]"
          },
          "metadata": {}
        }
      ]
    },
    {
      "cell_type": "markdown",
      "source": [
        "Давайте еще проверим критерием Колмогорова-Смирнова (о том, что получившееся распределение p_values есть равномерное распределение). Здесь нужно держать в уме, что критерий не очень мощный (помним, что мощный от 80% случаев найденных различий)"
      ],
      "metadata": {
        "id": "T5uCarQKychL"
      }
    },
    {
      "cell_type": "code",
      "source": [
        "import scipy.stats\n",
        "\n",
        "stat, p_value = scipy.stats.kstest(p_values, scipy.stats.uniform(loc=0.0, scale=1.0).cdf)\n",
        "\n",
        "if p_value < 0.05:\n",
        "  print(f'p_value = {p_value} - p_values неравномерное распределение')\n",
        "else:\n",
        "  print(f'p_value = {p_value} - p_values равномерное распределение')"
      ],
      "metadata": {
        "colab": {
          "base_uri": "https://localhost:8080/"
        },
        "id": "vEj4z0A7yzJV",
        "outputId": "c219f87a-9e1d-479d-e4f1-2e5a4291797d"
      },
      "execution_count": null,
      "outputs": [
        {
          "output_type": "stream",
          "name": "stdout",
          "text": [
            "p_value = 0.9625983343072511 - p_values равномерное распределение\n"
          ]
        }
      ]
    },
    {
      "cell_type": "markdown",
      "source": [
        "## Валидируем мощность\n",
        "\n",
        "Будем добавлять эффект в виде умножения значений в группе B на (1 + multiplier)"
      ],
      "metadata": {
        "id": "Xbm9Eip82iaB"
      }
    },
    {
      "cell_type": "code",
      "source": [
        "def count_multiplier(effect, mean):\n",
        "    \"\"\"mean * k = mean + effect\n",
        "    k = effect / mean + 1\n",
        "    k = 1 + multiplier\n",
        "    multiplier = effect / mean\"\"\"\n",
        "\n",
        "    return effect / mean"
      ],
      "metadata": {
        "id": "Xi4e4OCjG9RU"
      },
      "execution_count": null,
      "outputs": []
    },
    {
      "cell_type": "code",
      "source": [
        "N = 10\n",
        "power_list = []\n",
        "effect_list = [(week1['total_dur'].mean() / 100) * percent for percent in [1, 3, 5]]\n",
        "\n",
        "for effect in effect_list:\n",
        "\n",
        "    power = []\n",
        "    for i in tqdm(range(N)):\n",
        "        bits = get_hash_mask(week1, hash_col='user_id')\n",
        "\n",
        "        for j in range(bits.shape[1]):\n",
        "\n",
        "            sample_1 = shuffle(week1[bits[:, j] == 0]['total_dur'].values)\n",
        "            sample_2 = shuffle(week1[bits[:, j] == 1]['total_dur'].values)\n",
        "\n",
        "            multiplier = count_multiplier(effect, sample_2.mean())\n",
        "\n",
        "            left_side, right_side = bootstrap_mean_diff_ci(\n",
        "              sample_1,\n",
        "              sample_2 * (1 + multiplier),\n",
        "              iters=100,  # iters = 1000 для реальных данных\n",
        "              return_distribution=False\n",
        "            )\n",
        "\n",
        "            power.append(not left_side <= 0 <= right_side)\n",
        "\n",
        "    power_list.append(power)"
      ],
      "metadata": {
        "colab": {
          "base_uri": "https://localhost:8080/",
          "height": 113,
          "referenced_widgets": [
            "cfbc765764ff44208e660990fe77b8e0",
            "cc752c92dff14327b88fb40ec5d8351e",
            "04780d69c8a74afe9bb55d9deaf37a12",
            "5a1ce0e45ae6413295a66b129ec2b4e6",
            "11436af669fd4cf4bd1e84d2571314da",
            "f8edfa53e8c442688991e7fce65c4928",
            "08470f63b65c4451a4b155b66860fd22",
            "b6f6221471724ccb9f3f250cb69af287",
            "51bd97452783432fbae634d90058311e",
            "f246b11140ac49ed923980646473edfc",
            "9c9c566bb94a4a78a6758aad6ed9fa44",
            "69daea023cb242269e7da31ea4557597",
            "81cdd4c1b16c4f8cbcfa7231e8c39150",
            "52a69e63faad433baf91f78c539e34dc",
            "aeb8da78848b4f89808aa662cc31603c",
            "2e2fce27153b44e48e75f26eb4d17904",
            "1d896661ec7d4cc0b5e88ae2db0cd365",
            "b79c120045c54ab29510eb344bdf3b48",
            "6be4f47da0c244b6a6f8bffabdecc82f",
            "09399476985344219cd0193bb4185ceb",
            "0a2ec28efac247b0b693343a2a9d38c1",
            "635d2f4d8a77427a82ede636847aed31",
            "d252c6b3febf402ab32fb6ae3ce5bef3",
            "924f4b8c60544bb9adae5abb3641a7e4",
            "065d09539cb54d38a5fcad926d6c5437",
            "f73fe5cbd3c649cbadc8b3d41e012bb5",
            "9770d95e866a48c49994db658ad577c0",
            "aa77f705bc5740e7bf7112adaa5b7d2b",
            "eb9449307d3445299b389c82cda2eab7",
            "95d430f1600444f2a10364ef119b490a",
            "c26d8346be004a3e8b47366eeca01684",
            "501cbf83ec6e4e38a554a93ea80195a8",
            "d89dadaf08f649d1871774f2e95eb487"
          ]
        },
        "id": "nYF6hEFu_yuz",
        "outputId": "d3b66767-36e8-4586-b38d-2b0f01747f1a"
      },
      "execution_count": null,
      "outputs": [
        {
          "output_type": "display_data",
          "data": {
            "text/plain": [
              "  0%|          | 0/10 [00:00<?, ?it/s]"
            ],
            "application/vnd.jupyter.widget-view+json": {
              "version_major": 2,
              "version_minor": 0,
              "model_id": "cfbc765764ff44208e660990fe77b8e0"
            }
          },
          "metadata": {}
        },
        {
          "output_type": "display_data",
          "data": {
            "text/plain": [
              "  0%|          | 0/10 [00:00<?, ?it/s]"
            ],
            "application/vnd.jupyter.widget-view+json": {
              "version_major": 2,
              "version_minor": 0,
              "model_id": "69daea023cb242269e7da31ea4557597"
            }
          },
          "metadata": {}
        },
        {
          "output_type": "display_data",
          "data": {
            "text/plain": [
              "  0%|          | 0/10 [00:00<?, ?it/s]"
            ],
            "application/vnd.jupyter.widget-view+json": {
              "version_major": 2,
              "version_minor": 0,
              "model_id": "d252c6b3febf402ab32fb6ae3ce5bef3"
            }
          },
          "metadata": {}
        }
      ]
    },
    {
      "cell_type": "code",
      "source": [
        "def plot_power(effect_list, power_list, color='pink',\n",
        "               title='', verbose=True):\n",
        "\n",
        "    x = effect_list\n",
        "    y = [np.array(power_list[index]).mean() for index in range(len(effect_list))]\n",
        "\n",
        "    if verbose:\n",
        "        for effect, power in zip(x, y):\n",
        "            print(f\"вероятность, что бутстрап критерий найдет отличие в {effect}% = \"\n",
        "                  f\"{np.round(power, 2)}\")\n",
        "\n",
        "    fig, ax = plt.subplots(1,1)\n",
        "    ax.plot(x, y, marker='o', color=color)\n",
        "\n",
        "    ax.set_xticks(x)\n",
        "    ax.set_xticklabels([f\"{effect}\" for effect in effect_list])\n",
        "    ax.grid(False)\n",
        "    ax.set_ylim([0, 1.1])\n",
        "    plt.title(title)\n"
      ],
      "metadata": {
        "id": "rXjbMVwRq6ge"
      },
      "execution_count": null,
      "outputs": []
    },
    {
      "cell_type": "markdown",
      "source": [
        "Нас интересует мощность >= 0.8\n",
        "\n",
        "То есть это значит, что критерий находит различие там, где оно ЕСТЬ, в 80% случаях"
      ],
      "metadata": {
        "id": "qSSe9DsC2O9h"
      }
    },
    {
      "cell_type": "code",
      "source": [
        "plot_power([1, 3, 5], power_list, title='Power (effect)')"
      ],
      "metadata": {
        "colab": {
          "base_uri": "https://localhost:8080/",
          "height": 506
        },
        "id": "EWDMhSrr2NLA",
        "outputId": "22b1d3e8-53cb-4c79-c7ef-e44e8f3d3ec5"
      },
      "execution_count": null,
      "outputs": [
        {
          "output_type": "stream",
          "name": "stdout",
          "text": [
            "вероятность, что бутстрап критерий найдет отличие в 1% = 0.26\n",
            "вероятность, что бутстрап критерий найдет отличие в 3% = 0.96\n",
            "вероятность, что бутстрап критерий найдет отличие в 5% = 1.0\n"
          ]
        },
        {
          "output_type": "display_data",
          "data": {
            "text/plain": [
              "<Figure size 640x480 with 1 Axes>"
            ],
            "image/png": "[encoded data removed]"
          },
          "metadata": {}
        }
      ]
    },
    {
      "cell_type": "markdown",
      "source": [
        "Видим, что мощность больше 0.8 достигается только если мы будем пытаться обнаружить разницу между группами в 5%. Это довольно большая разница, значит следующим шагом будут эксперименты с размером выборки"
      ],
      "metadata": {
        "id": "KbCpi49oHdhj"
      }
    },
    {
      "cell_type": "markdown",
      "source": [
        "# Домашнее задание\n",
        "\n",
        "## Размер выборки (N)\n",
        "\n",
        "Выгрузите данные за 2 недели, выберите размер эффекта на ваш вкус и посчитайте мощность в зависимости от размера выборки"
      ],
      "metadata": {
        "id": "OKKuZ5rBP0Jx"
      }
    },
    {
      "cell_type": "code",
      "source": [
        "# week2 =\n"
      ],
      "metadata": {
        "id": "b0AJ0lSUlCmq"
      },
      "execution_count": null,
      "outputs": []
    },
    {
      "cell_type": "code",
      "source": [
        "# N = 10\n",
        "# power_list = []\n",
        "\n",
        "# считаем мощность при разных размерах выборки\n",
        "# for week in [week1, week2]:\n"
      ],
      "metadata": {
        "id": "FpYxm9C1lcAB"
      },
      "execution_count": null,
      "outputs": []
    },
    {
      "cell_type": "code",
      "source": [],
      "metadata": {
        "id": "5sVzy4CqPCVZ"
      },
      "execution_count": null,
      "outputs": []
    }
  ]
}